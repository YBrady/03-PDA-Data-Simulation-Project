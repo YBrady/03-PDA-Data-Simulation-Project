{
 "cells": [
  {
   "cell_type": "markdown",
   "metadata": {},
   "source": [
    "<img align=\"left\" src=\"images/GMIT-logo.png\" alt=\"GMIT\" width=\"220\"/>                                                      <img align=\"right\" src=\"images/data-analytics.png\" alt=\"HDipDA\" width=\"250\"/>  \n",
    "\n",
    "# <center>Programming for Data Analysis 2019 Project: Simulating Real World Data</center>  #"
   ]
  },
  {
   "cell_type": "markdown",
   "metadata": {},
   "source": [
    "***\n",
    "**Module Name**: Programming for Data Analysis  \n",
    "**Module Number**: 52465  \n",
    "**Student Name**: Yvonne Brady  \n",
    "**Student ID**: G00376355  \n",
    "***\n",
    "\n",
    "**Problem statement**  \n",
    "For this project you must create a data set by simulating a real-world phenomenon of your choosing. You may pick any phenomenon you wish – you might pick one that is of interest to you in your personal or professional life. Then, rather than collect data related to the phenomenon, you should model and synthesise such data using Python.  \n",
    "\n",
    "We suggest you use the numpy.random package for this purpose.  \n",
    "\n",
    "Specifically, in this project you should:\n",
    "* Choose a real-world phenomenon that can be measured and for which you could collect at least one-hundred data points across at least four different variables.  \n",
    "* Investigate the types of variables involved, their likely distributions, and their relationships with each other.\n",
    "* Synthesise/simulate a data set as closely matching their properties as possible.\n",
    "* Detail your research and implement the simulation in a Jupyter notebook – the data set itself can simply be displayed in an output cell within the notebook.  \n",
    "\n",
    "Note that this project is about simulation – you must synthesise a data set. Some\n",
    "students may already have some real-world data sets in their own files. It is okay to\n",
    "base your synthesised data set on these should you wish (please reference it if you do),\n",
    "but the main task in this project is to create a synthesised data set. "
   ]
  },
  {
   "cell_type": "markdown",
   "metadata": {},
   "source": [
    "# Table of Contents #\n",
    "1. [Introduction](#intro)  \n",
    "1.1 [Helper Functions](#help)\n",
    "2. [Dataset](#dataset)  \n",
    "2.1 [Cell Line](#cell_line)  \n",
    "2.2 [Bioreactor Size](#brSize)  \n",
    "2.3 [Average Temperature](#temp)  \n",
    "2.4 [Dissolved Oxygen](#do)  \n",
    "2.5 [Culture type](#culture)  \n",
    "2.6 [Peak Viable Cell Density](#cell_dens)  \n",
    "2.7 [Processing Time](#hours)  \n",
    "2.8 [No of alarms](#alarms)  \n",
    "2.9 [Yield](#yield)  \n",
    "2.10 [Net worth of batch](#worth)\n",
    "3. [Finishing Off the Dataset](#finish)\n",
    "4. [Describe New Dataset](#describe)\n",
    "5. [Conclusion](#conclusion)\n",
    "6. [References](#refs)"
   ]
  },
  {
   "cell_type": "markdown",
   "metadata": {},
   "source": [
    " ## <a name=\"intro\"></a>1. Introduction ## \n",
    "For my data simulation project I have chosen the production of biopharmaceuticals products, in particular monoclonal antibodies (mAbs). Naturally occurring antibodies are produced in the body as part of our immunological defence systems. Whenever we get a cough or cold, or indeed anything more serious, our bodies will produce antibodies to target whatever is causing the illness. This may be a bacterium, _e.g._ Strep throat caused by _Streptococcus pyogenes,_ a virus, in the case of a cold or flu, some foreign matter _e.g._ pollen which will result in hayfever or even the bodies own cells when they   become aged or damaged.   Because antibodies may be made to combat any substance that enters the body, they make ideal candidates to harness for therapeutic purposes.  \n",
    "\n",
    "When the body comes under attack by a substance called a pathogen, for example the common cold, special cells in the body will make antibodies to try and overcome this pathogen. In many cases this happens very successfully and we never even knew we fighting off the infection. Each of these special cells will make their own version of an antibody in the hope that one of them will be successful in overcoming the invader. The body monitors which ones are successful and subsequently  increase the production of the best fit antibody. \n",
    "\n",
    "To make a biopharmaceutical a single cell that is good at producing the antibody required is cloned repeatedly. This cloned cell is grown in a vessel called a bioreactor and encouraged to produce the antibody. The contents of the bioreactor are then removed, the antibody extracted and purified to produce the final biopharmaceutical product.  \n",
    "\n",
    "The data I have initially chosen to simulate for this project are:  \n",
    "\n",
    "* Cell line\n",
    "* Bioreactor Size  \n",
    "* Average Temperature   \n",
    "* Dissolved Oxygen  \n",
    "* Peak Viable Cell Density  \n",
    "* Processing Hours  \n",
    "* Culture type  \n",
    "* No of alarms  \n",
    "* Yield  \n",
    "* Net worth of batch  \n",
    "\n",
    "I will use the numpy random package as an aid to the data simulation [[1](#1)]."
   ]
  },
  {
   "cell_type": "markdown",
   "metadata": {},
   "source": [
    "### <a name=\"help\"></a>1.1 Helper Functions  \n",
    "\n",
    "There are a number of repetitive checks / transformations need to be done to the data being generated. This section houses any functions we need to perform these tasks. Many of these are due to the fact that the data being generated is random, so without using the seed function, we cannot predict exactly where the data will fall.  \n",
    "\n",
    "These functions include:\n",
    "* setLimits - to ensure that hard minimum or maximum values are held irrespective of data generated  \n",
    "\n",
    "Before we do anything however, we need first import the packages required."
   ]
  },
  {
   "cell_type": "code",
   "execution_count": 1,
   "metadata": {},
   "outputs": [],
   "source": [
    "import pandas as pd\n",
    "import numpy as np\n",
    "import matplotlib.pyplot as plt # plotting and as a basis for seaborn\n",
    "from scipy import stats # Caluclation of z-scores\n",
    "%matplotlib inline\n",
    "plt.rcParams['figure.figsize'] = [16, 6] # Setting the plot size"
   ]
  },
  {
   "cell_type": "code",
   "execution_count": 2,
   "metadata": {},
   "outputs": [],
   "source": [
    "# This function resets the minimum and maximum values\n",
    "# If there are hard set limits eg size of bioreactor cannot be negative, DO level cannot be above 6.7 etc\n",
    "# This does over-ride the normal or whatever distribution chosen, \n",
    "# but it gets rid of nonsense values and it is a simulation ...\n",
    "def setLimits(attList, minReq, maxReq, minVal, maxVal):\n",
    "    # Create a new list to return the corrected values\n",
    "    newList = []\n",
    "    # Loop through each item in the list\n",
    "    for att in attList:\n",
    "        # If we are checking for minimum values\n",
    "        # And the item is below the min value\n",
    "        if minReq and att < minVal:\n",
    "            # Reset to be minVal\n",
    "            att = minVal\n",
    "        # If we are checking for maximum values\n",
    "        # And the item is above the max value    \n",
    "        if maxReq and att > maxVal:\n",
    "            # Reset to be the maxVal\n",
    "            att = maxVal\n",
    "        # Create a new list with corrected values\n",
    "        newList.append(att)\n",
    "    # Return the new list\n",
    "    return newList"
   ]
  },
  {
   "cell_type": "markdown",
   "metadata": {},
   "source": [
    "## 2. <a name=\"dataset\"></a>The Dataset\n",
    "\n",
    "Of all the parameters I have chosen, the most influential of all is the cell type. There are three possible cell types and as almost every variable is dependent on the kind of cells used, the plan is to create three minidatasets which I will combine at the end. Each of these dataset will be 100 rows long.  \n",
    "\n",
    "To achieve this we must first import the python packages we need."
   ]
  },
  {
   "cell_type": "markdown",
   "metadata": {},
   "source": [
    "### <a name=\"cell_line\"></a>2.1 Cell Line \n",
    "This is the type of used to produce the antibody. While there are many types of cells utilised in biopharmaceutical production, for the purposes of this project I am ploying categorical data. The cell type may be -\n",
    "* Microbial cells (_e.g. E. coli._) - being unicellular, these cells are the easiest to grow, but can only produce basic proteins.  \n",
    "* Mammalian cell (_e.g._ CHO) - Chinese Hamster Ovary cells are frequently used in biopharmaceutical processing. They can produce complicated proteins but are harder to grow in vitro. Mammalian cells are used to being part of a larger organism that has specialised organs to look after for example waste disposal _etc._. They also rely on other organs for physical protection and anchorage _e.g._ bones and skin. Mammalian cells do not adapt well to being on their own in a bioreactor and as a result will grow much slower and be more susceptible to damage than microbial cells.  \n",
    "* Humanised CHOs - As the body recognises CHO-produced proteins as non-human, they elicit an immune response. CHOS may be genetically manipulated to become humanised. These CHOs produce more human like proteins which are better accepted by the body. This genetic manipulation further destabilises the cells however, making them more difficult again to grow.  \n",
    "\n",
    "This is a really important feature as many of the following attributes depend on the cell type. In general, the microbial cell line is more robust, mammalian (CHO) less so, and to a lesser extent the mammalian producing humanised protein even less so. For now, I will evenly split the sample size into three and assume there are equal number of each."
   ]
  },
  {
   "cell_type": "code",
   "execution_count": 3,
   "metadata": {},
   "outputs": [],
   "source": [
    "data = [\"Microbial\"]*100\n",
    "dfMicro = pd.DataFrame(data, columns = ['cell_line']) \n",
    "data = [\"CHO\"]*100\n",
    "dfMam = pd.DataFrame(data, columns = ['cell_line']) \n",
    "data = [\"vCHO\"]*100\n",
    "dfHum = pd.DataFrame(data, columns = ['cell_line']) \n",
    "\n",
    "# Create set of all three datasets\n",
    "datasets = [dfMicro, dfMam, dfHum]\n",
    "dsNames = [\"Microbial\", \"Mammalian\", \"Humanised\"]"
   ]
  },
  {
   "cell_type": "markdown",
   "metadata": {},
   "source": [
    "### <a name= brSize></a>2.2 Size of bioreactor\n",
    "THe size of the bioreactor The larger the bioreactor, the greater the amount of product produced. It takes more time for the cells to acclimatise to the bioreactor, particularly the mammalian cells (CHO and humanised CHO). For the purposes of the data simulation it is assumed there will be a uniform distribution of the bioreator sizes.\n"
   ]
  },
  {
   "cell_type": "code",
   "execution_count": 4,
   "metadata": {
    "scrolled": true
   },
   "outputs": [
    {
     "data": {
      "text/plain": [
       "<matplotlib.legend.Legend at 0x221f9cdf2e8>"
      ]
     },
     "execution_count": 4,
     "metadata": {},
     "output_type": "execute_result"
    },
    {
     "data": {
      "image/png": "[encoded data removed]",
      "text/plain": [
       "<Figure size 432x288 with 1 Axes>"
      ]
     },
     "metadata": {
      "needs_background": "light"
     },
     "output_type": "display_data"
    }
   ],
   "source": [
    "# Start with Bioreactor Size\n",
    "for dataset in datasets:\n",
    "    # This will be a uniformly distributed range of sizes from 500L to 10000L \n",
    "    brSize = 100 * np.random.randint(5, 101, 100)\n",
    "    dataset[\"br_size\"] = brSize\n",
    "    plt.hist(brSize, alpha = 0.5)\n",
    "\n",
    "plt.xlabel(\"Bioreactor Size L)\")\n",
    "plt.ylabel(\"Frequency\")\n",
    "plt.title(\"Bioreactor Size for each Cell Line Type\")\n",
    "plt.legend(dsNames)"
   ]
  },
  {
   "cell_type": "markdown",
   "metadata": {},
   "source": [
    "### <a name=\"temp\"></a>2.3 Average Temperature Reading  \n",
    "There are a number of parameters that are controlled and monitored as part of the cultivation of cells. One such parameter is the temperature. This is controlled via a control system (DCS - Distributed Control System, or PLC - Programmable Logic Controller). While the temperature is monitored and controlled throughout its cultivation time, it is taken for this dataset to be the mean throughout the process. This will be simulated to be a normal distributed attribute. The microbial cell lines have a good tolerance for temperature, while the mammalian cells do not. Mammalian cells are used to specific organs controlling the temperature of the body, _e.g._ blood, skin, kidneys _etc._ and have no cellular mechanism to do so on their own. As a result mammalian cells are much more susceptible to temperature fluctuations [[3](#3)].  "
   ]
  },
  {
   "cell_type": "code",
   "execution_count": 5,
   "metadata": {},
   "outputs": [
    {
     "data": {
      "text/plain": [
       "<matplotlib.legend.Legend at 0x221fa462198>"
      ]
     },
     "execution_count": 5,
     "metadata": {},
     "output_type": "execute_result"
    },
    {
     "data": {
      "image/png": "[encoded data removed]",
      "text/plain": [
       "<Figure size 432x288 with 1 Axes>"
      ]
     },
     "metadata": {
      "needs_background": "light"
     },
     "output_type": "display_data"
    }
   ],
   "source": [
    "# Simulate Average Temperature Readings\n",
    "mean_temp = 37.0\n",
    "std_temp = 0.5\n",
    "for dataset in datasets:\n",
    "    # This will be a normally distributed range with a mean of 37.0 degC \n",
    "    temp = np.random.normal(mean_temp, std_temp, 100)\n",
    "    dataset[\"avg_temp\"] = temp.round(1)\n",
    "    plt.hist(temp, alpha = 0.5)\n",
    "plt.xlabel(\"Average Temperature Readings (degC))\")\n",
    "plt.ylabel(\"Frequency\")\n",
    "plt.title(\"Average Temperature for each Cell Line Type\")\n",
    "plt.legend(dsNames)"
   ]
  },
  {
   "cell_type": "code",
   "execution_count": 6,
   "metadata": {},
   "outputs": [
    {
     "data": {
      "text/html": [
       "<div>\n",
       "<style scoped>\n",
       "    .dataframe tbody tr th:only-of-type {\n",
       "        vertical-align: middle;\n",
       "    }\n",
       "\n",
       "    .dataframe tbody tr th {\n",
       "        vertical-align: top;\n",
       "    }\n",
       "\n",
       "    .dataframe thead th {\n",
       "        text-align: right;\n",
       "    }\n",
       "</style>\n",
       "<table border=\"1\" class=\"dataframe\">\n",
       "  <thead>\n",
       "    <tr style=\"text-align: right;\">\n",
       "      <th></th>\n",
       "      <th>cell_line</th>\n",
       "      <th>br_size</th>\n",
       "      <th>avg_temp</th>\n",
       "    </tr>\n",
       "  </thead>\n",
       "  <tbody>\n",
       "    <tr>\n",
       "      <th>85</th>\n",
       "      <td>Microbial</td>\n",
       "      <td>6200</td>\n",
       "      <td>38.2</td>\n",
       "    </tr>\n",
       "    <tr>\n",
       "      <th>36</th>\n",
       "      <td>Microbial</td>\n",
       "      <td>9300</td>\n",
       "      <td>36.9</td>\n",
       "    </tr>\n",
       "    <tr>\n",
       "      <th>70</th>\n",
       "      <td>Microbial</td>\n",
       "      <td>8700</td>\n",
       "      <td>38.3</td>\n",
       "    </tr>\n",
       "    <tr>\n",
       "      <th>35</th>\n",
       "      <td>Microbial</td>\n",
       "      <td>7200</td>\n",
       "      <td>36.9</td>\n",
       "    </tr>\n",
       "    <tr>\n",
       "      <th>97</th>\n",
       "      <td>Microbial</td>\n",
       "      <td>7100</td>\n",
       "      <td>37.0</td>\n",
       "    </tr>\n",
       "  </tbody>\n",
       "</table>\n",
       "</div>"
      ],
      "text/plain": [
       "    cell_line  br_size  avg_temp\n",
       "85  Microbial     6200      38.2\n",
       "36  Microbial     9300      36.9\n",
       "70  Microbial     8700      38.3\n",
       "35  Microbial     7200      36.9\n",
       "97  Microbial     7100      37.0"
      ]
     },
     "execution_count": 6,
     "metadata": {},
     "output_type": "execute_result"
    }
   ],
   "source": [
    "# Just a quick check on our dfs to see how they are coming along\n",
    "dfMicro.sample(5)\n",
    "#dfMam.head()\n",
    "#dfHum.head()"
   ]
  },
  {
   "cell_type": "markdown",
   "metadata": {},
   "source": [
    "### <a name=\"do\"></a>2.4 Dissolved Oxygen  \n",
    "Like the average temperature reading, the dissolved oxygen (DO) is continuously monitored throughout the process by the control system and the mean value simulated here. Again like the temperature, the microbial cells are easier to adapt to non-optimal DO levels.  \n",
    "\n",
    "To make things more interesting, we are going to make a huge leap here and say that if the DO is too high, it is a sign that air was too vigorously sparged through the bioreactor which would result in cell lysis (breaking apart - death). This is a true phenomenon, but increased O2 levels could also be due to factors other than sparging as well. "
   ]
  },
  {
   "cell_type": "code",
   "execution_count": 7,
   "metadata": {},
   "outputs": [
    {
     "data": {
      "text/plain": [
       "<matplotlib.legend.Legend at 0x221fb58f780>"
      ]
     },
     "execution_count": 7,
     "metadata": {},
     "output_type": "execute_result"
    },
    {
     "data": {
      "image/png": "[encoded data removed]",
      "text/plain": [
       "<Figure size 432x288 with 1 Axes>"
      ]
     },
     "metadata": {
      "needs_background": "light"
     },
     "output_type": "display_data"
    }
   ],
   "source": [
    "# Simulate Average Dissolved Oxygen Readings\n",
    "mean_do = 5.5\n",
    "std_do = 0.5\n",
    "\n",
    "for dataset in datasets:\n",
    "    # This will be a normally distributed range of DO averages centred around a mean of 5.0\n",
    "    do = np.random.normal(mean_do, std_do, 100)\n",
    "    # At 37degC the maximum possible DO concentration is 6.7\n",
    "    # We need to ensure that no value exceeds that maximum \n",
    "    do = setLimits(do, False, 0, True, 6.7)\n",
    "    dataset[\"avg_do\"] = list(np.around(np.array(do),1)) \n",
    "    plt.hist(do, alpha = 0.5)\n",
    "\n",
    "plt.xlabel(\"Dissolved Oxygen)\")\n",
    "plt.ylabel(\"Frequency\")\n",
    "plt.title(\"Average Dissolved Oxygen Readings for each Cell Line Type\")\n",
    "plt.legend(dsNames)"
   ]
  },
  {
   "cell_type": "code",
   "execution_count": 8,
   "metadata": {},
   "outputs": [
    {
     "data": {
      "text/html": [
       "<div>\n",
       "<style scoped>\n",
       "    .dataframe tbody tr th:only-of-type {\n",
       "        vertical-align: middle;\n",
       "    }\n",
       "\n",
       "    .dataframe tbody tr th {\n",
       "        vertical-align: top;\n",
       "    }\n",
       "\n",
       "    .dataframe thead th {\n",
       "        text-align: right;\n",
       "    }\n",
       "</style>\n",
       "<table border=\"1\" class=\"dataframe\">\n",
       "  <thead>\n",
       "    <tr style=\"text-align: right;\">\n",
       "      <th></th>\n",
       "      <th>cell_line</th>\n",
       "      <th>br_size</th>\n",
       "      <th>avg_temp</th>\n",
       "      <th>avg_do</th>\n",
       "    </tr>\n",
       "  </thead>\n",
       "  <tbody>\n",
       "    <tr>\n",
       "      <th>0</th>\n",
       "      <td>CHO</td>\n",
       "      <td>5800</td>\n",
       "      <td>36.7</td>\n",
       "      <td>5.2</td>\n",
       "    </tr>\n",
       "    <tr>\n",
       "      <th>1</th>\n",
       "      <td>CHO</td>\n",
       "      <td>5000</td>\n",
       "      <td>37.1</td>\n",
       "      <td>5.4</td>\n",
       "    </tr>\n",
       "    <tr>\n",
       "      <th>2</th>\n",
       "      <td>CHO</td>\n",
       "      <td>2200</td>\n",
       "      <td>36.7</td>\n",
       "      <td>4.3</td>\n",
       "    </tr>\n",
       "    <tr>\n",
       "      <th>3</th>\n",
       "      <td>CHO</td>\n",
       "      <td>2100</td>\n",
       "      <td>36.8</td>\n",
       "      <td>5.3</td>\n",
       "    </tr>\n",
       "    <tr>\n",
       "      <th>4</th>\n",
       "      <td>CHO</td>\n",
       "      <td>8700</td>\n",
       "      <td>37.0</td>\n",
       "      <td>5.4</td>\n",
       "    </tr>\n",
       "  </tbody>\n",
       "</table>\n",
       "</div>"
      ],
      "text/plain": [
       "  cell_line  br_size  avg_temp  avg_do\n",
       "0       CHO     5800      36.7     5.2\n",
       "1       CHO     5000      37.1     5.4\n",
       "2       CHO     2200      36.7     4.3\n",
       "3       CHO     2100      36.8     5.3\n",
       "4       CHO     8700      37.0     5.4"
      ]
     },
     "execution_count": 8,
     "metadata": {},
     "output_type": "execute_result"
    }
   ],
   "source": [
    "# Just a quick check on our dfs to see how they are coming along\n",
    "#dfMicro.head()\n",
    "dfMam.head()\n",
    "#dfHum.head()"
   ]
  },
  {
   "cell_type": "markdown",
   "metadata": {},
   "source": [
    "### <a name=\"culture\"></a> 2.5 Culture Type  \n",
    "The type of processing may be   \n",
    "* Batch  \n",
    "* Fed batch  \n",
    "* Perfusion  \n",
    "\n",
    "In the order given each type has longer processing times, has an increased yield and may have a small bioreactor volume in the case of perfusion method. For the purposes of data simulation, this is categorical data.  \n",
    "\n",
    "The traits we will consider for allocation of culture type will be:\n",
    "* Perfusion bioreactors tend to be smaller that other methods\n",
    "* Fed-batch is the most common method\n",
    "* Batch is the least common method "
   ]
  },
  {
   "cell_type": "code",
   "execution_count": 9,
   "metadata": {
    "scrolled": true
   },
   "outputs": [
    {
     "data": {
      "image/png": "[encoded data removed]",
      "text/plain": [
       "<Figure size 1152x432 with 3 Axes>"
      ]
     },
     "metadata": {},
     "output_type": "display_data"
    }
   ],
   "source": [
    "# Simulate different culture types\n",
    "cultures=[\"Batch\", \"Fed Batch\", \"Perfusion\"]\n",
    "plt.rcParams['figure.figsize'] = [16, 6] # Needed to put this in again!\n",
    "# Plot both the raw data and the \"best fit\" lines\n",
    "i = 1\n",
    "for dataset in datasets:\n",
    "    culture=[]\n",
    "    # iterate over rows with iterrows()\n",
    "    for index, row in dataset.iterrows():\n",
    "        # Change the probabilities of the culture type dependent on the bioreactor size\n",
    "        if row[\"br_size\"] < 2000:\n",
    "            prob = [0.2, 0.2, 0.6]\n",
    "        elif row[\"br_size\"] < 6000:\n",
    "            prob = [0.3, 0.5, 0.2]\n",
    "        else:\n",
    "            prob = [0.25, 0.7, 0.05]\n",
    "        culture.append(np.random.choice(cultures, 1, replace=True, p =prob)[0])\n",
    "    dataset[\"culture\"] = culture\n",
    "    \n",
    "    # Data to plot\n",
    "    sizes = (dataset[dataset.culture == \"Batch\"].culture.count(), \\\n",
    "            dataset[dataset.culture == \"Fed Batch\"].culture.count(), \\\n",
    "            dataset[dataset.culture == \"Perfusion\"].culture.count(), \\\n",
    "            )\n",
    "    plt.subplot(1, 3, i)\n",
    "    plt.pie(sizes, labels=cultures, autopct='%1.1f%%', startangle=15, shadow = True)\n",
    "    plt.title(\"Division of Culture Types for \" + dataset.cell_line[0] + \" Cells\")\n",
    "    i+=1"
   ]
  },
  {
   "cell_type": "code",
   "execution_count": 10,
   "metadata": {},
   "outputs": [
    {
     "data": {
      "text/html": [
       "<div>\n",
       "<style scoped>\n",
       "    .dataframe tbody tr th:only-of-type {\n",
       "        vertical-align: middle;\n",
       "    }\n",
       "\n",
       "    .dataframe tbody tr th {\n",
       "        vertical-align: top;\n",
       "    }\n",
       "\n",
       "    .dataframe thead th {\n",
       "        text-align: right;\n",
       "    }\n",
       "</style>\n",
       "<table border=\"1\" class=\"dataframe\">\n",
       "  <thead>\n",
       "    <tr style=\"text-align: right;\">\n",
       "      <th></th>\n",
       "      <th>cell_line</th>\n",
       "      <th>br_size</th>\n",
       "      <th>avg_temp</th>\n",
       "      <th>avg_do</th>\n",
       "      <th>culture</th>\n",
       "    </tr>\n",
       "  </thead>\n",
       "  <tbody>\n",
       "    <tr>\n",
       "      <th>0</th>\n",
       "      <td>vCHO</td>\n",
       "      <td>4700</td>\n",
       "      <td>36.6</td>\n",
       "      <td>5.5</td>\n",
       "      <td>Batch</td>\n",
       "    </tr>\n",
       "    <tr>\n",
       "      <th>1</th>\n",
       "      <td>vCHO</td>\n",
       "      <td>6700</td>\n",
       "      <td>37.2</td>\n",
       "      <td>5.4</td>\n",
       "      <td>Fed Batch</td>\n",
       "    </tr>\n",
       "    <tr>\n",
       "      <th>2</th>\n",
       "      <td>vCHO</td>\n",
       "      <td>1200</td>\n",
       "      <td>37.9</td>\n",
       "      <td>6.5</td>\n",
       "      <td>Perfusion</td>\n",
       "    </tr>\n",
       "    <tr>\n",
       "      <th>3</th>\n",
       "      <td>vCHO</td>\n",
       "      <td>8500</td>\n",
       "      <td>35.9</td>\n",
       "      <td>5.5</td>\n",
       "      <td>Batch</td>\n",
       "    </tr>\n",
       "    <tr>\n",
       "      <th>4</th>\n",
       "      <td>vCHO</td>\n",
       "      <td>1400</td>\n",
       "      <td>36.5</td>\n",
       "      <td>5.8</td>\n",
       "      <td>Batch</td>\n",
       "    </tr>\n",
       "  </tbody>\n",
       "</table>\n",
       "</div>"
      ],
      "text/plain": [
       "  cell_line  br_size  avg_temp  avg_do    culture\n",
       "0      vCHO     4700      36.6     5.5      Batch\n",
       "1      vCHO     6700      37.2     5.4  Fed Batch\n",
       "2      vCHO     1200      37.9     6.5  Perfusion\n",
       "3      vCHO     8500      35.9     5.5      Batch\n",
       "4      vCHO     1400      36.5     5.8      Batch"
      ]
     },
     "execution_count": 10,
     "metadata": {},
     "output_type": "execute_result"
    }
   ],
   "source": [
    "# Just a quick check on our dfs to see how they are coming along\n",
    "#dfMicro.head()\n",
    "#dfMam.head()\n",
    "dfHum.head()"
   ]
  },
  {
   "cell_type": "markdown",
   "metadata": {},
   "source": [
    "### <a name=\"cell_dens\"> </a> 2.6 Peak Viable Cell Density  \n",
    "This is the maximum live cell density in x $10^6$ cells / ml. This is dependent on the type of cells and culture method used.  \n",
    "\n",
    "Batch Systems < Fed-batch systems < Perfusion systems  \n",
    "\n",
    "and  \n",
    "\n",
    "Mammalian cells < Microbial cells\n",
    "\n",
    "Within each of these categorisations the cell density could be assumed to be normally distributed.\n",
    "1.5 < 6 < 15"
   ]
  },
  {
   "cell_type": "code",
   "execution_count": 11,
   "metadata": {},
   "outputs": [],
   "source": [
    "# Simulate Cell Densities\n",
    "\n",
    "for dataset in datasets:\n",
    "    # Different standard deviations for microbial cultures - more repeatable\n",
    "    if dataset.cell_line[0] == \"Microbial\":\n",
    "        cd_std = 1\n",
    "    else:\n",
    "        cd_std = 2\n",
    "    cd=[]\n",
    "    # iterate over rows with iterrows()\n",
    "    for index, row in dataset.iterrows():\n",
    "        # Change the mean of the normalised distribution dependent on the culture type\n",
    "        if row[\"culture\"] == \"Batch\":\n",
    "            cd_mean = 4\n",
    "        elif row[\"culture\"] == \"Perfusion\":\n",
    "            cd_mean = 8\n",
    "        else:\n",
    "            cd_mean = 15\n",
    "        # taking the absolute (as there are no negative numbers) and integer value\n",
    "        # Not using the setLimits function here as there is no absolute lower limit - just cannot be below zero\n",
    "        cd.append(abs(int(np.random.normal(cd_mean, cd_std, 1)[0])))\n",
    "    dataset[\"cell_density\"] = cd\n",
    "    \n",
    "# Because microbial cell density is much greater\n",
    "dfMicro.cell_density = dfMicro.cell_density * 4"
   ]
  },
  {
   "cell_type": "code",
   "execution_count": 12,
   "metadata": {},
   "outputs": [
    {
     "data": {
      "text/html": [
       "<div>\n",
       "<style scoped>\n",
       "    .dataframe tbody tr th:only-of-type {\n",
       "        vertical-align: middle;\n",
       "    }\n",
       "\n",
       "    .dataframe tbody tr th {\n",
       "        vertical-align: top;\n",
       "    }\n",
       "\n",
       "    .dataframe thead th {\n",
       "        text-align: right;\n",
       "    }\n",
       "</style>\n",
       "<table border=\"1\" class=\"dataframe\">\n",
       "  <thead>\n",
       "    <tr style=\"text-align: right;\">\n",
       "      <th></th>\n",
       "      <th>cell_line</th>\n",
       "      <th>br_size</th>\n",
       "      <th>avg_temp</th>\n",
       "      <th>avg_do</th>\n",
       "      <th>culture</th>\n",
       "      <th>cell_density</th>\n",
       "    </tr>\n",
       "  </thead>\n",
       "  <tbody>\n",
       "    <tr>\n",
       "      <th>67</th>\n",
       "      <td>CHO</td>\n",
       "      <td>6600</td>\n",
       "      <td>37.1</td>\n",
       "      <td>5.6</td>\n",
       "      <td>Fed Batch</td>\n",
       "      <td>15</td>\n",
       "    </tr>\n",
       "    <tr>\n",
       "      <th>50</th>\n",
       "      <td>CHO</td>\n",
       "      <td>4300</td>\n",
       "      <td>37.2</td>\n",
       "      <td>5.0</td>\n",
       "      <td>Batch</td>\n",
       "      <td>1</td>\n",
       "    </tr>\n",
       "    <tr>\n",
       "      <th>42</th>\n",
       "      <td>CHO</td>\n",
       "      <td>6000</td>\n",
       "      <td>35.7</td>\n",
       "      <td>5.7</td>\n",
       "      <td>Batch</td>\n",
       "      <td>5</td>\n",
       "    </tr>\n",
       "    <tr>\n",
       "      <th>99</th>\n",
       "      <td>CHO</td>\n",
       "      <td>3300</td>\n",
       "      <td>37.2</td>\n",
       "      <td>5.9</td>\n",
       "      <td>Batch</td>\n",
       "      <td>3</td>\n",
       "    </tr>\n",
       "    <tr>\n",
       "      <th>39</th>\n",
       "      <td>CHO</td>\n",
       "      <td>800</td>\n",
       "      <td>37.0</td>\n",
       "      <td>5.3</td>\n",
       "      <td>Batch</td>\n",
       "      <td>5</td>\n",
       "    </tr>\n",
       "  </tbody>\n",
       "</table>\n",
       "</div>"
      ],
      "text/plain": [
       "   cell_line  br_size  avg_temp  avg_do    culture  cell_density\n",
       "67       CHO     6600      37.1     5.6  Fed Batch            15\n",
       "50       CHO     4300      37.2     5.0      Batch             1\n",
       "42       CHO     6000      35.7     5.7      Batch             5\n",
       "99       CHO     3300      37.2     5.9      Batch             3\n",
       "39       CHO      800      37.0     5.3      Batch             5"
      ]
     },
     "execution_count": 12,
     "metadata": {},
     "output_type": "execute_result"
    }
   ],
   "source": [
    "# Just a quick check on our dfs to see how they are coming along\n",
    "#dfMicro.head()\n",
    "dfMam.sample(5)\n",
    "#dfHum.head()"
   ]
  },
  {
   "cell_type": "markdown",
   "metadata": {},
   "source": [
    "### <a name=\"hours\"></a>2.7 Processing Days\n",
    "Normal distribution dependent on: \n",
    "* cell type  \n",
    "  - microbial cells requiring much less time due to quicker adaptation and cell growth\n",
    "  - with mammalian cells requiring much longer to build up a sufficient cell density adapt to a new environment and to grow.\n",
    "* size of bioreactor\n",
    "  - the larger the bioreaactor the more seeding steps required to get an optimal cell density to seed the bioreactor. Too few cells in a large volume would equate to a longer total processing time at best and cell death at worst.  \n",
    "  - we will assume that the actual processing time within the main bioreactor will be approximately equal (normal distribution) among the same cell type and culture method. The bioreactor size will affect only the pre-processing seed preparation steps.\n",
    "  - 3days (72 hrs) + an additional 2 days (48hrs) for every 250L bioreactor size + \n",
    "* culture type  \n",
    "  - batch being shorter,  \n",
    "  - fed batch being longer  \n",
    "  - perfusion being much longer\n",
    "\n",
    "\n",
    "Proposed calculation factors:  \n",
    "\n",
    "| Factor                                | Microbial | Mammalian | Humanised |\n",
    "|---------------------------------------|-----------|-----------|-----------|\n",
    "| **Batch / Fed Batch Modes**                                                   |\n",
    "| Base Seed Days                        | 2         | 3         | 3         |\n",
    "| Day Increase / 250L  Bioreactor size  | 1         | 2         | 2.3       |\n",
    "| Days in Bioreactor                    | 3         | 5         | 6         |\n",
    "| Fed-Batch Multiplier                  | 1.3       | 1.3       | 1.3       |\n",
    "| **Perfusion**                                                                 |\n",
    "| Total Time (Days)                     | 20        | 40        | 45        |\n",
    "| Multiplier for every 250L increase    | 1.1       | 1.2       | 1.2       |"
   ]
  },
  {
   "cell_type": "code",
   "execution_count": 13,
   "metadata": {},
   "outputs": [
    {
     "data": {
      "text/plain": [
       "Text(0.5, 1.0, 'Histogram of Processing Time per Cell Line')"
      ]
     },
     "execution_count": 13,
     "metadata": {},
     "output_type": "execute_result"
    },
    {
     "data": {
      "image/png": "[encoded data removed]",
      "text/plain": [
       "<Figure size 1152x432 with 1 Axes>"
      ]
     },
     "metadata": {
      "needs_background": "light"
     },
     "output_type": "display_data"
    }
   ],
   "source": [
    "# Simulate Processing Hours\n",
    "\n",
    "for dataset in datasets:\n",
    "    days = []\n",
    "    fb_mult = 1.3\n",
    "    \n",
    "    # Set the parameters as per the table above\n",
    "    if dataset.cell_line[0] == \"Microbial\":\n",
    "        seed_base = 2\n",
    "        seed_inc = 1\n",
    "        bio = 3\n",
    "        perf = 20\n",
    "        perf_mul = 1.1\n",
    "    elif dataset.cell_line[0] == \"CHO\":\n",
    "        seed_base = 3\n",
    "        seed_inc = 2\n",
    "        bio = 5\n",
    "        perf = 40\n",
    "        perf_mul = 1.2\n",
    "    else:\n",
    "        seed_base = 3\n",
    "        seed_inc = 2.3\n",
    "        bio = 6\n",
    "        perf = 45\n",
    "        perf_mul = 1.2\n",
    "\n",
    "    # iterate over rows with iterrows()\n",
    "    for index, row in dataset.iterrows():\n",
    "        \n",
    "        # Change the mean of the normalised distribution dependent on the culture type\n",
    "        if row[\"culture\"] == \"Perfusion\":\n",
    "            mean = perf + (row.br_size*perf_mul/500)\n",
    "        else:\n",
    "            mean = seed_base + (row.br_size*seed_inc/500) + bio\n",
    "            \n",
    "        # Simulate the values to come from the normalised distribution\n",
    "        # based on the calculated mean with a standard distribution of the mean / 3\n",
    "        time = int(np.random.normal(mean, (mean/3),1))\n",
    "        \n",
    "        # Add a multiplier for the fed-batch processing\n",
    "        if row.culture == \"Fed Batch\": time = time * fb_mult\n",
    "        \n",
    "        # Append it to the days list\n",
    "        days.append(time)\n",
    "        \n",
    "    # As we are using a normal distribution - make sure none of our values are below zero. Set a base of 3 days\n",
    "    days = setLimits(days, True, False, 3, 0) \n",
    "    \n",
    "    # Add a new column \"time\" to the dataframe\n",
    "    dataset[\"time\"] = days\n",
    "    \n",
    "    # Plot a histgram of it\n",
    "    plt.hist(days, alpha = 0.5)\n",
    "\n",
    "# Add the legend and labels\n",
    "plt.legend(dsNames)\n",
    "plt.xlabel(\"Processing Days\")\n",
    "plt.ylabel(\"Frequency\")\n",
    "plt.title(\"Histogram of Processing Time per Cell Line\")"
   ]
  },
  {
   "cell_type": "code",
   "execution_count": 14,
   "metadata": {},
   "outputs": [
    {
     "data": {
      "text/html": [
       "<div>\n",
       "<style scoped>\n",
       "    .dataframe tbody tr th:only-of-type {\n",
       "        vertical-align: middle;\n",
       "    }\n",
       "\n",
       "    .dataframe tbody tr th {\n",
       "        vertical-align: top;\n",
       "    }\n",
       "\n",
       "    .dataframe thead th {\n",
       "        text-align: right;\n",
       "    }\n",
       "</style>\n",
       "<table border=\"1\" class=\"dataframe\">\n",
       "  <thead>\n",
       "    <tr style=\"text-align: right;\">\n",
       "      <th></th>\n",
       "      <th>cell_line</th>\n",
       "      <th>br_size</th>\n",
       "      <th>avg_temp</th>\n",
       "      <th>avg_do</th>\n",
       "      <th>culture</th>\n",
       "      <th>cell_density</th>\n",
       "      <th>time</th>\n",
       "    </tr>\n",
       "  </thead>\n",
       "  <tbody>\n",
       "    <tr>\n",
       "      <th>2</th>\n",
       "      <td>Microbial</td>\n",
       "      <td>6700</td>\n",
       "      <td>37.1</td>\n",
       "      <td>4.7</td>\n",
       "      <td>Batch</td>\n",
       "      <td>12</td>\n",
       "      <td>20.0</td>\n",
       "    </tr>\n",
       "    <tr>\n",
       "      <th>46</th>\n",
       "      <td>Microbial</td>\n",
       "      <td>1200</td>\n",
       "      <td>37.5</td>\n",
       "      <td>5.8</td>\n",
       "      <td>Batch</td>\n",
       "      <td>20</td>\n",
       "      <td>4.0</td>\n",
       "    </tr>\n",
       "    <tr>\n",
       "      <th>45</th>\n",
       "      <td>Microbial</td>\n",
       "      <td>1100</td>\n",
       "      <td>36.4</td>\n",
       "      <td>5.4</td>\n",
       "      <td>Batch</td>\n",
       "      <td>8</td>\n",
       "      <td>6.0</td>\n",
       "    </tr>\n",
       "    <tr>\n",
       "      <th>3</th>\n",
       "      <td>Microbial</td>\n",
       "      <td>6000</td>\n",
       "      <td>36.8</td>\n",
       "      <td>5.5</td>\n",
       "      <td>Batch</td>\n",
       "      <td>16</td>\n",
       "      <td>20.0</td>\n",
       "    </tr>\n",
       "    <tr>\n",
       "      <th>1</th>\n",
       "      <td>Microbial</td>\n",
       "      <td>6700</td>\n",
       "      <td>38.1</td>\n",
       "      <td>5.3</td>\n",
       "      <td>Fed Batch</td>\n",
       "      <td>56</td>\n",
       "      <td>33.8</td>\n",
       "    </tr>\n",
       "  </tbody>\n",
       "</table>\n",
       "</div>"
      ],
      "text/plain": [
       "    cell_line  br_size  avg_temp  avg_do    culture  cell_density  time\n",
       "2   Microbial     6700      37.1     4.7      Batch            12  20.0\n",
       "46  Microbial     1200      37.5     5.8      Batch            20   4.0\n",
       "45  Microbial     1100      36.4     5.4      Batch             8   6.0\n",
       "3   Microbial     6000      36.8     5.5      Batch            16  20.0\n",
       "1   Microbial     6700      38.1     5.3  Fed Batch            56  33.8"
      ]
     },
     "execution_count": 14,
     "metadata": {},
     "output_type": "execute_result"
    }
   ],
   "source": [
    "# Just a quick check on our dfs to see how they are coming along\n",
    "dfMicro.sample(5)\n",
    "#dfMam.head()\n",
    "#dfHum.head()"
   ]
  },
  {
   "cell_type": "code",
   "execution_count": 15,
   "metadata": {},
   "outputs": [
    {
     "name": "stdout",
     "output_type": "stream",
     "text": [
      "Min. Microbial Time = 3.0\n",
      "Min. Mammalian Time = 7.800000000000001\n",
      "Min. Humanised Time = 3.0\n"
     ]
    }
   ],
   "source": [
    "# Sanity Check\n",
    "print(\"Min. Microbial Time =\", dfMicro.time.min())\n",
    "print(\"Min. Mammalian Time =\", dfMam.time.min())\n",
    "print(\"Min. Humanised Time =\", dfHum.time.min())"
   ]
  },
  {
   "cell_type": "markdown",
   "metadata": {},
   "source": [
    "### <a name=\"alarms\"></a> 2.8  No of Alarms  \n",
    "The production process is monitored and controlled by an automated control system. This control system will alarm if various parameters fall outside of the acceptable limits. It is a reasonable assumption that the greater the number of alarms during processing would have an adverse effect on the yield. From a data simulation perspective, this would be a Poisson distribution of events during the cell growth, over the growth period. But some of the already simulated data will have an effect on the simulated data.    \n",
    " \n",
    "Our simulation model will use:  \n",
    "* The Poisson distribution for alarms with a lambda value of 1.2 alarms per day  \n",
    "* The number of processing days\n",
    "* The already simulated processing conditions:  \n",
    " - Average temperature \n",
    " - Average DO\n",
    "\n",
    "We already have simulated some of the data being recorded over the production time, namely temperature and dissolved oxygen. As what we have simulated is the mean temperature and DO, we can assume that those having values further away from the mean will probably have had more alarms generated during processing so therefore we may take this into consideration. To know how far a value is away from the mean we will use the process variables' Z-scores. The Z-score is a measure of the number of standard deviations any given reading is away form the mean. To stop the effects of one \"good\" z-score value nnegating the efects of one \"bad\" reading, we will take the maximum of the absolute value of the two z-scores and use that as a multiplier.  "
   ]
  },
  {
   "cell_type": "code",
   "execution_count": 16,
   "metadata": {},
   "outputs": [
    {
     "data": {
      "text/plain": [
       "<matplotlib.legend.Legend at 0x221fb868908>"
      ]
     },
     "execution_count": 16,
     "metadata": {},
     "output_type": "execute_result"
    },
    {
     "data": {
      "image/png": "[encoded data removed]",
      "text/plain": [
       "<Figure size 1152x432 with 1 Axes>"
      ]
     },
     "metadata": {
      "needs_background": "light"
     },
     "output_type": "display_data"
    }
   ],
   "source": [
    "# Simulating the alarms\n",
    "lam = 1.2 # the frequency of alarms\n",
    "\n",
    "for dataset in datasets:\n",
    "    # Alarm calculation - poisson distribution * processing time * max of absolute value of zscores of temperature and do readings\n",
    "    alarms = (np.random.poisson(lam, 100) * dataset.time * list(map(max, zip(abs(stats.zscore(dataset.avg_temp)),abs(stats.zscore(dataset.avg_do)))))).round(0)\n",
    "    # Convert the alarm values to integers (because you cannot have a bit of an alarm)\n",
    "    # and add to the dataset [12]\n",
    "    dataset[\"alarm\"] = list(map(int, alarms))  \n",
    "    plt.hist(alarms, alpha = 0.5)\n",
    "\n",
    "plt.xlabel(\"No of alarms)\")\n",
    "plt.ylabel(\"Frequency\")\n",
    "plt.title(\"Number of alarms for each Cell Line Type\")\n",
    "plt.legend(dsNames)"
   ]
  },
  {
   "cell_type": "code",
   "execution_count": 17,
   "metadata": {},
   "outputs": [
    {
     "data": {
      "text/html": [
       "<div>\n",
       "<style scoped>\n",
       "    .dataframe tbody tr th:only-of-type {\n",
       "        vertical-align: middle;\n",
       "    }\n",
       "\n",
       "    .dataframe tbody tr th {\n",
       "        vertical-align: top;\n",
       "    }\n",
       "\n",
       "    .dataframe thead th {\n",
       "        text-align: right;\n",
       "    }\n",
       "</style>\n",
       "<table border=\"1\" class=\"dataframe\">\n",
       "  <thead>\n",
       "    <tr style=\"text-align: right;\">\n",
       "      <th></th>\n",
       "      <th>cell_line</th>\n",
       "      <th>br_size</th>\n",
       "      <th>avg_temp</th>\n",
       "      <th>avg_do</th>\n",
       "      <th>culture</th>\n",
       "      <th>cell_density</th>\n",
       "      <th>time</th>\n",
       "      <th>alarm</th>\n",
       "    </tr>\n",
       "  </thead>\n",
       "  <tbody>\n",
       "    <tr>\n",
       "      <th>8</th>\n",
       "      <td>Microbial</td>\n",
       "      <td>5600</td>\n",
       "      <td>36.8</td>\n",
       "      <td>5.7</td>\n",
       "      <td>Perfusion</td>\n",
       "      <td>28</td>\n",
       "      <td>17.0</td>\n",
       "      <td>12</td>\n",
       "    </tr>\n",
       "    <tr>\n",
       "      <th>62</th>\n",
       "      <td>Microbial</td>\n",
       "      <td>2800</td>\n",
       "      <td>37.4</td>\n",
       "      <td>6.2</td>\n",
       "      <td>Fed Batch</td>\n",
       "      <td>52</td>\n",
       "      <td>18.2</td>\n",
       "      <td>25</td>\n",
       "    </tr>\n",
       "    <tr>\n",
       "      <th>98</th>\n",
       "      <td>Microbial</td>\n",
       "      <td>3500</td>\n",
       "      <td>37.2</td>\n",
       "      <td>5.4</td>\n",
       "      <td>Fed Batch</td>\n",
       "      <td>64</td>\n",
       "      <td>16.9</td>\n",
       "      <td>0</td>\n",
       "    </tr>\n",
       "    <tr>\n",
       "      <th>16</th>\n",
       "      <td>Microbial</td>\n",
       "      <td>5100</td>\n",
       "      <td>37.4</td>\n",
       "      <td>5.9</td>\n",
       "      <td>Batch</td>\n",
       "      <td>16</td>\n",
       "      <td>21.0</td>\n",
       "      <td>17</td>\n",
       "    </tr>\n",
       "    <tr>\n",
       "      <th>32</th>\n",
       "      <td>Microbial</td>\n",
       "      <td>800</td>\n",
       "      <td>36.9</td>\n",
       "      <td>5.5</td>\n",
       "      <td>Perfusion</td>\n",
       "      <td>32</td>\n",
       "      <td>14.0</td>\n",
       "      <td>15</td>\n",
       "    </tr>\n",
       "  </tbody>\n",
       "</table>\n",
       "</div>"
      ],
      "text/plain": [
       "    cell_line  br_size  avg_temp  avg_do    culture  cell_density  time  alarm\n",
       "8   Microbial     5600      36.8     5.7  Perfusion            28  17.0     12\n",
       "62  Microbial     2800      37.4     6.2  Fed Batch            52  18.2     25\n",
       "98  Microbial     3500      37.2     5.4  Fed Batch            64  16.9      0\n",
       "16  Microbial     5100      37.4     5.9      Batch            16  21.0     17\n",
       "32  Microbial      800      36.9     5.5  Perfusion            32  14.0     15"
      ]
     },
     "execution_count": 17,
     "metadata": {},
     "output_type": "execute_result"
    }
   ],
   "source": [
    "# Just a quick check on our dfs to see how they are coming along\n",
    "dfMicro.sample(5)\n",
    "#dfMam.head()\n",
    "#dfHum.head()"
   ]
  },
  {
   "cell_type": "code",
   "execution_count": 18,
   "metadata": {},
   "outputs": [
    {
     "name": "stdout",
     "output_type": "stream",
     "text": [
      "========================================\n",
      "The number of Microbial cultures without an alarm is: 34\n",
      "\n",
      "    cell_line  br_size  avg_temp  avg_do    culture  cell_density  time  alarm\n",
      "75  Microbial     6700      37.2     4.3  Perfusion            28  51.0    236\n",
      "82  Microbial     4800      38.5     5.2      Batch            12  17.0    169\n",
      "95  Microbial     2600      37.4     6.1  Perfusion            24  38.0    136\n",
      "41  Microbial     8400      36.7     5.7  Fed Batch            60  29.9    109\n",
      "69  Microbial     8400      36.9     6.4      Batch            16  20.0    106\n",
      "\n",
      "========================================\n",
      "The number of Mammalian cultures without an alarm is: 32\n",
      "\n",
      "   cell_line  br_size  avg_temp  avg_do    culture  cell_density  time  alarm\n",
      "74       CHO     9200      38.0     6.6      Batch             6  45.0    338\n",
      "82       CHO     1200      36.5     4.6  Perfusion             5  54.0    329\n",
      "10       CHO     9600      37.6     5.5  Fed Batch            13  80.6    310\n",
      "77       CHO     3400      37.2     4.7  Perfusion             8  81.0    292\n",
      "51       CHO     8700      37.5     6.2  Fed Batch            15  88.4    282\n",
      "\n",
      "========================================\n",
      "The number of Humanised cultures without an alarm is: 23\n",
      "\n",
      "   cell_line  br_size  avg_temp  avg_do    culture  cell_density  time  alarm\n",
      "99      vCHO     9200      36.8     4.4  Fed Batch            15  93.6    651\n",
      "85      vCHO     7700      36.2     4.6      Batch             5  72.0    415\n",
      "25      vCHO     3000      36.2     5.6  Perfusion             8  75.0    413\n",
      "64      vCHO     9200      37.2     6.3  Fed Batch            19  92.3    410\n",
      "93      vCHO     5900      37.2     6.2  Fed Batch            16  48.1    369\n",
      "\n"
     ]
    }
   ],
   "source": [
    "# Sanity Check\n",
    "i = 0\n",
    "for dataset in datasets:\n",
    "    print(\"=\"*40)\n",
    "    # See how many are have no alarms\n",
    "    print(\"The number of \" + dsNames[i] + \" cultures without an alarm is:\",dataset.alarm[dataset.alarm == 0].count())\n",
    "    print(\"\")\n",
    "    i+=1\n",
    "    # And the top 5 no of alarms of each\n",
    "    print(dataset.sort_values(by=['alarm'], ascending=False).head())\n",
    "    print(\"\")"
   ]
  },
  {
   "cell_type": "code",
   "execution_count": 24,
   "metadata": {},
   "outputs": [
    {
     "data": {
      "text/plain": [
       "Text(0.5, 1.0, 'Processing Time vs No of Alarms')"
      ]
     },
     "execution_count": 24,
     "metadata": {},
     "output_type": "execute_result"
    },
    {
     "data": {
      "image/png": "[encoded data removed]",
      "text/plain": [
       "<Figure size 1152x432 with 1 Axes>"
      ]
     },
     "metadata": {
      "needs_background": "light"
     },
     "output_type": "display_data"
    }
   ],
   "source": [
    "# Plotting the total alarms against the processing time for Batch\n",
    "plt.plot(dfMicro.alarm[dfMicro.culture == \"Batch\"],dfMicro.time[dfMicro.culture == \"Batch\"], \"bo\", label=\"Batch\")\n",
    "plt.plot(dfMam.alarm[dfMam.culture == \"Batch\"],dfMam.time[dfMam.culture == \"Batch\"], \"bo\")\n",
    "plt.plot(dfHum.alarm[dfHum.culture == \"Batch\"],dfHum.time[dfHum.culture == \"Batch\"], \"bo\")\n",
    "\n",
    "# Plotting the total alarms against the processing time for Fed Batch\n",
    "plt.plot(dfMicro.alarm[dfMicro.culture == \"Fed Batch\"],dfMicro.time[dfMicro.culture == \"Fed Batch\"], \"m*\", label=\"Fed Batch\")\n",
    "plt.plot(dfMam.alarm[dfMam.culture == \"Fed Batch\"],dfMam.time[dfMam.culture == \"Fed Batch\"], \"m*\")\n",
    "plt.plot(dfHum.alarm[dfHum.culture == \"Fed Batch\"],dfHum.time[dfHum.culture == \"Fed Batch\"], \"m*\")\n",
    "\n",
    "# Plotting the total alarms against the processing time for Perfusion\n",
    "plt.plot(dfMicro.alarm[dfMicro.culture == \"Perfusion\"],dfMicro.time[dfMicro.culture == \"Perfusion\"], \"g^\", label=\"Perfusion\")\n",
    "plt.plot(dfMam.alarm[dfMam.culture == \"Perfusion\"],dfMam.time[dfMam.culture == \"Perfusion\"], \"g^\")\n",
    "plt.plot(dfHum.alarm[dfHum.culture == \"Perfusion\"],dfHum.time[dfHum.culture == \"Perfusion\"], \"g^\")\n",
    "\n",
    "# Adding the info to the plot\n",
    "plt.legend()\n",
    "plt.xlabel(\"No of Alarms\")\n",
    "plt.ylabel(\"Time (Days)\")\n",
    "plt.title(\"Processing Time vs No of Alarms\")"
   ]
  },
  {
   "cell_type": "markdown",
   "metadata": {},
   "source": [
    "### <a name=\"yield\"></a> 2.9 Yield  \n",
    "The reason the cells are grown in the bioreactor is to product the protein of choice e.g. an antibody, generally for therapeutic use. The yield is the amount of product produced and all variables simulated have either a direct or an indirect impact on the yield as follows:  \n",
    "\n",
    "* **Cell line** - Cell line has an impact on almost every parameter shown. For the purposes of simulation, each cell line will have its own parameters.  \n",
    "    - Microbial cells generally have a high yield and are more robust in processing.\n",
    "    - CHO cells have a much reduced yield and are less robust. Having said that, they are capable of producing much more complex proteins.  \n",
    "    - Humanised cells would be similar to the mammalian cells.\n",
    "* **Bioreactor Size**  - The size of the bioreactor has a great impact on the yield produced because in general, mrore volume means more cells which means more product.\n",
    "* **Average Temperature / Dissolved Oxygen / No of Alarms** - The average temperature and dissolved oxygen readings have an indirect effect on yield in that their cumulative effect is represented in the number of alarms generated. It is reasonable to expect that in a well controlled process there would be fewer alarms which would in turn mean that the processing occurred nearer the optimal conditions and therefore have greater product yields.  \n",
    "* **Peak Viable Cell Density** - generally more cells mean more product.\n",
    "* **Processing Hours**  \n",
    "    - For Batch / Fed-Batch his relates more to the number of alarms generated, which affects yield.  \n",
    "    - For perfusion cultures this is directly related to yield\n",
    "* **Culture type** - depending on the culture type, how the other factors affect them  \n",
    "    - Batch / Fed-Batch - along with the cell density, the bioreactor size is the most important aspect to simulating the yield. The processing time is not as important.  \n",
    "    - Perfusion - next to cell density, the processing time is the most important attribute as the cells are constantly producing product for most of that time and the times are extended. The bioreactor size is still important however.  \n",
    "\n",
    "Base yield calculation:  \n",
    "* Uniform distribution of 8 g/l for Mammalian cells, 7 g/l for Humanised and 10 g/l for microbial cells  \n",
    "* "
   ]
  },
  {
   "cell_type": "code",
   "execution_count": null,
   "metadata": {},
   "outputs": [],
   "source": []
  },
  {
   "cell_type": "markdown",
   "metadata": {},
   "source": [
    "### <a name=\"worth\"></a>2.10 Net Worth of Batch  \n",
    "Uniform Distribution multiplier on yield with influence of cell type."
   ]
  },
  {
   "cell_type": "markdown",
   "metadata": {},
   "source": [
    "## <a name=\"finish\"></a>3. Finishing Off the Dataset"
   ]
  },
  {
   "cell_type": "code",
   "execution_count": 23,
   "metadata": {},
   "outputs": [],
   "source": [
    "# Code to mix up the dataframe\n",
    "#df = df.sample(frac=1).reset_index(drop=True)"
   ]
  },
  {
   "cell_type": "markdown",
   "metadata": {},
   "source": [
    "## <a name=\"describe\"></a>4. Describe New Dataset  \n"
   ]
  },
  {
   "cell_type": "markdown",
   "metadata": {},
   "source": [
    "## <a name=\"conclusion\"></a>5. Conclusion"
   ]
  },
  {
   "cell_type": "markdown",
   "metadata": {},
   "source": [
    "## <a name=\"refs\"></a>6. References ##\n",
    "1. [NumPy Site](http://www.numpy.org/)  <a name = \"1\"></a>  \n",
    "2. [Project Jupyter](http://jupyter.org/) <a name = \"2\"></a>  \n",
    "3. http://jcb.rupress.org/content/jcb/32/2/309.full.pdf <a name = \"3\"></a>  \n",
    "4. [Bioreactors for high cell density and continuous multi-stage cultivations: options for process intensification in cell culture-based viral vaccine production\n",
    "Felipe Tapia, Daniel Vázquez-Ramírez, Yvonne Genzel, Udo Reichl\n",
    "Appl Microbiol Biotechnol. 2016; 100: 2121–2132. Published online 2016 Jan 13. doi: 10.1007/s00253-015-7267-9](https://www.ncbi.nlm.nih.gov/pmc/articles/PMC4756030/) <a name = \"4\"></a>  \n",
    "5. [GE Life Sciences: 7 Factors that Affect Oxygen Transfer](https://www.gelifesciences.com/en/us/solutions/bioprocessing/knowledge-center/7-factors-that-affect-oxygen-transfer-to-cells-in-bioreactors) <a name = \"5\"></a>  \n",
    "6. [Python and R Tips: How To Loop Through Pandas Rows? or How To Iterate Over Pandas Rows?](https://cmdlinetips.com/2018/12/how-to-loop-through-pandas-rows-or-how-to-iterate-over-pandas-rows/) <a name = \"6\"></a>  \n",
    "7. [Brooks Instrument - Boosting Bioreactor Performance by Enhancing MFC accuracy](https://www.brooksinstrument.com/en/blog/boosting-bioreactor-performance-by-enhancing-mfc-accuracy)<a name = \"7\"></a>  \n",
    "8. [Wikipedia - Chinese Hamster Ovary Cell](https://en.wikipedia.org/wiki/Chinese_hamster_ovary_cell)<a name = \"8\"></a>   \n",
    "9. [Stack OVerflow: How to Make Two Plots Side by Side](https://stackoverflow.com/questions/42818361/how-to-make-two-plots-side-by-side-using-python)<a name = \"9\"></a>  \n",
    "10. [Stack Overflow: Shuffle Dataframe Rows](https://stackoverflow.com/questions/29576430/shuffle-dataframe-rows) <a name = \"10\"></a>  \n",
    "11. [Scipy Docs: Z-Scores](https://docs.scipy.org/doc/scipy-0.14.0/reference/generated/scipy.stats.zscore.html)<a name = \"11\"></a>  \n",
    "12. [Geeks for Geeks: Python Converting all Strings in List to Integers](https://www.geeksforgeeks.org/python-converting-all-strings-in-list-to-integers/)<a name = \"12\"></a>  \n",
    "13. Trevor J. Marshall, Yvonne A. Brady, Chapter 30 - Process Control and Automation Solutions, Editor(s): Günter Jagschies, Eva Lindskog, Karol Łącki, Parrish Galliher, Biopharmaceutical Processing, Elsevier, 2018, Pages 579-621 <a name = \"13\"> </a>  \n",
    "14. [Spadiut O, Capone S, Krainer F, Glieder A, Herwig C. Microbials for the production of monoclonal antibodies and antibody fragments. Trends Biotechnol. 2014;32(1):54–60. doi:10.1016/j.tibtech.2013.10.002](https://www.ncbi.nlm.nih.gov/pmc/articles/PMC3906537/) <a name = \"14\"> </a>  \n",
    "15. []() <a name = \"15\"></a>  \n"
   ]
  },
  {
   "cell_type": "code",
   "execution_count": null,
   "metadata": {},
   "outputs": [],
   "source": []
  }
 ],
 "metadata": {
  "kernelspec": {
   "display_name": "Python 3",
   "language": "python",
   "name": "python3"
  },
  "language_info": {
   "codemirror_mode": {
    "name": "ipython",
    "version": 3
   },
   "file_extension": ".py",
   "mimetype": "text/x-python",
   "name": "python",
   "nbconvert_exporter": "python",
   "pygments_lexer": "ipython3",
   "version": "3.7.3"
  }
 },
 "nbformat": 4,
 "nbformat_minor": 2
}
