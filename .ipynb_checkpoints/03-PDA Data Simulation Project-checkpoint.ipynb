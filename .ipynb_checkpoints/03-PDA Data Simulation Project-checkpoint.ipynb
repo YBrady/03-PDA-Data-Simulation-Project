{
 "cells": [
  {
   "cell_type": "markdown",
   "metadata": {},
   "source": [
    "<img align=\"left\" src=\"images/GMIT-logo.png\" alt=\"GMIT\" width=\"220\"/>                                                      <img align=\"right\" src=\"images/data-analytics.png\" alt=\"HDipDA\" width=\"250\"/>  \n",
    "\n",
    "# <center>Programming for Data Analysis 2019 Project: Simulating Real World Data</center>  #"
   ]
  },
  {
   "cell_type": "markdown",
   "metadata": {},
   "source": [
    "***\n",
    "**Module Name**: Programming for Data Analysis  \n",
    "**Module Number**: 52465  \n",
    "**Student Name**: Yvonne Brady  \n",
    "**Student ID**: G00376355  \n",
    "***\n",
    "\n",
    "**Problem statement**  \n",
    "For this project you must create a data set by simulating a real-world phenomenon of your choosing. You may pick any phenomenon you wish – you might pick one that is of interest to you in your personal or professional life. Then, rather than collect data related to the phenomenon, you should model and synthesise such data using Python.  \n",
    "\n",
    "We suggest you use the numpy.random package for this purpose.  \n",
    "\n",
    "Specifically, in this project you should:\n",
    "* Choose a real-world phenomenon that can be measured and for which you could collect at least one-hundred data points across at least four different variables.  \n",
    "* Investigate the types of variables involved, their likely distributions, and their relationships with each other.\n",
    "* Synthesise/simulate a data set as closely matching their properties as possible.\n",
    "* Detail your research and implement the simulation in a Jupyter notebook – the data set itself can simply be displayed in an output cell within the notebook.  \n",
    "\n",
    "Note that this project is about simulation – you must synthesise a data set. Some\n",
    "students may already have some real-world data sets in their own files. It is okay to\n",
    "base your synthesised data set on these should you wish (please reference it if you do),\n",
    "but the main task in this project is to create a synthesised data set. "
   ]
  },
  {
   "cell_type": "markdown",
   "metadata": {},
   "source": [
    "# Table of Contents #\n",
    "1. [Introduction](#intro)  \n",
    "1.1 [Helper Functions](#help)\n",
    "2. [Dataset](#dataset)  \n",
    "2.1 [Cell Line](#cell_line)  \n",
    "2.2 [Bioreactor Size](#brSize)  \n",
    "2.3 [Average Temperature](#temp)  \n",
    "2.4 [Dissolved Oxygen](#do)  \n",
    "2.5 [Culture type](#culture)  \n",
    "2.6 [Peak Viable Cell Density](#cell_dens)  \n",
    "2.7 [Hours pre-production bioreactor](#hours)  \n",
    "2.8 [No of alarms](#alarms)  \n",
    "2.9 [Media type](#media)  \n",
    "2.10 [Yield](#yield)  \n",
    "2.11 [Net worth of batch](#worth)\n",
    "3. [Finishing Off the Dataset](#finish)\n",
    "4. [Describe New Dataset](#describe)\n",
    "5. [Conclusion](#conclusion)\n",
    "6. [References](#refs)"
   ]
  },
  {
   "cell_type": "markdown",
   "metadata": {},
   "source": [
    " ## <a name=\"intro\"></a>1. Introduction ## \n",
    "For my data simulation project I have chosen the production of biopharmaceuticals products, in particular monoclonal antibodies (mAbs). Naturally occurring antibodies are produced in the body as part of our immunological defence systems. Whenever we get a cough or cold, or indeed anything more serious, our bodies will produce antibodies to target whatever is causing the illness. This may be a bacterium, _e.g._ Strep throat caused by _Streptococcus pyogenes_, a virus, in the case of a cold or flu, some foreign matter _e.g._ pollen which will result in hayfever or even the bodies own cells when they   become aged or damaged.   Because antibodies may be made to combat any substance that enters the body, they make ideal candidates to harness for therapeutic purposes.  \n",
    "\n",
    "When the body comes under attack by a substance called a pathogen, for example the common cold, special cells in the body will make antibodies to try and overcome this pathogen. In many cases this happens very successfully and we never even knew we fighting off the infection. Each of these special cells will make their own version of an antibody in the hope that one of them will be successful in overcoming the invader. The body monitors which ones are successful and subsequently  increase the production of the best fit antibody. \n",
    "\n",
    "To make a biopharmaceutical a single cell that is good at producing the antibody required is cloned repeatedly. This cloned cell is grown in a vessel called a bioreactor and encouraged to produce the antibody. The contents of the bioreactor are then removed, the antibody extracted and purified to produce the final biopharmaceutical product.  \n",
    "\n",
    "The data I have initially chosen to simulate for this project are:  \n",
    "\n",
    "* Cell line\n",
    "* Bioreactor Size  \n",
    "* Average Temperature   \n",
    "* Dissolved Oxygen  \n",
    "* Peak Viable Cell Density  \n",
    "* Processing Hours  \n",
    "* Culture type  \n",
    "* No of alarms  \n",
    "* Media type  \n",
    "* Yield  \n",
    "* Net worth of batch  "
   ]
  },
  {
   "cell_type": "markdown",
   "metadata": {},
   "source": [
    "### <a name=\"help\"></a>1.1 Helper Functions  \n",
    "\n",
    "There are a number of repetitive checks / transformations need to be done to the data being generated. This section houses any functions we need to perform these tasks. Many of these are due to the fact that the data being generated is random, so without using the seed function, we cannot predict exactly where the data will fall.  \n",
    "\n",
    "These functions include:\n",
    "* setLimits - to ensure that hard minimum or maximum values are held irrespective of data generated  \n",
    "\n",
    "Before we do anything however, we need first import the packages required."
   ]
  },
  {
   "cell_type": "code",
   "execution_count": 1,
   "metadata": {},
   "outputs": [],
   "source": [
    "import pandas as pd\n",
    "import numpy as np\n",
    "import matplotlib.pyplot as plt # plotting and as a basis for seaborn\n",
    "%matplotlib inline\n",
    "plt.rcParams['figure.figsize'] = [16, 6] # Setting the plot size"
   ]
  },
  {
   "cell_type": "code",
   "execution_count": 2,
   "metadata": {},
   "outputs": [],
   "source": [
    "# This function resets the minimum and maximum values\n",
    "# If there are hard set limits eg size of bioreactor cannot be negative, DO level cannot be above 6.7 etc\n",
    "# This does over-ride the normal or whatever distribution chosen, \n",
    "# but it gets rid of nonsense values and it is a simulation ...\n",
    "def setLimits(attList, minReq, maxReq, minVal, maxVal):\n",
    "    # Create a new list to return the corrected values\n",
    "    newList = []\n",
    "    # Loop through each item in the list\n",
    "    for att in attList:\n",
    "        # If we are checking for minimum values\n",
    "        # And the item is below the min value\n",
    "        if minReq and att < minVal:\n",
    "            # Reset to be minVal\n",
    "            att = minVal\n",
    "        # If we are checking for maximum values\n",
    "        # And the item is above the max value    \n",
    "        if maxReq and att > maxVal:\n",
    "            # Reset to be the maxVal\n",
    "            att = maxVal\n",
    "        # Create a new list with corrected values\n",
    "        newList.append(att)\n",
    "    # Return the new list\n",
    "    return newList"
   ]
  },
  {
   "cell_type": "markdown",
   "metadata": {},
   "source": [
    "## 2. <a name=\"dataset\"></a>The Dataset\n",
    "\n",
    "Of all the parameters I have chosen, the most influential of all is the cell type. There are three possible cell types and as almost every variable is dependent on the kind of cells used, the plan is to create three minidatasets which I will combine at the end. Each of these dataset will be 100 rows long.  \n",
    "\n",
    "To achieve this we must first import the python packages we need."
   ]
  },
  {
   "cell_type": "markdown",
   "metadata": {},
   "source": [
    "### <a name=\"cell_line\"></a>2.1 Cell Line \n",
    "This is the type of used to produce the antibody. While there are many types of cells utilised in biopharmaceutical production, for the purposes of this project I am ploying categorical data. The cell type may be -\n",
    "* Microbial cells (_e.g. E. coli._) - being unicellular, these cells are the easiest to grow, but can only produce basic proteins.  \n",
    "* Mammalian cell (_e.g._ CHO) - Chinese Hamster Ovary cells are frequently used in biopharmaceutical processing. They can produce complicated proteins but are harder to grow in vitro. Mammalian cells are used to being part of a larger organism that has specialised organs to look after for example waste disposal _etc._. They also rely on other organs for physical protection and anchorage _e.g._ bones and skin. Mammalian cells do not adapt well to being on their own in a bioreactor and as a result will grow much slower and be more susceptible to damage than microbial cells.  \n",
    "* Humanised CHOs - As the body recognises CHO-produced proteins as non-human, they elicit an immune response. CHOS may be genetically manipulated to become humanised. These CHOs produce more human like proteins which are better accepted by the body. This genetic manipulation further destabilises the cells however, making them more difficult again to grow.  \n",
    "\n",
    "This is a really important feature as many of the following attributes depend on the cell type. In general, the microbial cell line is more robust, mammalian (CHO) less so, and to a lesser extent the mammalian producing humanised protein even less so. For now, I will evenly split the sample size into three and assume there are equal number of each."
   ]
  },
  {
   "cell_type": "code",
   "execution_count": 3,
   "metadata": {},
   "outputs": [],
   "source": [
    "data = [\"Microbial\"]*100\n",
    "dfMicro = pd.DataFrame(data, columns = ['cell_line']) \n",
    "data = [\"CHO\"]*100\n",
    "dfMam = pd.DataFrame(data, columns = ['cell_line']) \n",
    "data = [\"vCHO\"]*100\n",
    "dfHum = pd.DataFrame(data, columns = ['cell_line']) \n",
    "\n",
    "# Create set of all three datasets\n",
    "datasets = [dfMicro, dfMam, dfHum]\n",
    "dsNames = [\"Microbial\", \"Mammalian\", \"Humanised\"]"
   ]
  },
  {
   "cell_type": "markdown",
   "metadata": {},
   "source": [
    "### <a name= brSize></a>2.2 Size of bioreactor\n",
    "THe size of the bioreactor The larger the bioreactor, the greater the amount of product produced. It takes more time for the cells to acclimatise to the bioreactor, particularly the mammalian cells (CHO and humanised CHO). For the purposes of the data simulation it is assumed there will be a uniform distribution of the bioreator sizes.\n"
   ]
  },
  {
   "cell_type": "code",
   "execution_count": 4,
   "metadata": {
    "scrolled": true
   },
   "outputs": [
    {
     "data": {
      "image/png": "[encoded data removed]",
      "text/plain": [
       "<Figure size 432x288 with 1 Axes>"
      ]
     },
     "metadata": {
      "needs_background": "light"
     },
     "output_type": "display_data"
    }
   ],
   "source": [
    "# Start with Bioreactor Size\n",
    "for dataset in datasets:\n",
    "    # This will be a uniformly distributed range of sizes from 500L to 10000L \n",
    "    brSize = 100 * np.random.randint(5, 101, 100)\n",
    "    dataset[\"br_size\"] = brSize\n",
    "    plt.hist(brSize)"
   ]
  },
  {
   "cell_type": "markdown",
   "metadata": {},
   "source": [
    "### <a name=\"temp\"></a>2.3 Average Temperature Reading  \n",
    "There are a number of parameters that are controlled and monitored as part of the cultivation of cells. One such parameter is the temperature. This is controlled via a control system (DCS - Distributed Control System, or PLC - Programmable Logic Controller). While the temperature is monitored and controlled throughout its cultivation time, it is taken for this dataset to be the mean throughout the process. This will be simulated to be a normal distributed attribute. The microbial cell lines have a good tolerance for temperature, while the mammalian cells do not. Mammalian cells are used to specific organs controlling the temperature of the body, _e.g._ blood, skin, kidneys _etc._ and have no cellular mechanism to do so on their own. As a result mammalian cells are much more susceptible to temperature fluctuations.  "
   ]
  },
  {
   "cell_type": "code",
   "execution_count": 5,
   "metadata": {},
   "outputs": [
    {
     "data": {
      "image/png": "[encoded data removed]",
      "text/plain": [
       "<Figure size 432x288 with 1 Axes>"
      ]
     },
     "metadata": {
      "needs_background": "light"
     },
     "output_type": "display_data"
    }
   ],
   "source": [
    "# Simulate Average Temperature Readings\n",
    "for dataset in datasets:\n",
    "    # This will be a normally distributed range with a mean of 37.0 degC \n",
    "    temp = np.random.normal(37.0, 0.5, 100)\n",
    "    dataset[\"avg_temp\"] = temp.round(1)\n",
    "    plt.hist(temp)"
   ]
  },
  {
   "cell_type": "code",
   "execution_count": 6,
   "metadata": {},
   "outputs": [
    {
     "data": {
      "text/html": [
       "<div>\n",
       "<style scoped>\n",
       "    .dataframe tbody tr th:only-of-type {\n",
       "        vertical-align: middle;\n",
       "    }\n",
       "\n",
       "    .dataframe tbody tr th {\n",
       "        vertical-align: top;\n",
       "    }\n",
       "\n",
       "    .dataframe thead th {\n",
       "        text-align: right;\n",
       "    }\n",
       "</style>\n",
       "<table border=\"1\" class=\"dataframe\">\n",
       "  <thead>\n",
       "    <tr style=\"text-align: right;\">\n",
       "      <th></th>\n",
       "      <th>cell_line</th>\n",
       "      <th>br_size</th>\n",
       "      <th>avg_temp</th>\n",
       "    </tr>\n",
       "  </thead>\n",
       "  <tbody>\n",
       "    <tr>\n",
       "      <th>76</th>\n",
       "      <td>Microbial</td>\n",
       "      <td>4000</td>\n",
       "      <td>37.8</td>\n",
       "    </tr>\n",
       "    <tr>\n",
       "      <th>21</th>\n",
       "      <td>Microbial</td>\n",
       "      <td>2600</td>\n",
       "      <td>37.1</td>\n",
       "    </tr>\n",
       "    <tr>\n",
       "      <th>85</th>\n",
       "      <td>Microbial</td>\n",
       "      <td>9500</td>\n",
       "      <td>36.3</td>\n",
       "    </tr>\n",
       "    <tr>\n",
       "      <th>64</th>\n",
       "      <td>Microbial</td>\n",
       "      <td>9200</td>\n",
       "      <td>36.9</td>\n",
       "    </tr>\n",
       "    <tr>\n",
       "      <th>15</th>\n",
       "      <td>Microbial</td>\n",
       "      <td>4000</td>\n",
       "      <td>37.6</td>\n",
       "    </tr>\n",
       "  </tbody>\n",
       "</table>\n",
       "</div>"
      ],
      "text/plain": [
       "    cell_line  br_size  avg_temp\n",
       "76  Microbial     4000      37.8\n",
       "21  Microbial     2600      37.1\n",
       "85  Microbial     9500      36.3\n",
       "64  Microbial     9200      36.9\n",
       "15  Microbial     4000      37.6"
      ]
     },
     "execution_count": 6,
     "metadata": {},
     "output_type": "execute_result"
    }
   ],
   "source": [
    "# Just a quick check on our dfs to see how they are coming along\n",
    "dfMicro.sample(5)\n",
    "#dfMam.head()\n",
    "#dfHum.head()"
   ]
  },
  {
   "cell_type": "markdown",
   "metadata": {},
   "source": [
    "### <a name=\"do\"></a>2.4 Dissolved Oxygen  \n",
    "Like the average temperature reading, the dissolved oxygen (DO) is continuously monitored throughout the process by the control system and the mean value simulated here. Again like the temperature, the microbial cells are easier to adapt to non-optimal DO levels.  \n",
    "\n",
    "To make things more interesting, we are going to make a huge leap here and say that if the DO is too high, it is a sign that air was too vigorously sparged through the bioreactor which would result in cell lysis (breaking apart - death). This is a true phenomenon, but increased O2 levels could also be due to factors other than sparging as well. "
   ]
  },
  {
   "cell_type": "code",
   "execution_count": 7,
   "metadata": {},
   "outputs": [
    {
     "data": {
      "image/png": "[encoded data removed]",
      "text/plain": [
       "<Figure size 432x288 with 1 Axes>"
      ]
     },
     "metadata": {
      "needs_background": "light"
     },
     "output_type": "display_data"
    }
   ],
   "source": [
    "# Simulate Average Dissolved Oxygen Readings\n",
    "for dataset in datasets:\n",
    "    # This will be a normally distributed range of DO averages centred around a mean of 5.0\n",
    "    do = np.random.normal(5.5, 0.5, 100)\n",
    "    # At 37degC the maximum possible DO concentration is 6.7\n",
    "    # We need to ensure that no value exceeds that maximum \n",
    "    do = setLimits(do, False, 0, True, 6.7)\n",
    "    dataset[\"avg_do\"] = list(np.around(np.array(do),1)) \n",
    "    plt.hist(do)"
   ]
  },
  {
   "cell_type": "code",
   "execution_count": 8,
   "metadata": {},
   "outputs": [
    {
     "data": {
      "text/html": [
       "<div>\n",
       "<style scoped>\n",
       "    .dataframe tbody tr th:only-of-type {\n",
       "        vertical-align: middle;\n",
       "    }\n",
       "\n",
       "    .dataframe tbody tr th {\n",
       "        vertical-align: top;\n",
       "    }\n",
       "\n",
       "    .dataframe thead th {\n",
       "        text-align: right;\n",
       "    }\n",
       "</style>\n",
       "<table border=\"1\" class=\"dataframe\">\n",
       "  <thead>\n",
       "    <tr style=\"text-align: right;\">\n",
       "      <th></th>\n",
       "      <th>cell_line</th>\n",
       "      <th>br_size</th>\n",
       "      <th>avg_temp</th>\n",
       "      <th>avg_do</th>\n",
       "    </tr>\n",
       "  </thead>\n",
       "  <tbody>\n",
       "    <tr>\n",
       "      <th>0</th>\n",
       "      <td>CHO</td>\n",
       "      <td>9600</td>\n",
       "      <td>37.6</td>\n",
       "      <td>5.8</td>\n",
       "    </tr>\n",
       "    <tr>\n",
       "      <th>1</th>\n",
       "      <td>CHO</td>\n",
       "      <td>6000</td>\n",
       "      <td>38.2</td>\n",
       "      <td>5.6</td>\n",
       "    </tr>\n",
       "    <tr>\n",
       "      <th>2</th>\n",
       "      <td>CHO</td>\n",
       "      <td>4200</td>\n",
       "      <td>37.5</td>\n",
       "      <td>6.1</td>\n",
       "    </tr>\n",
       "    <tr>\n",
       "      <th>3</th>\n",
       "      <td>CHO</td>\n",
       "      <td>1200</td>\n",
       "      <td>36.3</td>\n",
       "      <td>5.5</td>\n",
       "    </tr>\n",
       "    <tr>\n",
       "      <th>4</th>\n",
       "      <td>CHO</td>\n",
       "      <td>6800</td>\n",
       "      <td>37.3</td>\n",
       "      <td>4.9</td>\n",
       "    </tr>\n",
       "  </tbody>\n",
       "</table>\n",
       "</div>"
      ],
      "text/plain": [
       "  cell_line  br_size  avg_temp  avg_do\n",
       "0       CHO     9600      37.6     5.8\n",
       "1       CHO     6000      38.2     5.6\n",
       "2       CHO     4200      37.5     6.1\n",
       "3       CHO     1200      36.3     5.5\n",
       "4       CHO     6800      37.3     4.9"
      ]
     },
     "execution_count": 8,
     "metadata": {},
     "output_type": "execute_result"
    }
   ],
   "source": [
    "# Just a quick check on our dfs to see how they are coming along\n",
    "#dfMicro.head()\n",
    "dfMam.head()\n",
    "#dfHum.head()"
   ]
  },
  {
   "cell_type": "markdown",
   "metadata": {},
   "source": [
    "### <a name=\"culture\"></a> 2.5 Culture Type  \n",
    "The type of processing may be   \n",
    "* Batch  \n",
    "* Fed batch  \n",
    "* Perfusion  \n",
    "\n",
    "In the order given each type has longer processing times, has an increased yield and may have a small bioreactor volume in the case of perfusion method. For the purposes of data simulation, this is categorical data.  \n",
    "\n",
    "The traits we will consider for allocation of culture type will be:\n",
    "* Perfusion bioreactors tend to be smaller that other methods\n",
    "* Fed-batch is the most common method\n",
    "* Batch is the least common method "
   ]
  },
  {
   "cell_type": "code",
   "execution_count": 9,
   "metadata": {
    "scrolled": true
   },
   "outputs": [
    {
     "data": {
      "image/png": "[encoded data removed]",
      "text/plain": [
       "<Figure size 1152x432 with 3 Axes>"
      ]
     },
     "metadata": {},
     "output_type": "display_data"
    }
   ],
   "source": [
    "# Simulate different culture types\n",
    "cultures=[\"Batch\", \"Fed Batch\", \"Perfusion\"]\n",
    "plt.rcParams['figure.figsize'] = [16, 6] # Needed to put this in again!\n",
    "# Plot both the raw data and the \"best fit\" lines\n",
    "i = 1\n",
    "for dataset in datasets:\n",
    "    culture=[]\n",
    "    # iterate over rows with iterrows()\n",
    "    for index, row in dataset.iterrows():\n",
    "        # Change the probabilities of the culture type dependent on the bioreactor size\n",
    "        if row[\"br_size\"] < 2000:\n",
    "            prob = [0.2, 0.2, 0.6]\n",
    "        elif row[\"br_size\"] < 6000:\n",
    "            prob = [0.3, 0.5, 0.2]\n",
    "        else:\n",
    "            prob = [0.25, 0.7, 0.05]\n",
    "        culture.append(np.random.choice(cultures, 1, replace=True, p =prob)[0])\n",
    "    dataset[\"culture\"] = culture\n",
    "    \n",
    "    # Data to plot\n",
    "    sizes = (dataset[dataset.culture == \"Batch\"].culture.count(), \\\n",
    "            dataset[dataset.culture == \"Fed Batch\"].culture.count(), \\\n",
    "            dataset[dataset.culture == \"Perfusion\"].culture.count(), \\\n",
    "            )\n",
    "    plt.subplot(1, 3, i)\n",
    "    plt.pie(sizes, labels=cultures, autopct='%1.1f%%', startangle=15, shadow = True)\n",
    "    plt.title(\"Division of Culture Types for \" + dataset.cell_line[0] + \" Cells\")\n",
    "    i+=1"
   ]
  },
  {
   "cell_type": "code",
   "execution_count": 10,
   "metadata": {},
   "outputs": [
    {
     "data": {
      "text/html": [
       "<div>\n",
       "<style scoped>\n",
       "    .dataframe tbody tr th:only-of-type {\n",
       "        vertical-align: middle;\n",
       "    }\n",
       "\n",
       "    .dataframe tbody tr th {\n",
       "        vertical-align: top;\n",
       "    }\n",
       "\n",
       "    .dataframe thead th {\n",
       "        text-align: right;\n",
       "    }\n",
       "</style>\n",
       "<table border=\"1\" class=\"dataframe\">\n",
       "  <thead>\n",
       "    <tr style=\"text-align: right;\">\n",
       "      <th></th>\n",
       "      <th>cell_line</th>\n",
       "      <th>br_size</th>\n",
       "      <th>avg_temp</th>\n",
       "      <th>avg_do</th>\n",
       "      <th>culture</th>\n",
       "    </tr>\n",
       "  </thead>\n",
       "  <tbody>\n",
       "    <tr>\n",
       "      <th>0</th>\n",
       "      <td>vCHO</td>\n",
       "      <td>800</td>\n",
       "      <td>36.8</td>\n",
       "      <td>7.2</td>\n",
       "      <td>Fed Batch</td>\n",
       "    </tr>\n",
       "    <tr>\n",
       "      <th>1</th>\n",
       "      <td>vCHO</td>\n",
       "      <td>4900</td>\n",
       "      <td>36.9</td>\n",
       "      <td>6.2</td>\n",
       "      <td>Batch</td>\n",
       "    </tr>\n",
       "    <tr>\n",
       "      <th>2</th>\n",
       "      <td>vCHO</td>\n",
       "      <td>8600</td>\n",
       "      <td>36.1</td>\n",
       "      <td>5.3</td>\n",
       "      <td>Batch</td>\n",
       "    </tr>\n",
       "    <tr>\n",
       "      <th>3</th>\n",
       "      <td>vCHO</td>\n",
       "      <td>7800</td>\n",
       "      <td>36.6</td>\n",
       "      <td>5.2</td>\n",
       "      <td>Fed Batch</td>\n",
       "    </tr>\n",
       "    <tr>\n",
       "      <th>4</th>\n",
       "      <td>vCHO</td>\n",
       "      <td>2200</td>\n",
       "      <td>37.4</td>\n",
       "      <td>5.1</td>\n",
       "      <td>Fed Batch</td>\n",
       "    </tr>\n",
       "  </tbody>\n",
       "</table>\n",
       "</div>"
      ],
      "text/plain": [
       "  cell_line  br_size  avg_temp  avg_do    culture\n",
       "0      vCHO      800      36.8     7.2  Fed Batch\n",
       "1      vCHO     4900      36.9     6.2      Batch\n",
       "2      vCHO     8600      36.1     5.3      Batch\n",
       "3      vCHO     7800      36.6     5.2  Fed Batch\n",
       "4      vCHO     2200      37.4     5.1  Fed Batch"
      ]
     },
     "execution_count": 10,
     "metadata": {},
     "output_type": "execute_result"
    }
   ],
   "source": [
    "# Just a quick check on our dfs to see how they are coming along\n",
    "#dfMicro.head()\n",
    "#dfMam.head()\n",
    "dfHum.head()"
   ]
  },
  {
   "cell_type": "markdown",
   "metadata": {},
   "source": [
    "### <a name=\"cell_dens\"> </a> 2.6 Peak Viable Cell Density  \n",
    "This is the maximum live cell density in x $10^6$ cells / ml. This is dependent on the type of cells and culture method used.  \n",
    "\n",
    "Batch Systems < Fed-batch systems < Perfusion systems  \n",
    "\n",
    "and  \n",
    "\n",
    "Mammalian cells < Microbial cells\n",
    "\n",
    "Within each of these categorisations the cell density could be assumed to be normally distributed.\n",
    "1.5 < 6 < 15"
   ]
  },
  {
   "cell_type": "code",
   "execution_count": 11,
   "metadata": {},
   "outputs": [],
   "source": [
    "# Simulate Cell Densities\n",
    "\n",
    "for dataset in datasets:\n",
    "    # Different standard deviations for microbial cultures - more repeatable\n",
    "    if dataset.cell_line[0] == \"Microbial\":\n",
    "        cd_std = 1\n",
    "    else:\n",
    "        cd_std = 2\n",
    "    cd=[]\n",
    "    # iterate over rows with iterrows()\n",
    "    for index, row in dataset.iterrows():\n",
    "        # Change the mean of the normalised distribution dependent on the culture type\n",
    "        if row[\"culture\"] == \"Batch\":\n",
    "            cd_mean = 4\n",
    "        elif row[\"culture\"] == \"Perfusion\":\n",
    "            cd_mean = 8\n",
    "        else:\n",
    "            cd_mean = 15\n",
    "        # taking the absolute (as there are no negative numbers) and integer value\n",
    "        # Not using the setLimits function here as there is no absolute lower limit - just cannot be below zero\n",
    "        cd.append(abs(int(np.random.normal(cd_mean, cd_std, 1)[0])))\n",
    "    dataset[\"cell_density\"] = cd\n",
    "    \n",
    "# Because microbial cell density is much greater\n",
    "dfMicro.cell_density = dfMicro.cell_density * 4"
   ]
  },
  {
   "cell_type": "code",
   "execution_count": 12,
   "metadata": {},
   "outputs": [],
   "source": [
    "# Just a quick check on our dfs to see how they are coming along\n",
    "#dfMicro.head()\n",
    "#dfMam.head()\n",
    "#dfHum.head()"
   ]
  },
  {
   "cell_type": "markdown",
   "metadata": {},
   "source": [
    "### <a name=\"hours\"></a>2.7 Processing Days\n",
    "Normal distribution dependent on: \n",
    "* cell type  \n",
    "  - microbial cells requiring much less time due to quicker adaptation and cell growth\n",
    "  - with mammalian cells requiring much longer to build up a sufficient cell density adapt to a new environment and to grow.\n",
    "* size of bioreactor\n",
    "  - the larger the bioreaactor the more seeding steps required to get an optimal cell density to seed the bioreactor. Too few cells in a large volume would equate to a longer total processing time at best and cell death at worst.  \n",
    "  - we will assume that the actual processing time within the main bioreactor will be approximately equal (normal distribution) among the same cell type and culture method. The bioreactor size will affect only the pre-processing seed preparation steps.\n",
    "  - 3days (72 hrs) + an additional 2 days (48hrs) for every 250L bioreactor size + \n",
    "* culture type  \n",
    "  - batch being shorter,  \n",
    "  - fed batch being longer  \n",
    "  - perfusion being much longer\n",
    "\n",
    "\n",
    "Proposed calculation factors:  \n",
    "\n",
    "| Factor                                | Microbial | Mammalian | Humanised |\n",
    "|---------------------------------------|-----------|-----------|-----------|\n",
    "| **Batch / Fed Batch Modes**                                                   |\n",
    "| Base Seed Days                        | 2         | 3         | 3         |\n",
    "| Day Increase / 250L  Bioreactor size  | 1         | 2         | 2.3       |\n",
    "| Days in Bioreactor                    | 3         | 5         | 6         |\n",
    "| Fed-Batch Multiplier                  | 1.3       | 1.3       | 1.3       |\n",
    "| **Perfusion**                                                                 |\n",
    "| Total Time (Days)                     | 20        | 40        | 45        |\n",
    "| Multiplier for every 250L increase    | 1.1       | 1.2       | 1.2       |"
   ]
  },
  {
   "cell_type": "code",
   "execution_count": 13,
   "metadata": {},
   "outputs": [
    {
     "data": {
      "text/plain": [
       "<matplotlib.legend.Legend at 0x27f22b1b4a8>"
      ]
     },
     "execution_count": 13,
     "metadata": {},
     "output_type": "execute_result"
    },
    {
     "data": {
      "image/png": "[encoded data removed]",
      "text/plain": [
       "<Figure size 1152x432 with 1 Axes>"
      ]
     },
     "metadata": {
      "needs_background": "light"
     },
     "output_type": "display_data"
    }
   ],
   "source": [
    "# Simulate Processing Hours\n",
    "\n",
    "for dataset in datasets:\n",
    "    days = []\n",
    "    fb_mult = 1.3\n",
    "    # Different standard deviations for microbial cultures - more repeatable\n",
    "    if dataset.cell_line[0] == \"Microbial\":\n",
    "        seed_base = 2\n",
    "        seed_inc = 1\n",
    "        bio = 3\n",
    "\n",
    "        perf = 20\n",
    "        perf_mul = 1.1\n",
    "    elif dataset.cell_line[0] == \"CHO\":\n",
    "        seed_base = 3\n",
    "        seed_inc = 2\n",
    "        bio = 5\n",
    "        perf = 40\n",
    "        perf_mul = 1.2\n",
    "    else:\n",
    "        seed_base = 3\n",
    "        seed_inc = 2.3\n",
    "        bio = 6\n",
    "        perf = 45\n",
    "        perf_mul = 1.2\n",
    "    # iterate over rows with iterrows()\n",
    "    for index, row in dataset.iterrows():\n",
    "        # Change the mean of the normalised distribution dependent on the culture type\n",
    "        if row[\"culture\"] == \"Perfusion\":\n",
    "            mean = perf + (row.br_size*perf_mul/500)\n",
    "        else:\n",
    "            mean = seed_base + (row.br_size*seed_inc/500) + bio\n",
    "        time = int(np.random.normal(mean, (mean/3),1))\n",
    "        if row.culture == \"Fed Batch\": time = time * fb_mult\n",
    "        days.append(time)\n",
    "    dataset[\"time\"] = days\n",
    "    plt.hist(days)\n",
    "plt.legend(dsNames)"
   ]
  },
  {
   "cell_type": "code",
   "execution_count": 15,
   "metadata": {},
   "outputs": [
    {
     "data": {
      "text/html": [
       "<div>\n",
       "<style scoped>\n",
       "    .dataframe tbody tr th:only-of-type {\n",
       "        vertical-align: middle;\n",
       "    }\n",
       "\n",
       "    .dataframe tbody tr th {\n",
       "        vertical-align: top;\n",
       "    }\n",
       "\n",
       "    .dataframe thead th {\n",
       "        text-align: right;\n",
       "    }\n",
       "</style>\n",
       "<table border=\"1\" class=\"dataframe\">\n",
       "  <thead>\n",
       "    <tr style=\"text-align: right;\">\n",
       "      <th></th>\n",
       "      <th>cell_line</th>\n",
       "      <th>br_size</th>\n",
       "      <th>avg_temp</th>\n",
       "      <th>avg_do</th>\n",
       "      <th>culture</th>\n",
       "      <th>cell_density</th>\n",
       "      <th>time</th>\n",
       "    </tr>\n",
       "  </thead>\n",
       "  <tbody>\n",
       "    <tr>\n",
       "      <th>41</th>\n",
       "      <td>Microbial</td>\n",
       "      <td>4000</td>\n",
       "      <td>36.7</td>\n",
       "      <td>5.7</td>\n",
       "      <td>Fed Batch</td>\n",
       "      <td>52</td>\n",
       "      <td>20.8</td>\n",
       "    </tr>\n",
       "    <tr>\n",
       "      <th>52</th>\n",
       "      <td>Microbial</td>\n",
       "      <td>3700</td>\n",
       "      <td>37.7</td>\n",
       "      <td>6.2</td>\n",
       "      <td>Fed Batch</td>\n",
       "      <td>56</td>\n",
       "      <td>7.8</td>\n",
       "    </tr>\n",
       "    <tr>\n",
       "      <th>79</th>\n",
       "      <td>Microbial</td>\n",
       "      <td>2000</td>\n",
       "      <td>38.0</td>\n",
       "      <td>5.6</td>\n",
       "      <td>Batch</td>\n",
       "      <td>12</td>\n",
       "      <td>10.0</td>\n",
       "    </tr>\n",
       "    <tr>\n",
       "      <th>63</th>\n",
       "      <td>Microbial</td>\n",
       "      <td>5300</td>\n",
       "      <td>36.7</td>\n",
       "      <td>5.8</td>\n",
       "      <td>Perfusion</td>\n",
       "      <td>32</td>\n",
       "      <td>35.0</td>\n",
       "    </tr>\n",
       "    <tr>\n",
       "      <th>19</th>\n",
       "      <td>Microbial</td>\n",
       "      <td>8600</td>\n",
       "      <td>37.1</td>\n",
       "      <td>5.6</td>\n",
       "      <td>Fed Batch</td>\n",
       "      <td>60</td>\n",
       "      <td>9.1</td>\n",
       "    </tr>\n",
       "  </tbody>\n",
       "</table>\n",
       "</div>"
      ],
      "text/plain": [
       "    cell_line  br_size  avg_temp  avg_do    culture  cell_density  time\n",
       "41  Microbial     4000      36.7     5.7  Fed Batch            52  20.8\n",
       "52  Microbial     3700      37.7     6.2  Fed Batch            56   7.8\n",
       "79  Microbial     2000      38.0     5.6      Batch            12  10.0\n",
       "63  Microbial     5300      36.7     5.8  Perfusion            32  35.0\n",
       "19  Microbial     8600      37.1     5.6  Fed Batch            60   9.1"
      ]
     },
     "execution_count": 15,
     "metadata": {},
     "output_type": "execute_result"
    }
   ],
   "source": [
    "# Just a quick check on our dfs to see how they are coming along\n",
    "dfMicro.sample(5)\n",
    "#dfMam.head()\n",
    "#dfHum.head()"
   ]
  },
  {
   "cell_type": "markdown",
   "metadata": {},
   "source": [
    "### <a name=\"alarms\"></a> 2.8  No of Alarms  \n",
    "The production process is monitored and controlled by an automated control system. This control system will alarm if various parameters fall outside of the acceptable limits. It is a reasonable assumption that the greater the number of alarms during proccessing would have an adverse effect on the yield. From a data simulation perspective, this would be a Poisson distribution of events during the cell growth.  "
   ]
  },
  {
   "cell_type": "markdown",
   "metadata": {},
   "source": [
    "### <a name=\"media\"></a> 2.9 Media Type  \n",
    "Cateorical data.  \n",
    "* Serum Free  \n",
    "* Serum based  "
   ]
  },
  {
   "cell_type": "markdown",
   "metadata": {},
   "source": [
    "### <a name=\"yield\"></a> 2.10 Yield  \n",
    "g of product. Based on all above data"
   ]
  },
  {
   "cell_type": "markdown",
   "metadata": {},
   "source": [
    "### <a name=\"worth\"></a>2.11 Net Worth of Batch  \n",
    "Uniform Distribution multiplier on yield with influence of cell type."
   ]
  },
  {
   "cell_type": "markdown",
   "metadata": {},
   "source": [
    "## <a name=\"finish\"></a>3. Finishing Off the Dataset"
   ]
  },
  {
   "cell_type": "code",
   "execution_count": 16,
   "metadata": {},
   "outputs": [],
   "source": [
    "# Code to mix up the dataframe\n",
    "#df = df.sample(frac=1).reset_index(drop=True)"
   ]
  },
  {
   "cell_type": "markdown",
   "metadata": {},
   "source": [
    "## <a name=\"describe\"></a>4. Describe New Dataset  \n"
   ]
  },
  {
   "cell_type": "markdown",
   "metadata": {},
   "source": [
    "## <a name=\"conclusion\"></a>5. Conclusion"
   ]
  },
  {
   "cell_type": "markdown",
   "metadata": {},
   "source": [
    "## <a name=\"refs\"></a>6. References ##\n",
    "1. [NumPy Site](http://www.numpy.org/)\n",
    "2. [Project Jupyter](http://jupyter.org/)  \n",
    "3. http://jcb.rupress.org/content/jcb/32/2/309.full.pdf  \n",
    "4. [Bioreactors for high cell density and continuous multi-stage cultivations: options for process intensification in cell culture-based viral vaccine production\n",
    "Felipe Tapia, Daniel Vázquez-Ramírez, Yvonne Genzel, Udo Reichl\n",
    "Appl Microbiol Biotechnol. 2016; 100: 2121–2132. Published online 2016 Jan 13. doi: 10.1007/s00253-015-7267-9](https://www.ncbi.nlm.nih.gov/pmc/articles/PMC4756030/)\n",
    "5. [GE Life Sciences: 7 Factors that Affect Oxygen Transfer](https://www.gelifesciences.com/en/us/solutions/bioprocessing/knowledge-center/7-factors-that-affect-oxygen-transfer-to-cells-in-bioreactors)  \n",
    "6. [Python and R Tips: How To Loop Through Pandas Rows? or How To Iterate Over Pandas Rows?](https://cmdlinetips.com/2018/12/how-to-loop-through-pandas-rows-or-how-to-iterate-over-pandas-rows/)\n",
    "7. [Brooks Instrument - Boosting Bioreactor Performance by Enhancing MFC accuracy](https://www.brooksinstrument.com/en/blog/boosting-bioreactor-performance-by-enhancing-mfc-accuracy)  \n",
    "8. [Wikipedia - Chinese Hamster Ovary Cell](https://en.wikipedia.org/wiki/Chinese_hamster_ovary_cell)  \n",
    "9. [Stack OVerflow: How to Make Two Plots Side by Side](https://stackoverflow.com/questions/42818361/how-to-make-two-plots-side-by-side-using-python)  \n",
    "10. [Stack Overflow: Shuffle Dataframe Rows](https://stackoverflow.com/questions/29576430/shuffle-dataframe-rows)  \n",
    "11. []()  "
   ]
  },
  {
   "cell_type": "code",
   "execution_count": null,
   "metadata": {},
   "outputs": [],
   "source": []
  }
 ],
 "metadata": {
  "kernelspec": {
   "display_name": "Python 3",
   "language": "python",
   "name": "python3"
  },
  "language_info": {
   "codemirror_mode": {
    "name": "ipython",
    "version": 3
   },
   "file_extension": ".py",
   "mimetype": "text/x-python",
   "name": "python",
   "nbconvert_exporter": "python",
   "pygments_lexer": "ipython3",
   "version": "3.7.3"
  }
 },
 "nbformat": 4,
 "nbformat_minor": 2
}
