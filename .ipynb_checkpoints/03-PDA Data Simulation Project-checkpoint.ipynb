{
 "cells": [
  {
   "cell_type": "markdown",
   "metadata": {},
   "source": [
    "<img align=\"left\" src=\"images/GMIT-logo.png\" alt=\"GMIT\" width=\"220\"/>                                                      <img align=\"right\" src=\"images/data-analytics.png\" alt=\"HDipDA\" width=\"250\"/>  \n",
    "\n",
    "# <center>Programming for Data Analysis 2019 Project: Simulating Real World Data</center>  #"
   ]
  },
  {
   "cell_type": "markdown",
   "metadata": {},
   "source": [
    "***\n",
    "**Module Name**: Programming for Data Analysis  \n",
    "**Module Number**: 52465  \n",
    "**Student Name**: Yvonne Brady  \n",
    "**Student ID**: G00376355  \n",
    "***\n",
    "\n",
    "**Problem statement**  \n",
    "For this project you must create a data set by simulating a real-world phenomenon of your choosing. You may pick any phenomenon you wish – you might pick one that is of interest to you in your personal or professional life. Then, rather than collect data related to the phenomenon, you should model and synthesise such data using Python.  \n",
    "\n",
    "We suggest you use the numpy.random package for this purpose.  \n",
    "\n",
    "Specifically, in this project you should:\n",
    "* Choose a real-world phenomenon that can be measured and for which you could collect at least one-hundred data points across at least four different variables.  \n",
    "* Investigate the types of variables involved, their likely distributions, and their relationships with each other.\n",
    "* Synthesise/simulate a data set as closely matching their properties as possible.\n",
    "* Detail your research and implement the simulation in a Jupyter notebook – the data set itself can simply be displayed in an output cell within the notebook.  \n",
    "\n",
    "Note that this project is about simulation – you must synthesise a data set. Some\n",
    "students may already have some real-world data sets in their own files. It is okay to\n",
    "base your synthesised data set on these should you wish (please reference it if you do),\n",
    "but the main task in this project is to create a synthesised data set. "
   ]
  },
  {
   "cell_type": "markdown",
   "metadata": {},
   "source": [
    "# Table of Contents #\n",
    "1. [Introduction](#intro)  \n",
    "1.1 [Helper Functions](#help)\n",
    "2. [Dataset](#dataset)  \n",
    "2.1 [Cell Line](#cell_line)  \n",
    "2.2 [Bioreactor Size](#brSize)  \n",
    "2.3 [Average Temperature](#temp)  \n",
    "2.4 [Dissolved Oxygen](#do)  \n",
    "2.5 [Culture type](#culture)  \n",
    "2.6 [Peak Viable Cell Density](#cell_dens)  \n",
    "2.7 [Processing Time](#hours)  \n",
    "2.8 [No of alarms](#alarms)  \n",
    "2.9 [Yield](#yield)  \n",
    "2.10 [Net worth of batch](#worth)\n",
    "3. [Finishing Off the Dataset](#finish)\n",
    "4. [Describe New Dataset](#describe)\n",
    "5. [Conclusion](#conclusion)\n",
    "6. [References](#refs)"
   ]
  },
  {
   "cell_type": "markdown",
   "metadata": {},
   "source": [
    " ## <a name=\"intro\"></a>1. Introduction ## \n",
    "For my data simulation project I have chosen the production of biopharmaceuticals products, in particular monoclonal antibodies (mAbs). Naturally occurring antibodies are produced in the body as part of our immunological defence systems. Whenever we get a cough or cold, or indeed anything more serious, our bodies will produce antibodies to target whatever is causing the illness. This may be a bacterium, _e.g._ Strep throat caused by _Streptococcus pyogenes,_ a virus, in the case of a cold or flu, some foreign matter _e.g._ pollen which will result in hayfever or even the bodies own cells when they   become aged or damaged.   Because antibodies may be made to combat any substance that enters the body, they make ideal candidates to harness for therapeutic purposes.  \n",
    "\n",
    "When the body comes under attack by a substance called a pathogen, for example the common cold, special cells in the body will make antibodies to try and overcome this pathogen. In many cases this happens very successfully and we never even knew we fighting off the infection. Each of these special cells will make their own version of an antibody in the hope that one of them will be successful in overcoming the invader. The body monitors which ones are successful and subsequently  increase the production of the best fit antibody. \n",
    "\n",
    "To make a biopharmaceutical a single cell that is good at producing the antibody required is cloned repeatedly. This cloned cell is grown in a vessel called a bioreactor and encouraged to produce the antibody. The contents of the bioreactor are then removed, the antibody extracted and purified to produce the final biopharmaceutical product.  \n",
    "\n",
    "The data I have initially chosen to simulate for this project are:  \n",
    "\n",
    "* Cell line\n",
    "* Bioreactor Size  \n",
    "* Average Temperature   \n",
    "* Dissolved Oxygen  \n",
    "* Peak Viable Cell Density  \n",
    "* Processing Hours  \n",
    "* Culture type  \n",
    "* No of alarms  \n",
    "* Yield  \n",
    "* Net worth of batch  \n",
    "\n",
    "I will use the numpy random package as an aid to the data simulation [[1](#1)]."
   ]
  },
  {
   "cell_type": "markdown",
   "metadata": {},
   "source": [
    "### <a name=\"help\"></a>1.1 Helper Functions  \n",
    "\n",
    "There are a number of repetitive checks / transformations need to be done to the data being generated. This section houses any functions we need to perform these tasks. Many of these are due to the fact that the data being generated is random, so without using the seed function, we cannot predict exactly where the data will fall.  \n",
    "\n",
    "These functions include:\n",
    "* setLimits - to ensure that hard minimum or maximum values are held irrespective of data generated  \n",
    "\n",
    "Before we do anything however, we need first import the packages required."
   ]
  },
  {
   "cell_type": "code",
   "execution_count": 1,
   "metadata": {},
   "outputs": [],
   "source": [
    "import pandas as pd\n",
    "import numpy as np\n",
    "import matplotlib.pyplot as plt # plotting and as a basis for seaborn\n",
    "from scipy import stats # Caluclation of z-scores\n",
    "%matplotlib inline\n",
    "plt.rcParams['figure.figsize'] = [16, 6] # Setting the plot size"
   ]
  },
  {
   "cell_type": "code",
   "execution_count": 2,
   "metadata": {},
   "outputs": [],
   "source": [
    "# This function resets the minimum and maximum values\n",
    "# If there are hard set limits eg size of bioreactor cannot be negative, DO level cannot be above 6.7 etc\n",
    "# This does over-ride the normal or whatever distribution chosen, \n",
    "# but it gets rid of nonsense values and it is a simulation ...\n",
    "def setLimits(attList, minReq, maxReq, minVal, maxVal):\n",
    "    # Create a new list to return the corrected values\n",
    "    newList = []\n",
    "    # Loop through each item in the list\n",
    "    for att in attList:\n",
    "        # If we are checking for minimum values\n",
    "        # And the item is below the min value\n",
    "        if minReq and att < minVal:\n",
    "            # Reset to be minVal\n",
    "            att = minVal\n",
    "        # If we are checking for maximum values\n",
    "        # And the item is above the max value    \n",
    "        if maxReq and att > maxVal:\n",
    "            # Reset to be the maxVal\n",
    "            att = maxVal\n",
    "        # Create a new list with corrected values\n",
    "        newList.append(att)\n",
    "    # Return the new list\n",
    "    return newList"
   ]
  },
  {
   "cell_type": "markdown",
   "metadata": {},
   "source": [
    "## 2. <a name=\"dataset\"></a>The Dataset\n",
    "\n",
    "Of all the parameters I have chosen, the most influential of all is the cell type. There are three possible cell types and as almost every variable is dependent on the kind of cells used, the plan is to create three minidatasets which I will combine at the end. Each of these dataset will be 100 rows long.  \n",
    "\n",
    "To achieve this we must first import the python packages we need."
   ]
  },
  {
   "cell_type": "markdown",
   "metadata": {},
   "source": [
    "### <a name=\"cell_line\"></a>2.1 Cell Line \n",
    "This is the type of used to produce the antibody. While there are many types of cells utilised in biopharmaceutical production, for the purposes of this project I am ploying categorical data. The cell type may be -\n",
    "* Microbial cells (_e.g. E. coli._) - being unicellular, these cells are the easiest to grow, but can only produce basic proteins.  \n",
    "* Mammalian cell (_e.g._ CHO) - Chinese Hamster Ovary cells are frequently used in biopharmaceutical processing. They can produce complicated proteins but are harder to grow in vitro. Mammalian cells are used to being part of a larger organism that has specialised organs to look after for example waste disposal _etc._. They also rely on other organs for physical protection and anchorage _e.g._ bones and skin. Mammalian cells do not adapt well to being on their own in a bioreactor and as a result will grow much slower and be more susceptible to damage than microbial cells.  \n",
    "* Humanised CHOs - As the body recognises CHO-produced proteins as non-human, they elicit an immune response. CHOS may be genetically manipulated to become humanised. These CHOs produce more human like proteins which are better accepted by the body. This genetic manipulation further destabilises the cells however, making them more difficult again to grow.  \n",
    "\n",
    "This is a really important feature as many of the following attributes depend on the cell type. In general, the microbial cell line is more robust, mammalian (CHO) less so, and to a lesser extent the mammalian producing humanised protein even less so. For now, I will evenly split the sample size into three and assume there are equal number of each."
   ]
  },
  {
   "cell_type": "code",
   "execution_count": 3,
   "metadata": {},
   "outputs": [],
   "source": [
    "data = [\"Microbial\"]*100\n",
    "dfMicro = pd.DataFrame(data, columns = ['cell_line']) \n",
    "data = [\"CHO\"]*100\n",
    "dfMam = pd.DataFrame(data, columns = ['cell_line']) \n",
    "data = [\"vCHO\"]*100\n",
    "dfHum = pd.DataFrame(data, columns = ['cell_line']) \n",
    "\n",
    "# Create set of all three datasets\n",
    "datasets = [dfMicro, dfMam, dfHum]\n",
    "dsNames = [\"Microbial\", \"Mammalian\", \"Humanised\"]"
   ]
  },
  {
   "cell_type": "markdown",
   "metadata": {},
   "source": [
    "### <a name= brSize></a>2.2 Size of bioreactor\n",
    "THe size of the bioreactor The larger the bioreactor, the greater the amount of product produced. It takes more time for the cells to acclimatise to the bioreactor, particularly the mammalian cells (CHO and humanised CHO). For the purposes of the data simulation it is assumed there will be a uniform distribution of the bioreator sizes.\n"
   ]
  },
  {
   "cell_type": "code",
   "execution_count": 4,
   "metadata": {
    "scrolled": true
   },
   "outputs": [
    {
     "data": {
      "text/plain": [
       "<matplotlib.legend.Legend at 0x1d4e29ac518>"
      ]
     },
     "execution_count": 4,
     "metadata": {},
     "output_type": "execute_result"
    },
    {
     "data": {
      "image/png": "[encoded data removed]",
      "text/plain": [
       "<Figure size 432x288 with 1 Axes>"
      ]
     },
     "metadata": {
      "needs_background": "light"
     },
     "output_type": "display_data"
    }
   ],
   "source": [
    "# Start with Bioreactor Size\n",
    "for dataset in datasets:\n",
    "    # This will be a uniformly distributed range of sizes from 500L to 10000L \n",
    "    brSize = 100 * np.random.randint(5, 101, 100)\n",
    "    dataset[\"br_size\"] = brSize\n",
    "    plt.hist(brSize, alpha = 0.5)\n",
    "\n",
    "plt.xlabel(\"Bioreactor Size L)\")\n",
    "plt.ylabel(\"Frequency\")\n",
    "plt.title(\"Bioreactor Size for each Cell Line Type\")\n",
    "plt.legend(dsNames)"
   ]
  },
  {
   "cell_type": "markdown",
   "metadata": {},
   "source": [
    "### <a name=\"temp\"></a>2.3 Average Temperature Reading  \n",
    "There are a number of parameters that are controlled and monitored as part of the cultivation of cells. One such parameter is the temperature. This is controlled via a control system (DCS - Distributed Control System, or PLC - Programmable Logic Controller). While the temperature is monitored and controlled throughout its cultivation time, it is taken for this dataset to be the mean throughout the process. This will be simulated to be a normal distributed attribute. The microbial cell lines have a good tolerance for temperature, while the mammalian cells do not. Mammalian cells are used to specific organs controlling the temperature of the body, _e.g._ blood, skin, kidneys _etc._ and have no cellular mechanism to do so on their own. As a result mammalian cells are much more susceptible to temperature fluctuations [[3](#3)].  "
   ]
  },
  {
   "cell_type": "code",
   "execution_count": 5,
   "metadata": {},
   "outputs": [
    {
     "data": {
      "text/plain": [
       "<matplotlib.legend.Legend at 0x1d4e3134f60>"
      ]
     },
     "execution_count": 5,
     "metadata": {},
     "output_type": "execute_result"
    },
    {
     "data": {
      "image/png": "[encoded data removed]",
      "text/plain": [
       "<Figure size 432x288 with 1 Axes>"
      ]
     },
     "metadata": {
      "needs_background": "light"
     },
     "output_type": "display_data"
    }
   ],
   "source": [
    "# Simulate Average Temperature Readings\n",
    "mean_temp = 37.0\n",
    "std_temp = 0.5\n",
    "for dataset in datasets:\n",
    "    # This will be a normally distributed range with a mean of 37.0 degC \n",
    "    temp = np.random.normal(mean_temp, std_temp, 100)\n",
    "    dataset[\"avg_temp\"] = temp.round(1)\n",
    "    plt.hist(temp, alpha = 0.5)\n",
    "plt.xlabel(\"Average Temperature Readings (degC))\")\n",
    "plt.ylabel(\"Frequency\")\n",
    "plt.title(\"Average Temperature for each Cell Line Type\")\n",
    "plt.legend(dsNames)"
   ]
  },
  {
   "cell_type": "code",
   "execution_count": 6,
   "metadata": {},
   "outputs": [
    {
     "data": {
      "text/html": [
       "<div>\n",
       "<style scoped>\n",
       "    .dataframe tbody tr th:only-of-type {\n",
       "        vertical-align: middle;\n",
       "    }\n",
       "\n",
       "    .dataframe tbody tr th {\n",
       "        vertical-align: top;\n",
       "    }\n",
       "\n",
       "    .dataframe thead th {\n",
       "        text-align: right;\n",
       "    }\n",
       "</style>\n",
       "<table border=\"1\" class=\"dataframe\">\n",
       "  <thead>\n",
       "    <tr style=\"text-align: right;\">\n",
       "      <th></th>\n",
       "      <th>cell_line</th>\n",
       "      <th>br_size</th>\n",
       "      <th>avg_temp</th>\n",
       "    </tr>\n",
       "  </thead>\n",
       "  <tbody>\n",
       "    <tr>\n",
       "      <th>84</th>\n",
       "      <td>Microbial</td>\n",
       "      <td>6200</td>\n",
       "      <td>35.8</td>\n",
       "    </tr>\n",
       "    <tr>\n",
       "      <th>6</th>\n",
       "      <td>Microbial</td>\n",
       "      <td>6500</td>\n",
       "      <td>35.9</td>\n",
       "    </tr>\n",
       "    <tr>\n",
       "      <th>8</th>\n",
       "      <td>Microbial</td>\n",
       "      <td>3400</td>\n",
       "      <td>37.1</td>\n",
       "    </tr>\n",
       "    <tr>\n",
       "      <th>45</th>\n",
       "      <td>Microbial</td>\n",
       "      <td>8100</td>\n",
       "      <td>36.3</td>\n",
       "    </tr>\n",
       "    <tr>\n",
       "      <th>68</th>\n",
       "      <td>Microbial</td>\n",
       "      <td>2200</td>\n",
       "      <td>36.9</td>\n",
       "    </tr>\n",
       "  </tbody>\n",
       "</table>\n",
       "</div>"
      ],
      "text/plain": [
       "    cell_line  br_size  avg_temp\n",
       "84  Microbial     6200      35.8\n",
       "6   Microbial     6500      35.9\n",
       "8   Microbial     3400      37.1\n",
       "45  Microbial     8100      36.3\n",
       "68  Microbial     2200      36.9"
      ]
     },
     "execution_count": 6,
     "metadata": {},
     "output_type": "execute_result"
    }
   ],
   "source": [
    "# Just a quick check on our dfs to see how they are coming along\n",
    "dfMicro.sample(5)\n",
    "#dfMam.head()\n",
    "#dfHum.head()"
   ]
  },
  {
   "cell_type": "markdown",
   "metadata": {},
   "source": [
    "### <a name=\"do\"></a>2.4 Dissolved Oxygen  \n",
    "Like the average temperature reading, the dissolved oxygen (DO) is continuously monitored throughout the process by the control system and the mean value simulated here. Again like the temperature, the microbial cells are easier to adapt to non-optimal DO levels.  \n",
    "\n",
    "To make things more interesting, we are going to make a huge leap here and say that if the DO is too high, it is a sign that air was too vigorously sparged through the bioreactor which would result in cell lysis (breaking apart - death). This is a true phenomenon, but increased O2 levels could also be due to factors other than sparging as well. "
   ]
  },
  {
   "cell_type": "code",
   "execution_count": 7,
   "metadata": {},
   "outputs": [
    {
     "data": {
      "text/plain": [
       "<matplotlib.legend.Legend at 0x1d4e4260e10>"
      ]
     },
     "execution_count": 7,
     "metadata": {},
     "output_type": "execute_result"
    },
    {
     "data": {
      "image/png": "[encoded data removed]",
      "text/plain": [
       "<Figure size 432x288 with 1 Axes>"
      ]
     },
     "metadata": {
      "needs_background": "light"
     },
     "output_type": "display_data"
    }
   ],
   "source": [
    "# Simulate Average Dissolved Oxygen Readings\n",
    "mean_do = 5.5\n",
    "std_do = 0.5\n",
    "\n",
    "for dataset in datasets:\n",
    "    # This will be a normally distributed range of DO averages centred around a mean of 5.0\n",
    "    do = np.random.normal(mean_do, std_do, 100)\n",
    "    # At 37degC the maximum possible DO concentration is 6.7\n",
    "    # We need to ensure that no value exceeds that maximum \n",
    "    do = setLimits(do, False, 0, True, 6.7)\n",
    "    dataset[\"avg_do\"] = list(np.around(np.array(do),1)) \n",
    "    plt.hist(do, alpha = 0.5)\n",
    "\n",
    "plt.xlabel(\"Dissolved Oxygen)\")\n",
    "plt.ylabel(\"Frequency\")\n",
    "plt.title(\"Average Dissolved Oxygen Readings for each Cell Line Type\")\n",
    "plt.legend(dsNames)"
   ]
  },
  {
   "cell_type": "code",
   "execution_count": 8,
   "metadata": {},
   "outputs": [
    {
     "data": {
      "text/html": [
       "<div>\n",
       "<style scoped>\n",
       "    .dataframe tbody tr th:only-of-type {\n",
       "        vertical-align: middle;\n",
       "    }\n",
       "\n",
       "    .dataframe tbody tr th {\n",
       "        vertical-align: top;\n",
       "    }\n",
       "\n",
       "    .dataframe thead th {\n",
       "        text-align: right;\n",
       "    }\n",
       "</style>\n",
       "<table border=\"1\" class=\"dataframe\">\n",
       "  <thead>\n",
       "    <tr style=\"text-align: right;\">\n",
       "      <th></th>\n",
       "      <th>cell_line</th>\n",
       "      <th>br_size</th>\n",
       "      <th>avg_temp</th>\n",
       "      <th>avg_do</th>\n",
       "    </tr>\n",
       "  </thead>\n",
       "  <tbody>\n",
       "    <tr>\n",
       "      <th>0</th>\n",
       "      <td>CHO</td>\n",
       "      <td>2600</td>\n",
       "      <td>36.7</td>\n",
       "      <td>5.2</td>\n",
       "    </tr>\n",
       "    <tr>\n",
       "      <th>1</th>\n",
       "      <td>CHO</td>\n",
       "      <td>3500</td>\n",
       "      <td>37.1</td>\n",
       "      <td>6.3</td>\n",
       "    </tr>\n",
       "    <tr>\n",
       "      <th>2</th>\n",
       "      <td>CHO</td>\n",
       "      <td>7300</td>\n",
       "      <td>37.1</td>\n",
       "      <td>5.4</td>\n",
       "    </tr>\n",
       "    <tr>\n",
       "      <th>3</th>\n",
       "      <td>CHO</td>\n",
       "      <td>7100</td>\n",
       "      <td>36.0</td>\n",
       "      <td>5.5</td>\n",
       "    </tr>\n",
       "    <tr>\n",
       "      <th>4</th>\n",
       "      <td>CHO</td>\n",
       "      <td>7400</td>\n",
       "      <td>36.9</td>\n",
       "      <td>5.4</td>\n",
       "    </tr>\n",
       "  </tbody>\n",
       "</table>\n",
       "</div>"
      ],
      "text/plain": [
       "  cell_line  br_size  avg_temp  avg_do\n",
       "0       CHO     2600      36.7     5.2\n",
       "1       CHO     3500      37.1     6.3\n",
       "2       CHO     7300      37.1     5.4\n",
       "3       CHO     7100      36.0     5.5\n",
       "4       CHO     7400      36.9     5.4"
      ]
     },
     "execution_count": 8,
     "metadata": {},
     "output_type": "execute_result"
    }
   ],
   "source": [
    "# Just a quick check on our dfs to see how they are coming along\n",
    "#dfMicro.head()\n",
    "dfMam.head()\n",
    "#dfHum.head()"
   ]
  },
  {
   "cell_type": "markdown",
   "metadata": {},
   "source": [
    "### <a name=\"culture\"></a> 2.5 Culture Type  \n",
    "The type of processing may be   \n",
    "* Batch  \n",
    "* Fed batch  \n",
    "* Perfusion  \n",
    "\n",
    "In the order given each type has longer processing times, has an increased yield and may have a small bioreactor volume in the case of perfusion method. For the purposes of data simulation, this is categorical data.  \n",
    "\n",
    "The traits we will consider for allocation of culture type will be:\n",
    "* Perfusion bioreactors tend to be smaller that other methods\n",
    "* Fed-batch is the most common method\n",
    "* Batch is the least common method "
   ]
  },
  {
   "cell_type": "code",
   "execution_count": 9,
   "metadata": {
    "scrolled": true
   },
   "outputs": [
    {
     "data": {
      "image/png": "[encoded data removed]",
      "text/plain": [
       "<Figure size 1152x432 with 3 Axes>"
      ]
     },
     "metadata": {},
     "output_type": "display_data"
    }
   ],
   "source": [
    "# Simulate different culture types\n",
    "cultures=[\"Batch\", \"Fed Batch\", \"Perfusion\"]\n",
    "plt.rcParams['figure.figsize'] = [16, 6] # Needed to put this in again!\n",
    "# Plot both the raw data and the \"best fit\" lines\n",
    "i = 1\n",
    "for dataset in datasets:\n",
    "    culture=[]\n",
    "    # iterate over rows with iterrows()\n",
    "    for index, row in dataset.iterrows():\n",
    "        # Change the probabilities of the culture type dependent on the bioreactor size\n",
    "        if row[\"br_size\"] < 2000:\n",
    "            prob = [0.2, 0.2, 0.6]\n",
    "        elif row[\"br_size\"] < 6000:\n",
    "            prob = [0.3, 0.5, 0.2]\n",
    "        else:\n",
    "            prob = [0.25, 0.7, 0.05]\n",
    "        culture.append(np.random.choice(cultures, 1, replace=True, p =prob)[0])\n",
    "    dataset[\"culture\"] = culture\n",
    "    \n",
    "    # Data to plot\n",
    "    sizes = (dataset[dataset.culture == \"Batch\"].culture.count(), \\\n",
    "            dataset[dataset.culture == \"Fed Batch\"].culture.count(), \\\n",
    "            dataset[dataset.culture == \"Perfusion\"].culture.count(), \\\n",
    "            )\n",
    "    plt.subplot(1, 3, i)\n",
    "    plt.pie(sizes, labels=cultures, autopct='%1.1f%%', startangle=15, shadow = True)\n",
    "    plt.title(\"Division of Culture Types for \" + dataset.cell_line[0] + \" Cells\")\n",
    "    i+=1"
   ]
  },
  {
   "cell_type": "code",
   "execution_count": 10,
   "metadata": {},
   "outputs": [
    {
     "data": {
      "text/html": [
       "<div>\n",
       "<style scoped>\n",
       "    .dataframe tbody tr th:only-of-type {\n",
       "        vertical-align: middle;\n",
       "    }\n",
       "\n",
       "    .dataframe tbody tr th {\n",
       "        vertical-align: top;\n",
       "    }\n",
       "\n",
       "    .dataframe thead th {\n",
       "        text-align: right;\n",
       "    }\n",
       "</style>\n",
       "<table border=\"1\" class=\"dataframe\">\n",
       "  <thead>\n",
       "    <tr style=\"text-align: right;\">\n",
       "      <th></th>\n",
       "      <th>cell_line</th>\n",
       "      <th>br_size</th>\n",
       "      <th>avg_temp</th>\n",
       "      <th>avg_do</th>\n",
       "      <th>culture</th>\n",
       "    </tr>\n",
       "  </thead>\n",
       "  <tbody>\n",
       "    <tr>\n",
       "      <th>0</th>\n",
       "      <td>vCHO</td>\n",
       "      <td>6200</td>\n",
       "      <td>36.1</td>\n",
       "      <td>6.2</td>\n",
       "      <td>Fed Batch</td>\n",
       "    </tr>\n",
       "    <tr>\n",
       "      <th>1</th>\n",
       "      <td>vCHO</td>\n",
       "      <td>3700</td>\n",
       "      <td>36.1</td>\n",
       "      <td>5.6</td>\n",
       "      <td>Batch</td>\n",
       "    </tr>\n",
       "    <tr>\n",
       "      <th>2</th>\n",
       "      <td>vCHO</td>\n",
       "      <td>5600</td>\n",
       "      <td>36.9</td>\n",
       "      <td>5.9</td>\n",
       "      <td>Fed Batch</td>\n",
       "    </tr>\n",
       "    <tr>\n",
       "      <th>3</th>\n",
       "      <td>vCHO</td>\n",
       "      <td>8500</td>\n",
       "      <td>36.1</td>\n",
       "      <td>5.7</td>\n",
       "      <td>Batch</td>\n",
       "    </tr>\n",
       "    <tr>\n",
       "      <th>4</th>\n",
       "      <td>vCHO</td>\n",
       "      <td>5100</td>\n",
       "      <td>37.1</td>\n",
       "      <td>5.5</td>\n",
       "      <td>Fed Batch</td>\n",
       "    </tr>\n",
       "  </tbody>\n",
       "</table>\n",
       "</div>"
      ],
      "text/plain": [
       "  cell_line  br_size  avg_temp  avg_do    culture\n",
       "0      vCHO     6200      36.1     6.2  Fed Batch\n",
       "1      vCHO     3700      36.1     5.6      Batch\n",
       "2      vCHO     5600      36.9     5.9  Fed Batch\n",
       "3      vCHO     8500      36.1     5.7      Batch\n",
       "4      vCHO     5100      37.1     5.5  Fed Batch"
      ]
     },
     "execution_count": 10,
     "metadata": {},
     "output_type": "execute_result"
    }
   ],
   "source": [
    "# Just a quick check on our dfs to see how they are coming along\n",
    "#dfMicro.head()\n",
    "#dfMam.head()\n",
    "dfHum.head()"
   ]
  },
  {
   "cell_type": "markdown",
   "metadata": {},
   "source": [
    "### <a name=\"cell_dens\"> </a> 2.6 Peak Viable Cell Density  \n",
    "This is the maximum live cell density in x $10^6$ cells / ml. This is dependent on the type of cells and culture method used.  \n",
    "\n",
    "Batch Systems < Fed-batch systems < Perfusion systems  \n",
    "\n",
    "and  \n",
    "\n",
    "Mammalian cells < Microbial cells\n",
    "\n",
    "Within each of these categorisations the cell density could be assumed to be normally distributed.\n",
    "4 < 6 < 15"
   ]
  },
  {
   "cell_type": "code",
   "execution_count": 11,
   "metadata": {},
   "outputs": [],
   "source": [
    "# Simulate Cell Densities\n",
    "\n",
    "for dataset in datasets:\n",
    "    # Different standard deviations for microbial cultures - more repeatable\n",
    "    if dataset.cell_line[0] == \"Microbial\":\n",
    "        cd_std = 1\n",
    "    else:\n",
    "        cd_std = 2\n",
    "    cd=[]\n",
    "    # iterate over rows with iterrows()\n",
    "    for index, row in dataset.iterrows():\n",
    "        # Change the mean of the normalised distribution dependent on the culture type\n",
    "        if row[\"culture\"] == \"Batch\":\n",
    "            cd_mean = 4\n",
    "        elif row[\"culture\"] == \"Fed Batch\":\n",
    "            cd_mean = 6\n",
    "        elif row[\"culture\"] == \"Perfusion\":\n",
    "            cd_mean = 15\n",
    "        # taking the absolute (as there are no negative numbers) and integer value\n",
    "        # Not using the setLimits function here as there is no absolute lower limit - just cannot be below zero\n",
    "        cd.append(abs(int(np.random.normal(cd_mean, cd_std, 1)[0])))\n",
    "    dataset[\"cell_density\"] = cd\n",
    "    \n",
    "# Because microbial cell density is much greater\n",
    "dfMicro.cell_density = dfMicro.cell_density * 4"
   ]
  },
  {
   "cell_type": "markdown",
   "metadata": {},
   "source": [
    "**Note**: Using a normal distribution here it is possible some values will equate to cell density of 0. This is a valid measurement and can and does happen particularly if something went wrong in the seeding process.  \n",
    "\n",
    "A cell density of zero reflects the fact that all cells are non-viable or dead. This may also happen if process conditions were incompatible with cellular processes eg environmental conditions like temperature, agitation speed etc, the addition of toxic substances, the build up of toxins from the cellular process itself or simply an exhaustion of nutrient supply.    \n",
    "\n",
    "While the reading here is a Peak Cell Density, this is often not continually measured, but via sampling. A peak cell density in any of the above scenarios would be possible."
   ]
  },
  {
   "cell_type": "code",
   "execution_count": 12,
   "metadata": {},
   "outputs": [
    {
     "data": {
      "text/html": [
       "<div>\n",
       "<style scoped>\n",
       "    .dataframe tbody tr th:only-of-type {\n",
       "        vertical-align: middle;\n",
       "    }\n",
       "\n",
       "    .dataframe tbody tr th {\n",
       "        vertical-align: top;\n",
       "    }\n",
       "\n",
       "    .dataframe thead th {\n",
       "        text-align: right;\n",
       "    }\n",
       "</style>\n",
       "<table border=\"1\" class=\"dataframe\">\n",
       "  <thead>\n",
       "    <tr style=\"text-align: right;\">\n",
       "      <th></th>\n",
       "      <th>cell_line</th>\n",
       "      <th>br_size</th>\n",
       "      <th>avg_temp</th>\n",
       "      <th>avg_do</th>\n",
       "      <th>culture</th>\n",
       "      <th>cell_density</th>\n",
       "    </tr>\n",
       "  </thead>\n",
       "  <tbody>\n",
       "    <tr>\n",
       "      <th>6</th>\n",
       "      <td>CHO</td>\n",
       "      <td>7000</td>\n",
       "      <td>37.2</td>\n",
       "      <td>6.2</td>\n",
       "      <td>Fed Batch</td>\n",
       "      <td>6</td>\n",
       "    </tr>\n",
       "    <tr>\n",
       "      <th>35</th>\n",
       "      <td>CHO</td>\n",
       "      <td>4000</td>\n",
       "      <td>37.6</td>\n",
       "      <td>5.9</td>\n",
       "      <td>Fed Batch</td>\n",
       "      <td>7</td>\n",
       "    </tr>\n",
       "    <tr>\n",
       "      <th>57</th>\n",
       "      <td>CHO</td>\n",
       "      <td>1500</td>\n",
       "      <td>36.6</td>\n",
       "      <td>5.5</td>\n",
       "      <td>Perfusion</td>\n",
       "      <td>17</td>\n",
       "    </tr>\n",
       "    <tr>\n",
       "      <th>62</th>\n",
       "      <td>CHO</td>\n",
       "      <td>900</td>\n",
       "      <td>36.3</td>\n",
       "      <td>6.6</td>\n",
       "      <td>Perfusion</td>\n",
       "      <td>11</td>\n",
       "    </tr>\n",
       "    <tr>\n",
       "      <th>72</th>\n",
       "      <td>CHO</td>\n",
       "      <td>7200</td>\n",
       "      <td>36.1</td>\n",
       "      <td>5.7</td>\n",
       "      <td>Fed Batch</td>\n",
       "      <td>7</td>\n",
       "    </tr>\n",
       "  </tbody>\n",
       "</table>\n",
       "</div>"
      ],
      "text/plain": [
       "   cell_line  br_size  avg_temp  avg_do    culture  cell_density\n",
       "6        CHO     7000      37.2     6.2  Fed Batch             6\n",
       "35       CHO     4000      37.6     5.9  Fed Batch             7\n",
       "57       CHO     1500      36.6     5.5  Perfusion            17\n",
       "62       CHO      900      36.3     6.6  Perfusion            11\n",
       "72       CHO     7200      36.1     5.7  Fed Batch             7"
      ]
     },
     "execution_count": 12,
     "metadata": {},
     "output_type": "execute_result"
    }
   ],
   "source": [
    "# Just a quick check on our dfs to see how they are coming along\n",
    "#dfMicro.head()\n",
    "dfMam.sample(5)\n",
    "#dfHum.head()"
   ]
  },
  {
   "cell_type": "markdown",
   "metadata": {},
   "source": [
    "### <a name=\"hours\"></a>2.7 Processing Days\n",
    "Normal distribution dependent on: \n",
    "* cell type  \n",
    "  - microbial cells requiring much less time due to quicker adaptation and cell growth\n",
    "  - with mammalian cells requiring much longer to build up a sufficient cell density adapt to a new environment and to grow.\n",
    "* size of bioreactor\n",
    "  - the larger the bioreaactor the more seeding steps required to get an optimal cell density to seed the bioreactor. Too few cells in a large volume would equate to a longer total processing time at best and cell death at worst.  \n",
    "  - we will assume that the actual processing time within the main bioreactor will be approximately equal (normal distribution) among the same cell type and culture method. The bioreactor size will affect only the pre-processing seed preparation steps.\n",
    "  - 3days (72 hrs) + an additional 2 days (48hrs) for every 250L bioreactor size + \n",
    "* culture type  \n",
    "  - batch being shorter,  \n",
    "  - fed batch being longer  \n",
    "  - perfusion being much longer\n",
    "\n",
    "\n",
    "Proposed calculation factors:  \n",
    "\n",
    "| Factor                                | Microbial | Mammalian | Humanised |\n",
    "|---------------------------------------|-----------|-----------|-----------|\n",
    "| **Batch / Fed Batch Modes**                                                   |\n",
    "| Base Seed Days                        | 2         | 3         | 3         |\n",
    "| Day Increase / 250L  Bioreactor size  | 1         | 2         | 2.3       |\n",
    "| Days in Bioreactor                    | 3         | 5         | 6         |\n",
    "| Fed-Batch Multiplier                  | 1.3       | 1.3       | 1.3       |\n",
    "| **Perfusion**                                                                 |\n",
    "| Total Time (Days)                     | 20        | 40        | 45        |\n",
    "| Multiplier for every 250L increase    | 1.1       | 1.2       | 1.2       |"
   ]
  },
  {
   "cell_type": "code",
   "execution_count": 13,
   "metadata": {},
   "outputs": [
    {
     "data": {
      "text/plain": [
       "Text(0.5, 1.0, 'Histogram of Processing Time per Cell Line')"
      ]
     },
     "execution_count": 13,
     "metadata": {},
     "output_type": "execute_result"
    },
    {
     "data": {
      "image/png": "[encoded data removed]",
      "text/plain": [
       "<Figure size 1152x432 with 1 Axes>"
      ]
     },
     "metadata": {
      "needs_background": "light"
     },
     "output_type": "display_data"
    }
   ],
   "source": [
    "# Simulate Processing Hours\n",
    "\n",
    "for dataset in datasets:\n",
    "    days = []\n",
    "    fb_mult = 1.3\n",
    "    \n",
    "    # Set the parameters as per the table above\n",
    "    if dataset.cell_line[0] == \"Microbial\":\n",
    "        seed_base = 2\n",
    "        seed_inc = 1\n",
    "        bio = 3\n",
    "        perf = 20\n",
    "        perf_mul = 1.1\n",
    "    elif dataset.cell_line[0] == \"CHO\":\n",
    "        seed_base = 3\n",
    "        seed_inc = 2\n",
    "        bio = 5\n",
    "        perf = 40\n",
    "        perf_mul = 1.2\n",
    "    else:\n",
    "        seed_base = 3\n",
    "        seed_inc = 2.3\n",
    "        bio = 6\n",
    "        perf = 45\n",
    "        perf_mul = 1.2\n",
    "\n",
    "    # iterate over rows with iterrows()\n",
    "    for index, row in dataset.iterrows():\n",
    "        \n",
    "        # Change the mean of the normalised distribution dependent on the culture type\n",
    "        if row[\"culture\"] == \"Perfusion\":\n",
    "            mean = perf + (row.br_size*perf_mul/500)\n",
    "        else:\n",
    "            mean = seed_base + (row.br_size*seed_inc/500) + bio\n",
    "            \n",
    "        # Simulate the values to come from the normalised distribution\n",
    "        # based on the calculated mean with a standard distribution of the mean / 3\n",
    "        time = int(np.random.normal(mean, (mean/3),1))\n",
    "        \n",
    "        # Add a multiplier for the fed-batch processing\n",
    "        if row.culture == \"Fed Batch\": time = time * fb_mult\n",
    "        \n",
    "        # Append it to the days list\n",
    "        days.append(time)\n",
    "        \n",
    "    # As we are using a normal distribution - make sure none of our values are below zero. Set a base of 3 days\n",
    "    days = setLimits(days, True, False, 3, 0) \n",
    "    \n",
    "    # Add a new column \"time\" to the dataframe\n",
    "    dataset[\"time\"] = days\n",
    "    \n",
    "    # Plot a histgram of it\n",
    "    plt.hist(days, alpha = 0.5)\n",
    "\n",
    "# Add the legend and labels\n",
    "plt.legend(dsNames)\n",
    "plt.xlabel(\"Processing Days\")\n",
    "plt.ylabel(\"Frequency\")\n",
    "plt.title(\"Histogram of Processing Time per Cell Line\")"
   ]
  },
  {
   "cell_type": "code",
   "execution_count": 14,
   "metadata": {},
   "outputs": [
    {
     "data": {
      "text/html": [
       "<div>\n",
       "<style scoped>\n",
       "    .dataframe tbody tr th:only-of-type {\n",
       "        vertical-align: middle;\n",
       "    }\n",
       "\n",
       "    .dataframe tbody tr th {\n",
       "        vertical-align: top;\n",
       "    }\n",
       "\n",
       "    .dataframe thead th {\n",
       "        text-align: right;\n",
       "    }\n",
       "</style>\n",
       "<table border=\"1\" class=\"dataframe\">\n",
       "  <thead>\n",
       "    <tr style=\"text-align: right;\">\n",
       "      <th></th>\n",
       "      <th>cell_line</th>\n",
       "      <th>br_size</th>\n",
       "      <th>avg_temp</th>\n",
       "      <th>avg_do</th>\n",
       "      <th>culture</th>\n",
       "      <th>cell_density</th>\n",
       "      <th>time</th>\n",
       "    </tr>\n",
       "  </thead>\n",
       "  <tbody>\n",
       "    <tr>\n",
       "      <th>83</th>\n",
       "      <td>Microbial</td>\n",
       "      <td>2000</td>\n",
       "      <td>36.9</td>\n",
       "      <td>5.3</td>\n",
       "      <td>Fed Batch</td>\n",
       "      <td>20</td>\n",
       "      <td>20.8</td>\n",
       "    </tr>\n",
       "    <tr>\n",
       "      <th>64</th>\n",
       "      <td>Microbial</td>\n",
       "      <td>7700</td>\n",
       "      <td>37.4</td>\n",
       "      <td>4.9</td>\n",
       "      <td>Fed Batch</td>\n",
       "      <td>20</td>\n",
       "      <td>35.1</td>\n",
       "    </tr>\n",
       "    <tr>\n",
       "      <th>80</th>\n",
       "      <td>Microbial</td>\n",
       "      <td>7000</td>\n",
       "      <td>37.3</td>\n",
       "      <td>4.6</td>\n",
       "      <td>Fed Batch</td>\n",
       "      <td>28</td>\n",
       "      <td>27.3</td>\n",
       "    </tr>\n",
       "    <tr>\n",
       "      <th>43</th>\n",
       "      <td>Microbial</td>\n",
       "      <td>5000</td>\n",
       "      <td>37.8</td>\n",
       "      <td>5.4</td>\n",
       "      <td>Batch</td>\n",
       "      <td>12</td>\n",
       "      <td>11.0</td>\n",
       "    </tr>\n",
       "    <tr>\n",
       "      <th>92</th>\n",
       "      <td>Microbial</td>\n",
       "      <td>1000</td>\n",
       "      <td>37.7</td>\n",
       "      <td>6.7</td>\n",
       "      <td>Fed Batch</td>\n",
       "      <td>20</td>\n",
       "      <td>6.5</td>\n",
       "    </tr>\n",
       "  </tbody>\n",
       "</table>\n",
       "</div>"
      ],
      "text/plain": [
       "    cell_line  br_size  avg_temp  avg_do    culture  cell_density  time\n",
       "83  Microbial     2000      36.9     5.3  Fed Batch            20  20.8\n",
       "64  Microbial     7700      37.4     4.9  Fed Batch            20  35.1\n",
       "80  Microbial     7000      37.3     4.6  Fed Batch            28  27.3\n",
       "43  Microbial     5000      37.8     5.4      Batch            12  11.0\n",
       "92  Microbial     1000      37.7     6.7  Fed Batch            20   6.5"
      ]
     },
     "execution_count": 14,
     "metadata": {},
     "output_type": "execute_result"
    }
   ],
   "source": [
    "# Just a quick check on our dfs to see how they are coming along\n",
    "dfMicro.sample(5)\n",
    "#dfMam.head()\n",
    "#dfHum.head()"
   ]
  },
  {
   "cell_type": "code",
   "execution_count": 15,
   "metadata": {},
   "outputs": [
    {
     "name": "stdout",
     "output_type": "stream",
     "text": [
      "Min. Microbial Time = 3.0\n",
      "Min. Mammalian Time = 7.0\n",
      "Min. Humanised Time = 5.0\n"
     ]
    }
   ],
   "source": [
    "# Sanity Check\n",
    "print(\"Min. Microbial Time =\", dfMicro.time.min())\n",
    "print(\"Min. Mammalian Time =\", dfMam.time.min())\n",
    "print(\"Min. Humanised Time =\", dfHum.time.min())"
   ]
  },
  {
   "cell_type": "markdown",
   "metadata": {},
   "source": [
    "### <a name=\"alarms\"></a> 2.8  No of Alarms  \n",
    "The production process is monitored and controlled by an automated control system. This control system will alarm if various parameters fall outside of the acceptable limits. It is a reasonable assumption that the greater the number of alarms during processing would have an adverse effect on the yield. From a data simulation perspective, this would be a Poisson distribution of events during the cell growth, over the growth period. But some of the already simulated data will have an effect on the simulated data.    \n",
    " \n",
    "Our simulation model will use:  \n",
    "* The Poisson distribution for alarms with a lambda value of 1.2 alarms per day  \n",
    "* The number of processing days\n",
    "* The already simulated processing conditions:  \n",
    " - Average temperature \n",
    " - Average DO\n",
    "\n",
    "We already have simulated some of the data being recorded over the production time, namely temperature and dissolved oxygen. As what we have simulated is the mean temperature and DO, we can assume that those having values further away from the mean will probably have had more alarms generated during processing so therefore we may take this into consideration. To know how far a value is away from the mean we will use the process variables' Z-scores. The Z-score is a measure of the number of standard deviations any given reading is away form the mean. To stop the effects of one \"good\" z-score value nnegating the efects of one \"bad\" reading, we will take the maximum of the absolute value of the two z-scores and use that as a multiplier.  "
   ]
  },
  {
   "cell_type": "code",
   "execution_count": 16,
   "metadata": {},
   "outputs": [
    {
     "data": {
      "text/plain": [
       "<matplotlib.legend.Legend at 0x1d4e4528c18>"
      ]
     },
     "execution_count": 16,
     "metadata": {},
     "output_type": "execute_result"
    },
    {
     "data": {
      "image/png": "[encoded data removed]",
      "text/plain": [
       "<Figure size 1152x432 with 1 Axes>"
      ]
     },
     "metadata": {
      "needs_background": "light"
     },
     "output_type": "display_data"
    }
   ],
   "source": [
    "# Simulating the alarms\n",
    "lam = 1.2 # the frequency of alarms\n",
    "\n",
    "for dataset in datasets:\n",
    "    # Alarm calculation - poisson distribution * processing time * max of absolute value of zscores of temperature and do readings\n",
    "    alarms = (np.random.poisson(lam, 100) * dataset.time * list(map(max, zip(abs(stats.zscore(dataset.avg_temp)),abs(stats.zscore(dataset.avg_do)))))).round(0)\n",
    "    # Convert the alarm values to integers (because you cannot have a bit of an alarm)\n",
    "    # and add to the dataset [12]\n",
    "    dataset[\"alarm\"] = list(map(int, alarms))  \n",
    "    plt.hist(alarms, alpha = 0.5)\n",
    "\n",
    "plt.xlabel(\"No of alarms)\")\n",
    "plt.ylabel(\"Frequency\")\n",
    "plt.title(\"Number of alarms for each Cell Line Type\")\n",
    "plt.legend(dsNames)"
   ]
  },
  {
   "cell_type": "code",
   "execution_count": 17,
   "metadata": {},
   "outputs": [
    {
     "data": {
      "text/html": [
       "<div>\n",
       "<style scoped>\n",
       "    .dataframe tbody tr th:only-of-type {\n",
       "        vertical-align: middle;\n",
       "    }\n",
       "\n",
       "    .dataframe tbody tr th {\n",
       "        vertical-align: top;\n",
       "    }\n",
       "\n",
       "    .dataframe thead th {\n",
       "        text-align: right;\n",
       "    }\n",
       "</style>\n",
       "<table border=\"1\" class=\"dataframe\">\n",
       "  <thead>\n",
       "    <tr style=\"text-align: right;\">\n",
       "      <th></th>\n",
       "      <th>cell_line</th>\n",
       "      <th>br_size</th>\n",
       "      <th>avg_temp</th>\n",
       "      <th>avg_do</th>\n",
       "      <th>culture</th>\n",
       "      <th>cell_density</th>\n",
       "      <th>time</th>\n",
       "      <th>alarm</th>\n",
       "    </tr>\n",
       "  </thead>\n",
       "  <tbody>\n",
       "    <tr>\n",
       "      <th>8</th>\n",
       "      <td>Microbial</td>\n",
       "      <td>3400</td>\n",
       "      <td>37.1</td>\n",
       "      <td>5.3</td>\n",
       "      <td>Fed Batch</td>\n",
       "      <td>20</td>\n",
       "      <td>10.4</td>\n",
       "      <td>0</td>\n",
       "    </tr>\n",
       "    <tr>\n",
       "      <th>1</th>\n",
       "      <td>Microbial</td>\n",
       "      <td>2700</td>\n",
       "      <td>37.5</td>\n",
       "      <td>6.3</td>\n",
       "      <td>Batch</td>\n",
       "      <td>16</td>\n",
       "      <td>9.0</td>\n",
       "      <td>0</td>\n",
       "    </tr>\n",
       "    <tr>\n",
       "      <th>60</th>\n",
       "      <td>Microbial</td>\n",
       "      <td>1100</td>\n",
       "      <td>37.7</td>\n",
       "      <td>5.9</td>\n",
       "      <td>Batch</td>\n",
       "      <td>16</td>\n",
       "      <td>4.0</td>\n",
       "      <td>0</td>\n",
       "    </tr>\n",
       "    <tr>\n",
       "      <th>2</th>\n",
       "      <td>Microbial</td>\n",
       "      <td>1600</td>\n",
       "      <td>36.5</td>\n",
       "      <td>5.6</td>\n",
       "      <td>Perfusion</td>\n",
       "      <td>60</td>\n",
       "      <td>20.0</td>\n",
       "      <td>0</td>\n",
       "    </tr>\n",
       "    <tr>\n",
       "      <th>98</th>\n",
       "      <td>Microbial</td>\n",
       "      <td>4000</td>\n",
       "      <td>36.7</td>\n",
       "      <td>6.2</td>\n",
       "      <td>Fed Batch</td>\n",
       "      <td>24</td>\n",
       "      <td>26.0</td>\n",
       "      <td>31</td>\n",
       "    </tr>\n",
       "  </tbody>\n",
       "</table>\n",
       "</div>"
      ],
      "text/plain": [
       "    cell_line  br_size  avg_temp  avg_do    culture  cell_density  time  alarm\n",
       "8   Microbial     3400      37.1     5.3  Fed Batch            20  10.4      0\n",
       "1   Microbial     2700      37.5     6.3      Batch            16   9.0      0\n",
       "60  Microbial     1100      37.7     5.9      Batch            16   4.0      0\n",
       "2   Microbial     1600      36.5     5.6  Perfusion            60  20.0      0\n",
       "98  Microbial     4000      36.7     6.2  Fed Batch            24  26.0     31"
      ]
     },
     "execution_count": 17,
     "metadata": {},
     "output_type": "execute_result"
    }
   ],
   "source": [
    "# Just a quick check on our dfs to see how they are coming along\n",
    "dfMicro.sample(5)\n",
    "#dfMam.head()\n",
    "#dfHum.head()"
   ]
  },
  {
   "cell_type": "code",
   "execution_count": 18,
   "metadata": {},
   "outputs": [
    {
     "name": "stdout",
     "output_type": "stream",
     "text": [
      "========================================\n",
      "The number of Microbial cultures without an alarm is: 36\n",
      "\n",
      "    cell_line  br_size  avg_temp  avg_do    culture  cell_density  time  alarm\n",
      "0   Microbial     8400      36.0     5.0  Fed Batch            28  49.4    392\n",
      "61  Microbial    10000      35.9     5.2  Fed Batch            16  29.9    130\n",
      "89  Microbial     8000      37.6     6.0  Fed Batch            24  33.8    119\n",
      "38  Microbial     9700      37.2     4.4  Fed Batch            28  16.9    105\n",
      "10  Microbial     1700      36.3     4.3  Fed Batch            16  14.3     97\n",
      "\n",
      "========================================\n",
      "The number of Mammalian cultures without an alarm is: 27\n",
      "\n",
      "   cell_line  br_size  avg_temp  avg_do    culture  cell_density   time  alarm\n",
      "92       CHO     2300      37.3     4.5  Perfusion            18   62.0    262\n",
      "74       CHO     2500      37.9     5.6  Perfusion            17   65.0    247\n",
      "86       CHO     7700      37.7     4.8  Fed Batch             8   54.6    245\n",
      "30       CHO     8200      36.6     5.9  Fed Batch             9  115.7    240\n",
      "40       CHO      700      37.9     5.3  Perfusion            13   53.0    202\n",
      "\n",
      "========================================\n",
      "The number of Humanised cultures without an alarm is: 28\n",
      "\n",
      "   cell_line  br_size  avg_temp  avg_do    culture  cell_density  time  alarm\n",
      "36      vCHO     6400      36.3     4.7  Fed Batch             4  55.9    361\n",
      "53      vCHO     2400      37.5     5.5  Perfusion            13  67.0    272\n",
      "97      vCHO     5300      37.9     4.3  Fed Batch             5  53.3    250\n",
      "61      vCHO     5100      36.4     5.0  Perfusion            19  78.0    213\n",
      "76      vCHO    10000      37.5     5.1  Fed Batch             6  76.7    208\n",
      "\n"
     ]
    }
   ],
   "source": [
    "# Sanity Check\n",
    "i = 0\n",
    "for dataset in datasets:\n",
    "    print(\"=\"*40)\n",
    "    # See how many are have no alarms\n",
    "    print(\"The number of \" + dsNames[i] + \" cultures without an alarm is:\",dataset.alarm[dataset.alarm == 0].count())\n",
    "    print(\"\")\n",
    "    i+=1\n",
    "    # And the top 5 no of alarms of each\n",
    "    print(dataset.sort_values(by=['alarm'], ascending=False).head())\n",
    "    print(\"\")"
   ]
  },
  {
   "cell_type": "code",
   "execution_count": 19,
   "metadata": {},
   "outputs": [
    {
     "data": {
      "text/plain": [
       "Text(0.5, 1.0, 'Processing Time vs No of Alarms')"
      ]
     },
     "execution_count": 19,
     "metadata": {},
     "output_type": "execute_result"
    },
    {
     "data": {
      "image/png": "[encoded data removed]",
      "text/plain": [
       "<Figure size 1152x432 with 1 Axes>"
      ]
     },
     "metadata": {
      "needs_background": "light"
     },
     "output_type": "display_data"
    }
   ],
   "source": [
    "# Plotting the total alarms against the processing time for Batch\n",
    "plt.plot(dfMicro.alarm[dfMicro.culture == \"Batch\"],dfMicro.time[dfMicro.culture == \"Batch\"], \"bo\", label=\"Batch\")\n",
    "plt.plot(dfMam.alarm[dfMam.culture == \"Batch\"],dfMam.time[dfMam.culture == \"Batch\"], \"bo\")\n",
    "plt.plot(dfHum.alarm[dfHum.culture == \"Batch\"],dfHum.time[dfHum.culture == \"Batch\"], \"bo\")\n",
    "\n",
    "# Plotting the total alarms against the processing time for Fed Batch\n",
    "plt.plot(dfMicro.alarm[dfMicro.culture == \"Fed Batch\"],dfMicro.time[dfMicro.culture == \"Fed Batch\"], \"m*\", label=\"Fed Batch\")\n",
    "plt.plot(dfMam.alarm[dfMam.culture == \"Fed Batch\"],dfMam.time[dfMam.culture == \"Fed Batch\"], \"m*\")\n",
    "plt.plot(dfHum.alarm[dfHum.culture == \"Fed Batch\"],dfHum.time[dfHum.culture == \"Fed Batch\"], \"m*\")\n",
    "\n",
    "# Plotting the total alarms against the processing time for Perfusion\n",
    "plt.plot(dfMicro.alarm[dfMicro.culture == \"Perfusion\"],dfMicro.time[dfMicro.culture == \"Perfusion\"], \"g^\", label=\"Perfusion\")\n",
    "plt.plot(dfMam.alarm[dfMam.culture == \"Perfusion\"],dfMam.time[dfMam.culture == \"Perfusion\"], \"g^\")\n",
    "plt.plot(dfHum.alarm[dfHum.culture == \"Perfusion\"],dfHum.time[dfHum.culture == \"Perfusion\"], \"g^\")\n",
    "\n",
    "# Adding the info to the plot\n",
    "plt.legend()\n",
    "plt.xlabel(\"No of Alarms\")\n",
    "plt.ylabel(\"Time (Days)\")\n",
    "plt.title(\"Processing Time vs No of Alarms\")"
   ]
  },
  {
   "cell_type": "markdown",
   "metadata": {},
   "source": [
    "### <a name=\"yield\"></a> 2.9 Yield  \n",
    "The reason the cells are grown in the bioreactor is to product the protein of choice e.g. an antibody, generally for therapeutic use. The yield is the amount of product produced [[15]](#15) and all variables simulated have either a direct or an indirect impact on the yield as follows:  \n",
    "\n",
    "* **Cell line** - Cell line has an impact on almost every parameter shown. For the purposes of simulation, each cell line will have its own parameters.  \n",
    "    - Microbial cells generally have a high yield and are more robust in processing.\n",
    "    - CHO cells have a much reduced yield and are less robust. Having said that, they are capable of producing much more complex proteins.  \n",
    "    - Humanised cells would be similar to the mammalian cells.\n",
    "* **Bioreactor Size**  - The size of the bioreactor has a great impact on the yield produced because in general, more volume means more cells which means more product. The bioreactor size however reflects the volume of the bioreactor itself. The entire vessel is never full and as a result we will factorise this by making an assumption that it is 60% full. \n",
    "* **Average Temperature / Dissolved Oxygen / No of Alarms** - The average temperature and dissolved oxygen readings have an indirect effect on yield in that their cumulative effect is represented in the number of alarms generated. It is reasonable to expect that in a well controlled process there would be fewer alarms which would in turn mean that the processing occurred nearer the optimal conditions and therefore have greater product yields.  \n",
    "* **Peak Viable Cell Density** - generally more cells mean more product.\n",
    "* **Processing Hours**  \n",
    "    - For Batch / Fed-Batch his relates more to the number of alarms generated, which affects yield.  \n",
    "    - For perfusion cultures this is directly related to yield\n",
    "* **Culture type** - depending on the culture type, how the other factors affect them  \n",
    "    - Batch / Fed-Batch - along with the cell density, the bioreactor size is the most important aspect to simulating the yield. The processing time is not as important.  \n",
    "    - Perfusion - next to cell density, the processing time is the most important attribute as the cells are constantly producing product for most of that time and the times are extended. The bioreactor size is still important however.  \n",
    "\n",
    "Yield calculation of Batch and Fed Batch cultures:  \n",
    "* We assume at the mean cell density we would have a uniform distribution of 8 g/l for Mammalian cells, 7 g/l for Humanised and 10 g/l for microbial cells.   \n",
    "* Multiply the base by the actual cell density / mean expected cell density\n",
    "* Determine the number of alarms / day, if greater than 1.2 (our expected interval from the Poisson Distribution) divide the yield by the alarms per day value.  \n",
    "\n",
    "Yield calculation for Perfusion cultures:  \n",
    "* Add an additional multiplier for perfusion based on the time in bioreactor. As the cell density of a perfusion culture system is much greater than a batch / fed-batch system, the multiplier for time spent in the bioreactor will be and additional 0.1 per day.  \n",
    "\n",
    "The final yield added to the dataset will be in kg so will need to be divided by 1000. We will subsequently round the yield off to two decimal places."
   ]
  },
  {
   "cell_type": "code",
   "execution_count": 35,
   "metadata": {},
   "outputs": [
    {
     "data": {
      "text/plain": [
       "<matplotlib.legend.Legend at 0x1d4e58834e0>"
      ]
     },
     "execution_count": 35,
     "metadata": {},
     "output_type": "execute_result"
    },
    {
     "data": {
      "image/png": "[encoded data removed]",
      "text/plain": [
       "<Figure size 1152x432 with 1 Axes>"
      ]
     },
     "metadata": {
      "needs_background": "light"
     },
     "output_type": "display_data"
    }
   ],
   "source": [
    "for dataset in datasets:\n",
    "    # Create an empty list for the values\n",
    "    brYield = []\n",
    "    \n",
    "    # This is our base cell density for each cell line\n",
    "    if dataset.cell_line[0] == \"Microbial\":\n",
    "        cl_multi = 10\n",
    "    elif dataset.cell_line[0] == \"CHO\":\n",
    "        cl_multi = 8\n",
    "    elif dataset.cell_line[0] == \"vCHO\":\n",
    "        cl_multi = 7\n",
    "    \n",
    "    # Create a normal distribution around the base\n",
    "    brYield = np.random.normal(cl_multi, 1, size= 100)\n",
    "\n",
    "    # As we are using a normal distribution - make sure none of our values are below zero. Zero is acceptable.\n",
    "    # Also converting to numpy array as needed for rounding below\n",
    "    brYield = np.asarray(setLimits(brYield, True, False, 0.0, 0.0), dtype=np.float32)\n",
    "\n",
    "    # Iterate over rows with iterrows()\n",
    "    for index, row in dataset.iterrows():\n",
    "        # Set the alarm factor - based on alarms per day\n",
    "        alm_day = row.alarm / row.time\n",
    "        # If there were less than 1.2 alarms per day - there should be no effect\n",
    "        if alm_day < 1.2: alm_day = 1\n",
    "            \n",
    "        # Set the multipliers for each culture type\n",
    "        if row.culture == \"Batch\":\n",
    "            # The actual cell density divided by the mean cell density\n",
    "            # The mean here is the one used to create the Normal Distribution of the cell density\n",
    "            cm_multi = row.cell_density / 4\n",
    "        elif row.culture == \"Fed Batch\":\n",
    "            # As per the batch with the Fed Batch cell density included\n",
    "            cm_multi = row.cell_density / 6\n",
    "        elif row.culture == \"Perfusion\":\n",
    "            # An additional multiplier here to reflect the length of time in the bioreactor\n",
    "            cm_multi = 0.1 * row.time * row.cell_density / 15\n",
    "            \n",
    "        # Change the brYield list to reflect the multipliers\n",
    "        brYield[index] = brYield[index] * row.br_size * 0.6 * cm_multi/ alm_day\n",
    "    \n",
    "    # Convert the g to kg and round the values to 2 decimal places\n",
    "    brYield = list(np.around(np.array(brYield/1000),2))\n",
    "    \n",
    "    # Add the simulated Bioreactor yield data to the dataframe\n",
    "    dataset[\"br_yield\"] =  brYield\n",
    "    \n",
    "    # Plot \n",
    "    plt.hist(brYield, bins = 10, alpha = 0.5)\n",
    "\n",
    "# Label the plot accordingly\n",
    "plt.xlabel(\"Yield (kg))\")\n",
    "plt.ylabel(\"Frequency\")\n",
    "plt.title(\"Product Yield for each Cell Line Type\")\n",
    "plt.legend(dsNames)"
   ]
  },
  {
   "cell_type": "code",
   "execution_count": 36,
   "metadata": {},
   "outputs": [
    {
     "name": "stdout",
     "output_type": "stream",
     "text": [
      "========================================\n",
      "The top 5 Microbial yield values are:\n",
      "\n",
      "    cell_line  br_size  avg_temp  avg_do    culture  cell_density  time  \\\n",
      "7   Microbial     8000      36.8     5.3  Perfusion            56  49.0   \n",
      "81  Microbial     6700      36.7     6.0  Perfusion            52  55.0   \n",
      "73  Microbial     8900      36.3     5.4  Perfusion            56  43.0   \n",
      "84  Microbial     6200      35.8     5.4  Perfusion            56  37.0   \n",
      "90  Microbial     6800      36.9     5.3  Perfusion            56  29.0   \n",
      "\n",
      "    alarm     br_yield  \n",
      "7       0  1095.079956  \n",
      "81     46   812.090027  \n",
      "73     60   578.869995  \n",
      "84      0   567.700012  \n",
      "90      0   500.640015  \n",
      "\n",
      "The bottom 5 Microbial yield values are:\n",
      "\n",
      "    cell_line  br_size  avg_temp  avg_do    culture  cell_density  time  \\\n",
      "10  Microbial     1700      36.3     4.3  Fed Batch            16  14.3   \n",
      "50  Microbial      600      37.5     4.5      Batch            16   3.0   \n",
      "92  Microbial     1000      37.7     6.7  Fed Batch            20   6.5   \n",
      "47  Microbial     1600      36.9     4.9      Batch            16   9.0   \n",
      "85  Microbial      600      36.7     5.1  Perfusion            56  12.0   \n",
      "\n",
      "    alarm  br_yield  \n",
      "10     97      3.83  \n",
      "50     11      4.46  \n",
      "92     27      4.59  \n",
      "47     21     12.93  \n",
      "85     10     13.44  \n",
      "\n",
      "========================================\n",
      "The top 5 Mammalian yield values are:\n",
      "\n",
      "   cell_line  br_size  avg_temp  avg_do    culture  cell_density  time  alarm  \\\n",
      "22       CHO     5700      37.5     5.4  Perfusion            15  64.0      0   \n",
      "63       CHO     3800      36.9     5.6  Perfusion            18  61.0     22   \n",
      "5        CHO     4300      36.9     5.9  Perfusion            14  61.0     63   \n",
      "27       CHO     5800      36.9     5.0  Perfusion            15  40.0      0   \n",
      "33       CHO     4100      36.3     5.1  Perfusion            15  55.0      0   \n",
      "\n",
      "      br_yield  \n",
      "22  197.580002  \n",
      "63  144.539993  \n",
      "5   137.500000  \n",
      "27  120.620003  \n",
      "33  115.370003  \n",
      "\n",
      "The bottom 5 Mammalian yield values are:\n",
      "\n",
      "   cell_line  br_size  avg_temp  avg_do    culture  cell_density  time  alarm  \\\n",
      "58       CHO      800      36.7     5.9  Fed Batch             6  22.1     69   \n",
      "59       CHO     1000      36.2     5.4  Fed Batch             7  23.4     71   \n",
      "36       CHO     2700      37.7     6.1  Fed Batch             2  26.0     39   \n",
      "77       CHO     3400      37.1     6.2  Fed Batch             1  37.7      0   \n",
      "80       CHO     1000      36.8     5.4      Batch             3  15.0      9   \n",
      "\n",
      "    br_yield  \n",
      "58      1.17  \n",
      "59      1.76  \n",
      "36      2.68  \n",
      "77      2.81  \n",
      "80      3.28  \n",
      "\n",
      "========================================\n",
      "The top 5 Humanised yield values are:\n",
      "\n",
      "   cell_line  br_size  avg_temp  avg_do    culture  cell_density  time  alarm  \\\n",
      "78      vCHO     9000      36.8     5.7  Perfusion            14  91.0     53   \n",
      "37      vCHO     5100      36.7     5.2  Perfusion            17  79.0      0   \n",
      "35      vCHO     4600      37.0     6.0  Perfusion            15  63.0      0   \n",
      "22      vCHO     5300      37.3     5.6  Perfusion            11  67.0     57   \n",
      "16      vCHO     3700      37.0     5.6  Perfusion            13  55.0     41   \n",
      "\n",
      "      br_yield  \n",
      "78  340.239990  \n",
      "37  216.110001  \n",
      "35  126.919998  \n",
      "22  107.059998  \n",
      "16   72.900002  \n",
      "\n",
      "The bottom 5 Humanised yield values are:\n",
      "\n",
      "   cell_line  br_size  avg_temp  avg_do    culture  cell_density  time  alarm  \\\n",
      "74      vCHO     2200      36.9     4.5      Batch             0  25.0     97   \n",
      "54      vCHO     2100      37.6     5.5      Batch             0  15.0     48   \n",
      "88      vCHO     1200      36.7     4.9  Fed Batch             3  22.1     48   \n",
      "84      vCHO     1000      36.6     5.4  Fed Batch             4   5.2      9   \n",
      "7       vCHO     2500      36.8     6.5  Fed Batch             4  32.5    147   \n",
      "\n",
      "    br_yield  \n",
      "74      0.00  \n",
      "54      0.00  \n",
      "88      1.21  \n",
      "84      1.75  \n",
      "7       1.89  \n",
      "\n"
     ]
    }
   ],
   "source": [
    "i = 0\n",
    "# Sanity Check\n",
    "for dataset in datasets:\n",
    "    print(\"=\"*40)\n",
    "    # For each dataset\n",
    "    print(\"The top 5 \" + dsNames[i] + \" yield values are:\")\n",
    "    print(\"\")\n",
    "    # Show the top 5 yields of each\n",
    "    print(dataset.sort_values(by=['br_yield'], ascending=False).head())\n",
    "    print(\"\")\n",
    "    print(\"The bottom 5 \" + dsNames[i] + \" yield values are:\")\n",
    "    print(\"\")\n",
    "    # And the bottom 5 yields of each\n",
    "    print(dataset.sort_values(by=['br_yield'], ascending=True).head())\n",
    "    print(\"\")\n",
    "    i+=1"
   ]
  },
  {
   "cell_type": "markdown",
   "metadata": {},
   "source": [
    "### <a name=\"worth\"></a>2.10 Net Worth of Batch  \n",
    "Biopharmaceuticals are an expensive commodity [[16]](#16) Uniform Distribution multiplier on yield with influence of cell type."
   ]
  },
  {
   "cell_type": "markdown",
   "metadata": {},
   "source": [
    "## <a name=\"finish\"></a>3. Finishing Off the Dataset"
   ]
  },
  {
   "cell_type": "code",
   "execution_count": null,
   "metadata": {},
   "outputs": [],
   "source": [
    "# Code to mix up the dataframe\n",
    "#df = df.sample(frac=1).reset_index(drop=True)"
   ]
  },
  {
   "cell_type": "markdown",
   "metadata": {},
   "source": [
    "## <a name=\"describe\"></a>4. Describe New Dataset  \n"
   ]
  },
  {
   "cell_type": "markdown",
   "metadata": {},
   "source": [
    "## <a name=\"conclusion\"></a>5. Conclusion"
   ]
  },
  {
   "cell_type": "markdown",
   "metadata": {},
   "source": [
    "###### <a name=\"refs\"></a>6. References ##\n",
    "1. [NumPy Site](http://www.numpy.org/)  <a name = \"1\"></a>  \n",
    "2. [Project Jupyter](http://jupyter.org/) <a name = \"2\"></a>  \n",
    "3. [I. Watanabe , S. Okada Effects of Temperature on Growth Rate of Cultured Mammalian Cells (L5178Y), J Cell Biol (1967) 32 (2): 309-323](http://jcb.rupress.org/content/jcb/32/2/309.full.pdf)<a name = \"3\"></a>  \n",
    "4. [Felipe Tapia, Daniel Vázquez-Ramírez, Yvonne Genzel, Udo Reichl  Bioreactors for high cell density and continuous multi-stage cultivations: options for process intensification in cell culture-based viral vaccine production, Appl Microbiol Biotechnol. 2016; 100: 2121–2132. Published online 2016 Jan 13. doi: 10.1007/s00253-015-7267-9](https://www.ncbi.nlm.nih.gov/pmc/articles/PMC4756030/) <a name = \"4\"></a>  \n",
    "5. [GE Life Sciences: 7 Factors that Affect Oxygen Transfer](https://www.gelifesciences.com/en/us/solutions/bioprocessing/knowledge-center/7-factors-that-affect-oxygen-transfer-to-cells-in-bioreactors) <a name = \"5\"></a>  \n",
    "6. [Python and R Tips: How To Loop Through Pandas Rows? or How To Iterate Over Pandas Rows?](https://cmdlinetips.com/2018/12/how-to-loop-through-pandas-rows-or-how-to-iterate-over-pandas-rows/) <a name = \"6\"></a>  \n",
    "7. [Brooks Instrument - Boosting Bioreactor Performance by Enhancing MFC accuracy](https://www.brooksinstrument.com/en/blog/boosting-bioreactor-performance-by-enhancing-mfc-accuracy)<a name = \"7\"></a>  \n",
    "8. [Wikipedia - Chinese Hamster Ovary Cell](https://en.wikipedia.org/wiki/Chinese_hamster_ovary_cell)<a name = \"8\"></a>   \n",
    "9. [Stack Overflow: How to Make Two Plots Side by Side](https://stackoverflow.com/questions/42818361/how-to-make-two-plots-side-by-side-using-python)<a name = \"9\"></a>  \n",
    "10. [Stack Overflow: Shuffle Dataframe Rows](https://stackoverflow.com/questions/29576430/shuffle-dataframe-rows) <a name = \"10\"></a>  \n",
    "11. [Scipy Docs: Z-Scores](https://docs.scipy.org/doc/scipy-0.14.0/reference/generated/scipy.stats.zscore.html)<a name = \"11\"></a>  \n",
    "12. [Geeks for Geeks: Python Converting all Strings in List to Integers](https://www.geeksforgeeks.org/python-converting-all-strings-in-list-to-integers/)<a name = \"12\"></a>  \n",
    "13. Trevor J. Marshall, Yvonne A. Brady, Chapter 30 - Process Control and Automation Solutions, Editor(s): Günter Jagschies, Eva Lindskog, Karol Łącki, Parrish Galliher, Biopharmaceutical Processing, Elsevier, 2018, Pages 579-621 <a name = \"13\"> </a>  \n",
    "14. [Spadiut O, Capone S, Krainer F, Glieder A, Herwig C. Microbials for the production of monoclonal antibodies and antibody fragments. Trends Biotechnol. 2014;32(1):54–60. doi:10.1016/j.tibtech.2013.10.002](https://www.ncbi.nlm.nih.gov/pmc/articles/PMC3906537/) <a name = \"14\"> </a>  \n",
    "15. [Kelley B. Industrialization of mAb production technology: the bioprocessing industry at a crossroads. MAbs. 2009;1(5):443–452. doi:10.4161/mabs.1.5.9448](https://www.ncbi.nlm.nih.gov/pmc/articles/PMC2759494/) <a name = \"15\"></a>  \n",
    "16. [Inmaculada Hernandez, PharmD, PhD; Samuel W. Bott, BS; Anish S. Patel, BS; Collin G. Wolf, BS; Alexa R. Hospodar, BS;\n",
    "Shivani Sampathkumar, BS; and William H. Shrank, MD, Pricing of Monoclonal Antibody Therapies: Higher If Used for Cancer? MSHSAm J Manag Care. 2018;24(2):109-112](https://ajmc.s3.amazonaws.com/_media/_pdf/AJMC_02_2018_Hernandez%20final.pdf) <a name =\"16\"></a>  \n",
    "17. []() <a name =\"17\"></a>  \n",
    "18. []() <a name =\"18\"></a>  \n",
    "19. []() <a name =\"19\"></a>  \n",
    "20. []() <a name =\"20\"></a>  "
   ]
  },
  {
   "cell_type": "code",
   "execution_count": null,
   "metadata": {},
   "outputs": [],
   "source": []
  }
 ],
 "metadata": {
  "kernelspec": {
   "display_name": "Python 3",
   "language": "python",
   "name": "python3"
  },
  "language_info": {
   "codemirror_mode": {
    "name": "ipython",
    "version": 3
   },
   "file_extension": ".py",
   "mimetype": "text/x-python",
   "name": "python",
   "nbconvert_exporter": "python",
   "pygments_lexer": "ipython3",
   "version": "3.7.3"
  }
 },
 "nbformat": 4,
 "nbformat_minor": 2
}
