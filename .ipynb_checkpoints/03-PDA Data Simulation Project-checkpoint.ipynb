{
 "cells": [
  {
   "cell_type": "markdown",
   "metadata": {},
   "source": [
    "<img align=\"left\" src=\"images/GMIT-logo.png\" alt=\"GMIT\" width=\"220\"/>                                                      <img align=\"right\" src=\"images/data-analytics.png\" alt=\"HDipDA\" width=\"250\"/>  \n",
    "\n",
    "# <center>Programming for Data Analysis 2019 Project: Simulating Real World Data</center>  #"
   ]
  },
  {
   "cell_type": "markdown",
   "metadata": {},
   "source": [
    "***\n",
    "**Module Name**: Programming for Data Analysis  \n",
    "**Module Number**: 52465  \n",
    "**Student Name**: Yvonne Brady  \n",
    "**Student ID**: G00376355  \n",
    "***\n",
    "\n",
    "**Problem statement**  \n",
    "For this project you must create a data set by simulating a real-world phenomenon of your choosing. You may pick any phenomenon you wish – you might pick one that is of interest to you in your personal or professional life. Then, rather than collect data related to the phenomenon, you should model and synthesise such data using Python.  \n",
    "\n",
    "We suggest you use the numpy.random package for this purpose.  \n",
    "\n",
    "Specifically, in this project you should:\n",
    "* Choose a real-world phenomenon that can be measured and for which you could collect at least one-hundred data points across at least four different variables.  \n",
    "* Investigate the types of variables involved, their likely distributions, and their relationships with each other.\n",
    "* Synthesise/simulate a data set as closely matching their properties as possible.\n",
    "* Detail your research and implement the simulation in a Jupyter notebook – the data set itself can simply be displayed in an output cell within the notebook.  \n",
    "\n",
    "Note that this project is about simulation – you must synthesise a data set. Some students may already have some real-world data sets in their own files. It is okay to base your synthesised data set on these should you wish (please reference it if you do), but the main task in this project is to create a synthesised data set. \n",
    "\n",
    "***"
   ]
  },
  {
   "cell_type": "markdown",
   "metadata": {},
   "source": [
    "# Table of Contents #\n",
    "1. [Introduction](#intro)  \n",
    "1.1 [Helper Functions](#help)\n",
    "2. [Dataset](#dataset)  \n",
    "2.1 [Cell Line](#cell_line)  \n",
    "2.2 [Bioreactor Size](#brSize)  \n",
    "2.3 [Average Temperature](#temp)  \n",
    "2.4 [Dissolved Oxygen](#do)  \n",
    "2.5 [Culture type](#culture)  \n",
    "2.6 [Peak Viable Cell Density](#cell_dens)  \n",
    "2.7 [Processing Time](#hours)  \n",
    "2.8 [No of alarms](#alarms)  \n",
    "2.9 [Yield](#yield)  \n",
    "2.10 [Net worth of batch](#worth)\n",
    "3. [Finishing Off the Dataset](#finish)\n",
    "4. [Describe New Dataset](#describe)\n",
    "5. [Conclusion](#conclusion)\n",
    "6. [References](#refs)"
   ]
  },
  {
   "cell_type": "markdown",
   "metadata": {},
   "source": [
    " ## <a name=\"intro\"></a>1. Introduction ## \n",
    "For my data simulation project I have chosen the production of biopharmaceuticals products. Biopharmaceutical production is achieved by manipulating living cells to produce a medicinal product. The cells themselves may be microbial e.g. bacteria, fungal or yeast cells, or mammalian e.g. Chinese Hamster Ovary cells, insect or plant cells. In general the more complex the cell, the more complex the product that cell can produce. \n",
    "\n",
    "<img align=\"right\" src=\"images/bioreactor.png\" alt=\"bioreactor\" width=\"475\"/> A very common type of biopharmaceutical is the monoclonal antibody (mAb). Naturally occurring antibodies are produced in the body as part of our immunological defense systems. Whenever we get a cough or cold, or indeed anything more serious, our bodies will produce antibodies to target whatever is causing the illness. This may be a bacterium, _e.g._ Strep throat caused by _Streptococcus pyogenes,_ a virus, in the case of a cold or flu, some foreign matter _e.g._ pollen which will result in hayfever or even the bodies own cells when they become aged or damaged. Because antibodies may be made to combat any substance that enters the body, they make ideal candidates to harness for therapeutic purposes.  \n",
    "\n",
    "Monoclonal antibodies have been produced to treat a huge amount of diseases _e.g._ as chemotherapeutics and to alleviate the symptoms of many autoimmune diseases such as arthritis, Crohns disease _etc_. In general, the monoclonal antibodies are very high net worth drugs and quite complex in size, nature and in their manufacture. As a result only the more complex cells can make them _i.e._ mammalian cells. \n",
    "\n",
    "Microbial cells are more suited to the culturing process and have been long used to produce the like of antibiotics like penicillin. Microbial cells are not capable of producing the complex mAb, but have been used to produce mAb fragments which are also used for therapeutic purposes.\n",
    "\n",
    "To make a biopharmaceutical a single cell that is good at producing the product required, _e.g._ the mAb, is cloned repeatedly. This cloned cell is grown in a vessel called a bioreactor (pictured on the right [[7]](#7)). The cells are grown and conditions maintained to encouraged them to produce the biopharmaceutical. The contents of the bioreactor are then removed, the medicinal product _e.g._ antibody, is extracted and purified to produce the final biopharmaceutical product.  \n",
    "\n",
    "For the purposes of the dataset simulation, I am looking at the growth and production of the biopharmaceutical only. I am ignoring the downstream harvesting, protein capture and polishing steps. The data I have initially chosen to simulate for this project are:  \n",
    "<img align=\"right\" src=\"images/biopharmaceutical.jpg\" alt=\"bioreactor\" width=\"350\"/> \n",
    "* Cell line\n",
    "* Bioreactor Size  \n",
    "* Average Temperature   \n",
    "* Dissolved Oxygen  \n",
    "* Peak Viable Cell Density  \n",
    "* Processing Hours  \n",
    "* Culture type  \n",
    "* No of alarms  \n",
    "* Yield  \n",
    "* Net worth of batch  \n",
    "\n",
    "I will use the numpy random package as an aid to the data simulation [[1](#1)]."
   ]
  },
  {
   "cell_type": "markdown",
   "metadata": {},
   "source": [
    "### <a name=\"help\"></a>1.1 Helper Functions  \n",
    "\n",
    "There are a number of repetitive checks / transformations need to be done to the data being generated. This section houses any functions we need to perform these tasks. Many of these are due to the fact that the data being generated is random, so without using the seed function, we cannot predict exactly where the data will fall.  \n",
    "\n",
    "These functions include:\n",
    "* setLimits - to ensure that hard minimum or maximum values are held irrespective of data generated  \n",
    "\n",
    "Before we do anything however, we need first import the packages required."
   ]
  },
  {
   "cell_type": "code",
   "execution_count": 1,
   "metadata": {},
   "outputs": [],
   "source": [
    "import pandas as pd\n",
    "import numpy as np\n",
    "import matplotlib.pyplot as plt # plotting and as a basis for seaborn\n",
    "from scipy import stats # Caluclation of z-scores\n",
    "%matplotlib inline\n",
    "plt.rcParams['figure.figsize'] = [16, 6] # Setting the plot size"
   ]
  },
  {
   "cell_type": "code",
   "execution_count": 2,
   "metadata": {},
   "outputs": [],
   "source": [
    "# This function resets the minimum and maximum values\n",
    "# If there are hard set limits eg size of bioreactor cannot be negative, DO level cannot be above 6.7 etc\n",
    "# This does over-ride the normal or whatever distribution chosen, \n",
    "# but it gets rid of nonsense values and it is a simulation ...\n",
    "def setLimits(attList, minReq, maxReq, minVal, maxVal):\n",
    "    # Create a new list to return the corrected values\n",
    "    newList = []\n",
    "    # Loop through each item in the list\n",
    "    for att in attList:\n",
    "        # If we are checking for minimum values\n",
    "        # And the item is below the min value\n",
    "        if minReq and att < minVal:\n",
    "            # Reset to be minVal\n",
    "            att = minVal\n",
    "        # If we are checking for maximum values\n",
    "        # And the item is above the max value    \n",
    "        if maxReq and att > maxVal:\n",
    "            # Reset to be the maxVal\n",
    "            att = maxVal\n",
    "        # Create a new list with corrected values\n",
    "        newList.append(att)\n",
    "    # Return the new list\n",
    "    return newList"
   ]
  },
  {
   "cell_type": "markdown",
   "metadata": {},
   "source": [
    "## 2. <a name=\"dataset\"></a>The Dataset\n",
    "\n",
    "Of all the parameters I have chosen, the most influential of all is the cell type. There are three possible cell types and as almost every variable is dependent on the kind of cells used, the plan is to create three minidatasets which I will combine at the end. Each of these dataset will be 100 rows long.  "
   ]
  },
  {
   "cell_type": "markdown",
   "metadata": {},
   "source": [
    "### <a name=\"cell_line\"></a>2.1 Cell Line \n",
    "This is the type of used to produce the antibody. While there are many types of cells utilised in biopharmaceutical production, for the purposes of this project I am ploying categorical data. The cell type may be -\n",
    "\n",
    "<img align=\"right\" src=\"images/CHO.png\" alt=\"Chinese Hamster Ovary Cells\" width=\"380\"/> \n",
    "* Microbial cells (_e.g. E. coli._) - being unicellular, these cells are the easiest to grow, will produce a lot of product, but can only produce basic proteins.  \n",
    "* Mammalian cell (_e.g._ CHO) - Chinese Hamster Ovary cells (pictured on right [[8]](#8)) are frequently used in biopharmaceutical processing. They can produce complicated proteins but are harder to grow in vitro. Mammalian cells are used to being part of a larger organism that has specialised organs to look after for example waste disposal _etc._. They also rely on other organs for physical protection and anchorage _e.g._ bones and skin. Mammalian cells do not adapt well to being on their own in a bioreactor and as a result will grow much slower and be more susceptible to damage than microbial cells.  \n",
    "* Humanised CHOs - As the body recognises CHO-produced proteins as non-human, they elicit an immune response. CHOs may be genetically manipulated to produce humanised proteins which are better accepted by the body. This genetic manipulation further destabilises the cells however, making them more difficult again to grow.  \n",
    "\n",
    "This is a really important feature as many of the following attributes depend on the cell type. In general, the microbial cell line is more robust, mammalian (CHO) less so, and to a lesser extent the mammalian producing humanised protein even less so. For now, I will evenly split the sample size into three and assume there are equal number of each."
   ]
  },
  {
   "cell_type": "code",
   "execution_count": 3,
   "metadata": {},
   "outputs": [],
   "source": [
    "data = [\"Microbial\"]*100\n",
    "dfMicro = pd.DataFrame(data, columns = ['cell_line']) \n",
    "data = [\"CHO\"]*100\n",
    "dfMam = pd.DataFrame(data, columns = ['cell_line']) \n",
    "data = [\"vCHO\"]*100\n",
    "dfHum = pd.DataFrame(data, columns = ['cell_line']) \n",
    "\n",
    "# Create set of all three datasets\n",
    "datasets = [dfMicro, dfMam, dfHum]\n",
    "dsNames = [\"Microbial\", \"Mammalian\", \"Humanised\"]"
   ]
  },
  {
   "cell_type": "markdown",
   "metadata": {},
   "source": [
    "### <a name= brSize></a>2.2 Size of bioreactor\n",
    "THe size of the bioreactor The larger the bioreactor, the greater the amount of product produced. It takes more time for the cells to acclimatise to the bioreactor, particularly the mammalian cells (CHO and humanised CHO). For the purposes of the data simulation it is assumed there will be a uniform distribution of the bioreator sizes.\n"
   ]
  },
  {
   "cell_type": "code",
   "execution_count": 4,
   "metadata": {
    "scrolled": true
   },
   "outputs": [
    {
     "data": {
      "text/plain": [
       "<matplotlib.legend.Legend at 0x2588837c4a8>"
      ]
     },
     "execution_count": 4,
     "metadata": {},
     "output_type": "execute_result"
    },
    {
     "data": {
      "image/png": "[encoded data removed]",
      "text/plain": [
       "<Figure size 432x288 with 1 Axes>"
      ]
     },
     "metadata": {
      "needs_background": "light"
     },
     "output_type": "display_data"
    }
   ],
   "source": [
    "# Start with Bioreactor Size\n",
    "for dataset in datasets:\n",
    "    # This will be a uniformly distributed range of sizes from 500L to 10000L \n",
    "    brSize = 100 * np.random.randint(5, 101, 100)\n",
    "    dataset[\"br_size\"] = brSize\n",
    "    plt.hist(brSize, alpha = 0.5)\n",
    "\n",
    "plt.xlabel(\"Bioreactor Size L)\")\n",
    "plt.ylabel(\"Frequency\")\n",
    "plt.title(\"Bioreactor Size for each Cell Line Type\")\n",
    "plt.legend(dsNames)"
   ]
  },
  {
   "cell_type": "markdown",
   "metadata": {},
   "source": [
    "### <a name=\"temp\"></a>2.3 Average Temperature Reading  \n",
    "There are a number of parameters that are controlled and monitored as part of the cultivation of cells. One such parameter is the temperature. This is controlled via a control system (DCS - Distributed Control System, or PLC - Programmable Logic Controller). While the temperature is monitored and controlled throughout its cultivation time, it is taken for this dataset to be the mean throughout the process. This will be simulated to be a normal distributed attribute. The microbial cell lines have a good tolerance for temperature, while the mammalian cells do not. Mammalian cells are used to specific organs controlling the temperature of the body, _e.g._ blood, skin, kidneys _etc._ and have no cellular mechanism to do so on their own. As a result mammalian cells are much more susceptible to temperature fluctuations [[3](#3)].  "
   ]
  },
  {
   "cell_type": "code",
   "execution_count": 5,
   "metadata": {},
   "outputs": [
    {
     "data": {
      "text/plain": [
       "<matplotlib.legend.Legend at 0x25888b04978>"
      ]
     },
     "execution_count": 5,
     "metadata": {},
     "output_type": "execute_result"
    },
    {
     "data": {
      "image/png": "[encoded data removed]",
      "text/plain": [
       "<Figure size 432x288 with 1 Axes>"
      ]
     },
     "metadata": {
      "needs_background": "light"
     },
     "output_type": "display_data"
    }
   ],
   "source": [
    "# Simulate Average Temperature Readings\n",
    "mean_temp = 37.0\n",
    "std_temp = 0.5\n",
    "for dataset in datasets:\n",
    "    # This will be a normally distributed range with a mean of 37.0 degC \n",
    "    temp = np.random.normal(mean_temp, std_temp, 100)\n",
    "    dataset[\"avg_temp\"] = temp.round(1)\n",
    "    plt.hist(temp, alpha = 0.5)\n",
    "plt.xlabel(\"Average Temperature Readings (degC))\")\n",
    "plt.ylabel(\"Frequency\")\n",
    "plt.title(\"Average Temperature for each Cell Line Type\")\n",
    "plt.legend(dsNames)"
   ]
  },
  {
   "cell_type": "code",
   "execution_count": 6,
   "metadata": {},
   "outputs": [
    {
     "data": {
      "text/html": [
       "<div>\n",
       "<style scoped>\n",
       "    .dataframe tbody tr th:only-of-type {\n",
       "        vertical-align: middle;\n",
       "    }\n",
       "\n",
       "    .dataframe tbody tr th {\n",
       "        vertical-align: top;\n",
       "    }\n",
       "\n",
       "    .dataframe thead th {\n",
       "        text-align: right;\n",
       "    }\n",
       "</style>\n",
       "<table border=\"1\" class=\"dataframe\">\n",
       "  <thead>\n",
       "    <tr style=\"text-align: right;\">\n",
       "      <th></th>\n",
       "      <th>cell_line</th>\n",
       "      <th>br_size</th>\n",
       "      <th>avg_temp</th>\n",
       "    </tr>\n",
       "  </thead>\n",
       "  <tbody>\n",
       "    <tr>\n",
       "      <th>59</th>\n",
       "      <td>Microbial</td>\n",
       "      <td>5600</td>\n",
       "      <td>36.1</td>\n",
       "    </tr>\n",
       "    <tr>\n",
       "      <th>79</th>\n",
       "      <td>Microbial</td>\n",
       "      <td>1900</td>\n",
       "      <td>37.5</td>\n",
       "    </tr>\n",
       "    <tr>\n",
       "      <th>99</th>\n",
       "      <td>Microbial</td>\n",
       "      <td>8400</td>\n",
       "      <td>37.2</td>\n",
       "    </tr>\n",
       "    <tr>\n",
       "      <th>51</th>\n",
       "      <td>Microbial</td>\n",
       "      <td>4200</td>\n",
       "      <td>36.4</td>\n",
       "    </tr>\n",
       "    <tr>\n",
       "      <th>13</th>\n",
       "      <td>Microbial</td>\n",
       "      <td>5500</td>\n",
       "      <td>37.6</td>\n",
       "    </tr>\n",
       "  </tbody>\n",
       "</table>\n",
       "</div>"
      ],
      "text/plain": [
       "    cell_line  br_size  avg_temp\n",
       "59  Microbial     5600      36.1\n",
       "79  Microbial     1900      37.5\n",
       "99  Microbial     8400      37.2\n",
       "51  Microbial     4200      36.4\n",
       "13  Microbial     5500      37.6"
      ]
     },
     "execution_count": 6,
     "metadata": {},
     "output_type": "execute_result"
    }
   ],
   "source": [
    "# Just a quick check on our dfs to see how they are coming along\n",
    "dfMicro.sample(5)\n",
    "#dfMam.head()\n",
    "#dfHum.head()"
   ]
  },
  {
   "cell_type": "markdown",
   "metadata": {},
   "source": [
    "### <a name=\"do\"></a>2.4 Dissolved Oxygen  \n",
    "Like the average temperature reading, the dissolved oxygen (DO) is continuously monitored throughout the process by the control system and the mean value simulated here. Again like the temperature, the microbial cells are easier to adapt to non-optimal DO levels [[5]](#5).  \n",
    "\n",
    "To make things more interesting, we are going to make a huge leap here and say that if the DO is too high, it is a sign that air was too vigorously sparged through the bioreactor which would result in cell lysis (breaking apart - death). This is a true phenomenon, but increased O2 levels could also be due to factors other than sparging as well. "
   ]
  },
  {
   "cell_type": "code",
   "execution_count": 7,
   "metadata": {},
   "outputs": [
    {
     "data": {
      "text/plain": [
       "<matplotlib.legend.Legend at 0x25889c2fef0>"
      ]
     },
     "execution_count": 7,
     "metadata": {},
     "output_type": "execute_result"
    },
    {
     "data": {
      "image/png": "[encoded data removed]",
      "text/plain": [
       "<Figure size 432x288 with 1 Axes>"
      ]
     },
     "metadata": {
      "needs_background": "light"
     },
     "output_type": "display_data"
    }
   ],
   "source": [
    "# Simulate Average Dissolved Oxygen Readings\n",
    "mean_do = 5.5\n",
    "std_do = 0.5\n",
    "\n",
    "for dataset in datasets:\n",
    "    # This will be a normally distributed range of DO averages centred around a mean of 5.0\n",
    "    do = np.random.normal(mean_do, std_do, 100)\n",
    "    # At 37degC the maximum possible DO concentration is 6.7\n",
    "    # We need to ensure that no value exceeds that maximum \n",
    "    do = setLimits(do, False, 0, True, 6.7)\n",
    "    dataset[\"avg_do\"] = list(np.around(np.array(do),1)) \n",
    "    plt.hist(do, alpha = 0.5)\n",
    "\n",
    "plt.xlabel(\"Dissolved Oxygen)\")\n",
    "plt.ylabel(\"Frequency\")\n",
    "plt.title(\"Average Dissolved Oxygen Readings for each Cell Line Type\")\n",
    "plt.legend(dsNames)"
   ]
  },
  {
   "cell_type": "code",
   "execution_count": 8,
   "metadata": {},
   "outputs": [
    {
     "data": {
      "text/html": [
       "<div>\n",
       "<style scoped>\n",
       "    .dataframe tbody tr th:only-of-type {\n",
       "        vertical-align: middle;\n",
       "    }\n",
       "\n",
       "    .dataframe tbody tr th {\n",
       "        vertical-align: top;\n",
       "    }\n",
       "\n",
       "    .dataframe thead th {\n",
       "        text-align: right;\n",
       "    }\n",
       "</style>\n",
       "<table border=\"1\" class=\"dataframe\">\n",
       "  <thead>\n",
       "    <tr style=\"text-align: right;\">\n",
       "      <th></th>\n",
       "      <th>cell_line</th>\n",
       "      <th>br_size</th>\n",
       "      <th>avg_temp</th>\n",
       "      <th>avg_do</th>\n",
       "    </tr>\n",
       "  </thead>\n",
       "  <tbody>\n",
       "    <tr>\n",
       "      <th>0</th>\n",
       "      <td>CHO</td>\n",
       "      <td>5500</td>\n",
       "      <td>37.4</td>\n",
       "      <td>6.5</td>\n",
       "    </tr>\n",
       "    <tr>\n",
       "      <th>1</th>\n",
       "      <td>CHO</td>\n",
       "      <td>3000</td>\n",
       "      <td>36.5</td>\n",
       "      <td>4.3</td>\n",
       "    </tr>\n",
       "    <tr>\n",
       "      <th>2</th>\n",
       "      <td>CHO</td>\n",
       "      <td>5500</td>\n",
       "      <td>37.1</td>\n",
       "      <td>5.6</td>\n",
       "    </tr>\n",
       "    <tr>\n",
       "      <th>3</th>\n",
       "      <td>CHO</td>\n",
       "      <td>4000</td>\n",
       "      <td>37.2</td>\n",
       "      <td>5.6</td>\n",
       "    </tr>\n",
       "    <tr>\n",
       "      <th>4</th>\n",
       "      <td>CHO</td>\n",
       "      <td>8800</td>\n",
       "      <td>37.0</td>\n",
       "      <td>4.8</td>\n",
       "    </tr>\n",
       "  </tbody>\n",
       "</table>\n",
       "</div>"
      ],
      "text/plain": [
       "  cell_line  br_size  avg_temp  avg_do\n",
       "0       CHO     5500      37.4     6.5\n",
       "1       CHO     3000      36.5     4.3\n",
       "2       CHO     5500      37.1     5.6\n",
       "3       CHO     4000      37.2     5.6\n",
       "4       CHO     8800      37.0     4.8"
      ]
     },
     "execution_count": 8,
     "metadata": {},
     "output_type": "execute_result"
    }
   ],
   "source": [
    "# Just a quick check on our dfs to see how they are coming along\n",
    "#dfMicro.head()\n",
    "dfMam.head()\n",
    "#dfHum.head()"
   ]
  },
  {
   "cell_type": "markdown",
   "metadata": {},
   "source": [
    "### <a name=\"culture\"></a> 2.5 Culture Type  \n",
    "The type of processing may be   \n",
    "* Batch  \n",
    "* Fed batch  \n",
    "* Perfusion  \n",
    "\n",
    "In the order given each type has longer processing times, has an increased yield and may have a small bioreactor volume in the case of perfusion method. For the purposes of data simulation, this is categorical data.  \n",
    "\n",
    "The traits we will consider for allocation of culture type will be:\n",
    "* Perfusion bioreactors tend to be smaller that other methods\n",
    "* Fed-batch is the most common method\n",
    "* Batch is the least common method "
   ]
  },
  {
   "cell_type": "code",
   "execution_count": 9,
   "metadata": {
    "scrolled": true
   },
   "outputs": [
    {
     "data": {
      "image/png": "[encoded data removed]",
      "text/plain": [
       "<Figure size 1152x432 with 3 Axes>"
      ]
     },
     "metadata": {},
     "output_type": "display_data"
    }
   ],
   "source": [
    "# Simulate different culture types\n",
    "cultures=[\"Batch\", \"Fed Batch\", \"Perfusion\"]\n",
    "plt.rcParams['figure.figsize'] = [16, 6] # Needed to put this in again!\n",
    "# Plot both the raw data and the \"best fit\" lines\n",
    "i = 1\n",
    "for dataset in datasets:\n",
    "    culture=[]\n",
    "    # iterate over rows with iterrows()\n",
    "    for index, row in dataset.iterrows():\n",
    "        # Change the probabilities of the culture type dependent on the bioreactor size\n",
    "        if row[\"br_size\"] < 2000:\n",
    "            prob = [0.2, 0.2, 0.6]\n",
    "        elif row[\"br_size\"] < 6000:\n",
    "            prob = [0.3, 0.5, 0.2]\n",
    "        else:\n",
    "            prob = [0.25, 0.7, 0.05]\n",
    "        culture.append(np.random.choice(cultures, 1, replace=True, p =prob)[0])\n",
    "    dataset[\"culture\"] = culture\n",
    "    \n",
    "    # Data to plot\n",
    "    sizes = (dataset[dataset.culture == \"Batch\"].culture.count(), \\\n",
    "            dataset[dataset.culture == \"Fed Batch\"].culture.count(), \\\n",
    "            dataset[dataset.culture == \"Perfusion\"].culture.count(), \\\n",
    "            )\n",
    "    plt.subplot(1, 3, i)\n",
    "    plt.pie(sizes, labels=cultures, autopct='%1.1f%%', startangle=15, shadow = True)\n",
    "    plt.title(\"Division of Culture Types for \" + dataset.cell_line[0] + \" Cells\")\n",
    "    i+=1"
   ]
  },
  {
   "cell_type": "code",
   "execution_count": 10,
   "metadata": {},
   "outputs": [
    {
     "data": {
      "text/html": [
       "<div>\n",
       "<style scoped>\n",
       "    .dataframe tbody tr th:only-of-type {\n",
       "        vertical-align: middle;\n",
       "    }\n",
       "\n",
       "    .dataframe tbody tr th {\n",
       "        vertical-align: top;\n",
       "    }\n",
       "\n",
       "    .dataframe thead th {\n",
       "        text-align: right;\n",
       "    }\n",
       "</style>\n",
       "<table border=\"1\" class=\"dataframe\">\n",
       "  <thead>\n",
       "    <tr style=\"text-align: right;\">\n",
       "      <th></th>\n",
       "      <th>cell_line</th>\n",
       "      <th>br_size</th>\n",
       "      <th>avg_temp</th>\n",
       "      <th>avg_do</th>\n",
       "      <th>culture</th>\n",
       "    </tr>\n",
       "  </thead>\n",
       "  <tbody>\n",
       "    <tr>\n",
       "      <th>0</th>\n",
       "      <td>vCHO</td>\n",
       "      <td>4800</td>\n",
       "      <td>37.1</td>\n",
       "      <td>5.4</td>\n",
       "      <td>Batch</td>\n",
       "    </tr>\n",
       "    <tr>\n",
       "      <th>1</th>\n",
       "      <td>vCHO</td>\n",
       "      <td>2500</td>\n",
       "      <td>37.3</td>\n",
       "      <td>6.0</td>\n",
       "      <td>Batch</td>\n",
       "    </tr>\n",
       "    <tr>\n",
       "      <th>2</th>\n",
       "      <td>vCHO</td>\n",
       "      <td>8600</td>\n",
       "      <td>36.6</td>\n",
       "      <td>5.4</td>\n",
       "      <td>Fed Batch</td>\n",
       "    </tr>\n",
       "    <tr>\n",
       "      <th>3</th>\n",
       "      <td>vCHO</td>\n",
       "      <td>8900</td>\n",
       "      <td>37.4</td>\n",
       "      <td>5.3</td>\n",
       "      <td>Fed Batch</td>\n",
       "    </tr>\n",
       "    <tr>\n",
       "      <th>4</th>\n",
       "      <td>vCHO</td>\n",
       "      <td>9500</td>\n",
       "      <td>36.9</td>\n",
       "      <td>5.9</td>\n",
       "      <td>Batch</td>\n",
       "    </tr>\n",
       "  </tbody>\n",
       "</table>\n",
       "</div>"
      ],
      "text/plain": [
       "  cell_line  br_size  avg_temp  avg_do    culture\n",
       "0      vCHO     4800      37.1     5.4      Batch\n",
       "1      vCHO     2500      37.3     6.0      Batch\n",
       "2      vCHO     8600      36.6     5.4  Fed Batch\n",
       "3      vCHO     8900      37.4     5.3  Fed Batch\n",
       "4      vCHO     9500      36.9     5.9      Batch"
      ]
     },
     "execution_count": 10,
     "metadata": {},
     "output_type": "execute_result"
    }
   ],
   "source": [
    "# Just a quick check on our dfs to see how they are coming along\n",
    "#dfMicro.head()\n",
    "#dfMam.head()\n",
    "dfHum.head()"
   ]
  },
  {
   "cell_type": "markdown",
   "metadata": {},
   "source": [
    "### <a name=\"cell_dens\"> </a> 2.6 Peak Viable Cell Density  \n",
    "This is the maximum live cell density in x $10^6$ cells / ml. This is dependent on the type of cells and culture method used.  \n",
    "\n",
    "Batch Systems < Fed-batch systems < Perfusion systems  \n",
    "\n",
    "and  \n",
    "\n",
    "Mammalian cells < Microbial cells\n",
    "\n",
    "Within each of these categorisations the cell density could be assumed to be normally distributed.\n",
    "4 < 6 < 15"
   ]
  },
  {
   "cell_type": "code",
   "execution_count": 11,
   "metadata": {},
   "outputs": [],
   "source": [
    "# Simulate Cell Densities\n",
    "\n",
    "for dataset in datasets:\n",
    "    # Different standard deviations for microbial cultures - more repeatable\n",
    "    if dataset.cell_line[0] == \"Microbial\":\n",
    "        cd_std = 1\n",
    "    else:\n",
    "        cd_std = 2\n",
    "    cd=[]\n",
    "    # iterate over rows with iterrows()\n",
    "    for index, row in dataset.iterrows():\n",
    "        # Change the mean of the normalised distribution dependent on the culture type\n",
    "        if row[\"culture\"] == \"Batch\":\n",
    "            cd_mean = 4\n",
    "        elif row[\"culture\"] == \"Fed Batch\":\n",
    "            cd_mean = 6\n",
    "        elif row[\"culture\"] == \"Perfusion\":\n",
    "            cd_mean = 15\n",
    "        # taking the absolute (as there are no negative numbers) and integer value\n",
    "        # Not using the setLimits function here as there is no absolute lower limit - just cannot be below zero\n",
    "        cd.append(abs(int(np.random.normal(cd_mean, cd_std, 1)[0])))\n",
    "    dataset[\"cell_density\"] = cd\n",
    "    \n",
    "# Because microbial cell density is much greater\n",
    "dfMicro.cell_density = dfMicro.cell_density * 4"
   ]
  },
  {
   "cell_type": "markdown",
   "metadata": {},
   "source": [
    "**Note**: Using a normal distribution here it is possible some values will equate to cell density of 0. This is a valid measurement and can and does happen particularly if something went wrong in the seeding process.  \n",
    "\n",
    "A cell density of zero reflects the fact that all cells are non-viable or dead. This may also happen if process conditions were incompatible with cellular processes eg environmental conditions like temperature, agitation speed etc, the addition of toxic substances, the build up of toxins from the cellular process itself or simply an exhaustion of nutrient supply.    \n",
    "\n",
    "While the reading here is a Peak Cell Density, this is often not continually measured, but via sampling. A peak cell density in any of the above scenarios would be possible."
   ]
  },
  {
   "cell_type": "code",
   "execution_count": 12,
   "metadata": {},
   "outputs": [
    {
     "data": {
      "text/html": [
       "<div>\n",
       "<style scoped>\n",
       "    .dataframe tbody tr th:only-of-type {\n",
       "        vertical-align: middle;\n",
       "    }\n",
       "\n",
       "    .dataframe tbody tr th {\n",
       "        vertical-align: top;\n",
       "    }\n",
       "\n",
       "    .dataframe thead th {\n",
       "        text-align: right;\n",
       "    }\n",
       "</style>\n",
       "<table border=\"1\" class=\"dataframe\">\n",
       "  <thead>\n",
       "    <tr style=\"text-align: right;\">\n",
       "      <th></th>\n",
       "      <th>cell_line</th>\n",
       "      <th>br_size</th>\n",
       "      <th>avg_temp</th>\n",
       "      <th>avg_do</th>\n",
       "      <th>culture</th>\n",
       "      <th>cell_density</th>\n",
       "    </tr>\n",
       "  </thead>\n",
       "  <tbody>\n",
       "    <tr>\n",
       "      <th>87</th>\n",
       "      <td>CHO</td>\n",
       "      <td>900</td>\n",
       "      <td>37.6</td>\n",
       "      <td>5.7</td>\n",
       "      <td>Perfusion</td>\n",
       "      <td>14</td>\n",
       "    </tr>\n",
       "    <tr>\n",
       "      <th>95</th>\n",
       "      <td>CHO</td>\n",
       "      <td>3500</td>\n",
       "      <td>37.0</td>\n",
       "      <td>5.3</td>\n",
       "      <td>Batch</td>\n",
       "      <td>3</td>\n",
       "    </tr>\n",
       "    <tr>\n",
       "      <th>56</th>\n",
       "      <td>CHO</td>\n",
       "      <td>1800</td>\n",
       "      <td>37.5</td>\n",
       "      <td>5.6</td>\n",
       "      <td>Perfusion</td>\n",
       "      <td>16</td>\n",
       "    </tr>\n",
       "    <tr>\n",
       "      <th>29</th>\n",
       "      <td>CHO</td>\n",
       "      <td>2100</td>\n",
       "      <td>36.4</td>\n",
       "      <td>5.2</td>\n",
       "      <td>Perfusion</td>\n",
       "      <td>14</td>\n",
       "    </tr>\n",
       "    <tr>\n",
       "      <th>42</th>\n",
       "      <td>CHO</td>\n",
       "      <td>1200</td>\n",
       "      <td>36.9</td>\n",
       "      <td>5.3</td>\n",
       "      <td>Perfusion</td>\n",
       "      <td>17</td>\n",
       "    </tr>\n",
       "  </tbody>\n",
       "</table>\n",
       "</div>"
      ],
      "text/plain": [
       "   cell_line  br_size  avg_temp  avg_do    culture  cell_density\n",
       "87       CHO      900      37.6     5.7  Perfusion            14\n",
       "95       CHO     3500      37.0     5.3      Batch             3\n",
       "56       CHO     1800      37.5     5.6  Perfusion            16\n",
       "29       CHO     2100      36.4     5.2  Perfusion            14\n",
       "42       CHO     1200      36.9     5.3  Perfusion            17"
      ]
     },
     "execution_count": 12,
     "metadata": {},
     "output_type": "execute_result"
    }
   ],
   "source": [
    "# Just a quick check on our dfs to see how they are coming along\n",
    "#dfMicro.head()\n",
    "dfMam.sample(5)\n",
    "#dfHum.head()"
   ]
  },
  {
   "cell_type": "markdown",
   "metadata": {},
   "source": [
    "### <a name=\"hours\"></a>2.7 Processing Days\n",
    "Normal distribution dependent on: \n",
    "* cell type  \n",
    "  - microbial cells requiring much less time due to quicker adaptation and cell growth\n",
    "  - with mammalian cells requiring much longer to build up a sufficient cell density adapt to a new environment and to grow.\n",
    "* size of bioreactor\n",
    "  - the larger the bioreaactor the more seeding steps required to get an optimal cell density to seed the bioreactor. Too few cells in a large volume would equate to a longer total processing time at best and cell death at worst.  \n",
    "  - we will assume that the actual processing time within the main bioreactor will be approximately equal (normal distribution) among the same cell type and culture method. The bioreactor size will affect only the pre-processing seed preparation steps.\n",
    "  - 3days (72 hrs) + an additional 2 days (48hrs) for every 250L bioreactor size + \n",
    "* culture type  \n",
    "  - batch being shorter,  \n",
    "  - fed batch being longer  \n",
    "  - perfusion being much longer\n",
    "\n",
    "\n",
    "Proposed calculation factors:  \n",
    "\n",
    "| Factor                                | Microbial | Mammalian | Humanised |\n",
    "|---------------------------------------|-----------|-----------|-----------|\n",
    "| **Batch / Fed Batch Modes**                                                   |\n",
    "| Base Seed Days                        | 2         | 3         | 3         |\n",
    "| Day Increase / 250L  Bioreactor size  | 1         | 2         | 2.3       |\n",
    "| Days in Bioreactor                    | 3         | 5         | 6         |\n",
    "| Fed-Batch Multiplier                  | 1.3       | 1.3       | 1.3       |\n",
    "| **Perfusion**                                                                 |\n",
    "| Total Time (Days)                     | 20        | 40        | 45        |\n",
    "| Multiplier for every 250L increase    | 1.1       | 1.2       | 1.2       |"
   ]
  },
  {
   "cell_type": "code",
   "execution_count": 13,
   "metadata": {},
   "outputs": [
    {
     "data": {
      "text/plain": [
       "Text(0.5, 1.0, 'Histogram of Processing Time per Cell Line')"
      ]
     },
     "execution_count": 13,
     "metadata": {},
     "output_type": "execute_result"
    },
    {
     "data": {
      "image/png": "[encoded data removed]",
      "text/plain": [
       "<Figure size 1152x432 with 1 Axes>"
      ]
     },
     "metadata": {
      "needs_background": "light"
     },
     "output_type": "display_data"
    }
   ],
   "source": [
    "# Simulate Processing Hours\n",
    "\n",
    "for dataset in datasets:\n",
    "    days = []\n",
    "    fb_mult = 1.3\n",
    "    \n",
    "    # Set the parameters as per the table above\n",
    "    if dataset.cell_line[0] == \"Microbial\":\n",
    "        seed_base = 2\n",
    "        seed_inc = 1\n",
    "        bio = 3\n",
    "        perf = 20\n",
    "        perf_mul = 1.1\n",
    "    elif dataset.cell_line[0] == \"CHO\":\n",
    "        seed_base = 3\n",
    "        seed_inc = 2\n",
    "        bio = 5\n",
    "        perf = 40\n",
    "        perf_mul = 1.2\n",
    "    else:\n",
    "        seed_base = 3\n",
    "        seed_inc = 2.3\n",
    "        bio = 6\n",
    "        perf = 45\n",
    "        perf_mul = 1.2\n",
    "\n",
    "    # iterate over rows with iterrows()\n",
    "    for index, row in dataset.iterrows():\n",
    "        \n",
    "        # Change the mean of the normalised distribution dependent on the culture type\n",
    "        if row[\"culture\"] == \"Perfusion\":\n",
    "            mean = perf + (row.br_size*perf_mul/500)\n",
    "        else:\n",
    "            mean = seed_base + (row.br_size*seed_inc/500) + bio\n",
    "            \n",
    "        # Simulate the values to come from the normalised distribution\n",
    "        # based on the calculated mean with a standard distribution of the mean / 3\n",
    "        time = int(np.random.normal(mean, (mean/3),1))\n",
    "        \n",
    "        # Add a multiplier for the fed-batch processing\n",
    "        if row.culture == \"Fed Batch\": time = time * fb_mult\n",
    "        \n",
    "        # Append it to the days list\n",
    "        days.append(time)\n",
    "        \n",
    "    # As we are using a normal distribution - make sure none of our values are below zero. Set a base of 3 days\n",
    "    days = setLimits(days, True, False, 3, 0) \n",
    "    \n",
    "    # Add a new column \"time\" to the dataframe\n",
    "    dataset[\"time\"] = days\n",
    "    \n",
    "    # Plot a histgram of it\n",
    "    plt.hist(days, alpha = 0.5)\n",
    "\n",
    "# Add the legend and labels\n",
    "plt.legend(dsNames)\n",
    "plt.xlabel(\"Processing Days\")\n",
    "plt.ylabel(\"Frequency\")\n",
    "plt.title(\"Histogram of Processing Time per Cell Line\")"
   ]
  },
  {
   "cell_type": "code",
   "execution_count": 14,
   "metadata": {},
   "outputs": [
    {
     "data": {
      "text/html": [
       "<div>\n",
       "<style scoped>\n",
       "    .dataframe tbody tr th:only-of-type {\n",
       "        vertical-align: middle;\n",
       "    }\n",
       "\n",
       "    .dataframe tbody tr th {\n",
       "        vertical-align: top;\n",
       "    }\n",
       "\n",
       "    .dataframe thead th {\n",
       "        text-align: right;\n",
       "    }\n",
       "</style>\n",
       "<table border=\"1\" class=\"dataframe\">\n",
       "  <thead>\n",
       "    <tr style=\"text-align: right;\">\n",
       "      <th></th>\n",
       "      <th>cell_line</th>\n",
       "      <th>br_size</th>\n",
       "      <th>avg_temp</th>\n",
       "      <th>avg_do</th>\n",
       "      <th>culture</th>\n",
       "      <th>cell_density</th>\n",
       "      <th>time</th>\n",
       "    </tr>\n",
       "  </thead>\n",
       "  <tbody>\n",
       "    <tr>\n",
       "      <th>87</th>\n",
       "      <td>Microbial</td>\n",
       "      <td>5000</td>\n",
       "      <td>37.3</td>\n",
       "      <td>5.8</td>\n",
       "      <td>Fed Batch</td>\n",
       "      <td>28</td>\n",
       "      <td>29.9</td>\n",
       "    </tr>\n",
       "    <tr>\n",
       "      <th>65</th>\n",
       "      <td>Microbial</td>\n",
       "      <td>4400</td>\n",
       "      <td>37.6</td>\n",
       "      <td>4.9</td>\n",
       "      <td>Perfusion</td>\n",
       "      <td>56</td>\n",
       "      <td>16.0</td>\n",
       "    </tr>\n",
       "    <tr>\n",
       "      <th>52</th>\n",
       "      <td>Microbial</td>\n",
       "      <td>1800</td>\n",
       "      <td>36.5</td>\n",
       "      <td>5.5</td>\n",
       "      <td>Fed Batch</td>\n",
       "      <td>20</td>\n",
       "      <td>9.1</td>\n",
       "    </tr>\n",
       "    <tr>\n",
       "      <th>46</th>\n",
       "      <td>Microbial</td>\n",
       "      <td>600</td>\n",
       "      <td>37.1</td>\n",
       "      <td>5.1</td>\n",
       "      <td>Perfusion</td>\n",
       "      <td>56</td>\n",
       "      <td>22.0</td>\n",
       "    </tr>\n",
       "    <tr>\n",
       "      <th>47</th>\n",
       "      <td>Microbial</td>\n",
       "      <td>5600</td>\n",
       "      <td>36.7</td>\n",
       "      <td>6.6</td>\n",
       "      <td>Fed Batch</td>\n",
       "      <td>24</td>\n",
       "      <td>14.3</td>\n",
       "    </tr>\n",
       "  </tbody>\n",
       "</table>\n",
       "</div>"
      ],
      "text/plain": [
       "    cell_line  br_size  avg_temp  avg_do    culture  cell_density  time\n",
       "87  Microbial     5000      37.3     5.8  Fed Batch            28  29.9\n",
       "65  Microbial     4400      37.6     4.9  Perfusion            56  16.0\n",
       "52  Microbial     1800      36.5     5.5  Fed Batch            20   9.1\n",
       "46  Microbial      600      37.1     5.1  Perfusion            56  22.0\n",
       "47  Microbial     5600      36.7     6.6  Fed Batch            24  14.3"
      ]
     },
     "execution_count": 14,
     "metadata": {},
     "output_type": "execute_result"
    }
   ],
   "source": [
    "# Just a quick check on our dfs to see how they are coming along\n",
    "dfMicro.sample(5)\n",
    "#dfMam.head()\n",
    "#dfHum.head()"
   ]
  },
  {
   "cell_type": "code",
   "execution_count": 15,
   "metadata": {},
   "outputs": [
    {
     "name": "stdout",
     "output_type": "stream",
     "text": [
      "Min. Microbial Time = 4.0\n",
      "Min. Mammalian Time = 7.0\n",
      "Min. Humanised Time = 5.0\n"
     ]
    }
   ],
   "source": [
    "# Sanity Check\n",
    "print(\"Min. Microbial Time =\", dfMicro.time.min())\n",
    "print(\"Min. Mammalian Time =\", dfMam.time.min())\n",
    "print(\"Min. Humanised Time =\", dfHum.time.min())"
   ]
  },
  {
   "cell_type": "markdown",
   "metadata": {},
   "source": [
    "### <a name=\"alarms\"></a> 2.8  No of Alarms  \n",
    "The production process is monitored and controlled by an automated control system. This control system will alarm if various parameters fall outside of the acceptable limits. It is a reasonable assumption that the greater the number of alarms during processing would have an adverse effect on the yield. From a data simulation perspective, this would be a Poisson distribution of events during the cell growth, over the growth period. But some of the already simulated data will have an effect on the simulated data.    \n",
    " \n",
    "Our simulation model will use:  \n",
    "* The Poisson distribution for alarms with a lambda value of 1.2 alarms per day  \n",
    "* The number of processing days\n",
    "* The already simulated processing conditions:  \n",
    " - Average temperature \n",
    " - Average DO\n",
    "\n",
    "We already have simulated some of the data being recorded over the production time, namely temperature and dissolved oxygen. As what we have simulated is the mean temperature and DO, we can assume that those having values further away from the mean will probably have had more alarms generated during processing so therefore we may take this into consideration. To know how far a value is away from the mean we will use the process variables' Z-scores. The Z-score is a measure of the number of standard deviations any given reading is away form the mean. To stop the effects of one \"good\" z-score value nnegating the efects of one \"bad\" reading, we will take the maximum of the absolute value of the two z-scores and use that as a multiplier.  "
   ]
  },
  {
   "cell_type": "code",
   "execution_count": 16,
   "metadata": {},
   "outputs": [
    {
     "data": {
      "text/plain": [
       "<matplotlib.legend.Legend at 0x25889f0e550>"
      ]
     },
     "execution_count": 16,
     "metadata": {},
     "output_type": "execute_result"
    },
    {
     "data": {
      "image/png": "[encoded data removed]",
      "text/plain": [
       "<Figure size 1152x432 with 1 Axes>"
      ]
     },
     "metadata": {
      "needs_background": "light"
     },
     "output_type": "display_data"
    }
   ],
   "source": [
    "# Simulating the alarms\n",
    "lam = 1.2 # the frequency of alarms\n",
    "\n",
    "for dataset in datasets:\n",
    "    # Alarm calculation - poisson distribution * processing time * max of absolute value of zscores of temperature and do readings\n",
    "    alarms = (np.random.poisson(lam, 100) * dataset.time * list(map(max, zip(abs(stats.zscore(dataset.avg_temp)),abs(stats.zscore(dataset.avg_do)))))).round(0)\n",
    "    # Convert the alarm values to integers (because you cannot have a bit of an alarm)\n",
    "    # and add to the dataset [12]\n",
    "    dataset[\"alarm\"] = list(map(int, alarms))  \n",
    "    plt.hist(alarms, alpha = 0.5)\n",
    "\n",
    "plt.xlabel(\"No of alarms)\")\n",
    "plt.ylabel(\"Frequency\")\n",
    "plt.title(\"Number of alarms for each Cell Line Type\")\n",
    "plt.legend(dsNames)"
   ]
  },
  {
   "cell_type": "code",
   "execution_count": 17,
   "metadata": {},
   "outputs": [
    {
     "data": {
      "text/html": [
       "<div>\n",
       "<style scoped>\n",
       "    .dataframe tbody tr th:only-of-type {\n",
       "        vertical-align: middle;\n",
       "    }\n",
       "\n",
       "    .dataframe tbody tr th {\n",
       "        vertical-align: top;\n",
       "    }\n",
       "\n",
       "    .dataframe thead th {\n",
       "        text-align: right;\n",
       "    }\n",
       "</style>\n",
       "<table border=\"1\" class=\"dataframe\">\n",
       "  <thead>\n",
       "    <tr style=\"text-align: right;\">\n",
       "      <th></th>\n",
       "      <th>cell_line</th>\n",
       "      <th>br_size</th>\n",
       "      <th>avg_temp</th>\n",
       "      <th>avg_do</th>\n",
       "      <th>culture</th>\n",
       "      <th>cell_density</th>\n",
       "      <th>time</th>\n",
       "      <th>alarm</th>\n",
       "    </tr>\n",
       "  </thead>\n",
       "  <tbody>\n",
       "    <tr>\n",
       "      <th>46</th>\n",
       "      <td>Microbial</td>\n",
       "      <td>600</td>\n",
       "      <td>37.1</td>\n",
       "      <td>5.1</td>\n",
       "      <td>Perfusion</td>\n",
       "      <td>56</td>\n",
       "      <td>22.0</td>\n",
       "      <td>20</td>\n",
       "    </tr>\n",
       "    <tr>\n",
       "      <th>95</th>\n",
       "      <td>Microbial</td>\n",
       "      <td>8600</td>\n",
       "      <td>36.7</td>\n",
       "      <td>5.8</td>\n",
       "      <td>Fed Batch</td>\n",
       "      <td>24</td>\n",
       "      <td>28.6</td>\n",
       "      <td>19</td>\n",
       "    </tr>\n",
       "    <tr>\n",
       "      <th>25</th>\n",
       "      <td>Microbial</td>\n",
       "      <td>6100</td>\n",
       "      <td>36.3</td>\n",
       "      <td>4.6</td>\n",
       "      <td>Fed Batch</td>\n",
       "      <td>20</td>\n",
       "      <td>31.2</td>\n",
       "      <td>0</td>\n",
       "    </tr>\n",
       "    <tr>\n",
       "      <th>81</th>\n",
       "      <td>Microbial</td>\n",
       "      <td>3000</td>\n",
       "      <td>37.1</td>\n",
       "      <td>5.7</td>\n",
       "      <td>Fed Batch</td>\n",
       "      <td>16</td>\n",
       "      <td>14.3</td>\n",
       "      <td>12</td>\n",
       "    </tr>\n",
       "    <tr>\n",
       "      <th>6</th>\n",
       "      <td>Microbial</td>\n",
       "      <td>1400</td>\n",
       "      <td>37.1</td>\n",
       "      <td>5.8</td>\n",
       "      <td>Batch</td>\n",
       "      <td>12</td>\n",
       "      <td>11.0</td>\n",
       "      <td>5</td>\n",
       "    </tr>\n",
       "  </tbody>\n",
       "</table>\n",
       "</div>"
      ],
      "text/plain": [
       "    cell_line  br_size  avg_temp  avg_do    culture  cell_density  time  alarm\n",
       "46  Microbial      600      37.1     5.1  Perfusion            56  22.0     20\n",
       "95  Microbial     8600      36.7     5.8  Fed Batch            24  28.6     19\n",
       "25  Microbial     6100      36.3     4.6  Fed Batch            20  31.2      0\n",
       "81  Microbial     3000      37.1     5.7  Fed Batch            16  14.3     12\n",
       "6   Microbial     1400      37.1     5.8      Batch            12  11.0      5"
      ]
     },
     "execution_count": 17,
     "metadata": {},
     "output_type": "execute_result"
    }
   ],
   "source": [
    "# Just a quick check on our dfs to see how they are coming along\n",
    "dfMicro.sample(5)\n",
    "#dfMam.head()\n",
    "#dfHum.head()"
   ]
  },
  {
   "cell_type": "code",
   "execution_count": 18,
   "metadata": {},
   "outputs": [
    {
     "name": "stdout",
     "output_type": "stream",
     "text": [
      "========================================\n",
      "The number of Microbial cultures without an alarm is: 33\n",
      "\n",
      "    cell_line  br_size  avg_temp  avg_do    culture  cell_density  time  alarm\n",
      "27  Microbial     8500      36.1     5.4  Fed Batch            24  29.9    216\n",
      "28  Microbial     9000      37.9     5.0  Fed Batch            24  26.0    128\n",
      "33  Microbial     6700      37.7     5.1      Batch            16  20.0    101\n",
      "3   Microbial     9400      37.6     6.8  Fed Batch            28  40.3     99\n",
      "74  Microbial    10000      36.4     4.8  Fed Batch            24  29.9     90\n",
      "\n",
      "========================================\n",
      "The number of Mammalian cultures without an alarm is: 22\n",
      "\n",
      "   cell_line  br_size  avg_temp  avg_do    culture  cell_density  time  alarm\n",
      "64       CHO    10000      37.2     4.4  Fed Batch             6  59.8    383\n",
      "44       CHO     5500      37.5     4.9  Fed Batch             7  55.9    255\n",
      "15       CHO     1100      36.8     5.1  Perfusion            13  57.0    254\n",
      "37       CHO     9400      37.2     6.3      Batch             9  37.0    244\n",
      "68       CHO     3700      37.3     4.3  Perfusion            13  50.0    233\n",
      "\n",
      "========================================\n",
      "The number of Humanised cultures without an alarm is: 32\n",
      "\n",
      "   cell_line  br_size  avg_temp  avg_do    culture  cell_density  time  alarm\n",
      "88      vCHO     8700      36.1     5.1  Fed Batch             4  52.0    303\n",
      "37      vCHO     4600      37.7     5.6  Fed Batch             3  55.9    279\n",
      "85      vCHO     8900      36.4     5.8  Fed Batch             5  88.4    238\n",
      "27      vCHO     9700      36.7     5.1  Fed Batch             7  66.3    202\n",
      "44      vCHO     4700      37.9     5.0  Fed Batch             5  59.8    197\n",
      "\n"
     ]
    }
   ],
   "source": [
    "# Sanity Check\n",
    "i = 0\n",
    "for dataset in datasets:\n",
    "    print(\"=\"*40)\n",
    "    # See how many are have no alarms\n",
    "    print(\"The number of \" + dsNames[i] + \" cultures without an alarm is:\",dataset.alarm[dataset.alarm == 0].count())\n",
    "    print(\"\")\n",
    "    i+=1\n",
    "    # And the top 5 no of alarms of each\n",
    "    print(dataset.sort_values(by=['alarm'], ascending=False).head())\n",
    "    print(\"\")"
   ]
  },
  {
   "cell_type": "code",
   "execution_count": 19,
   "metadata": {},
   "outputs": [
    {
     "data": {
      "text/plain": [
       "Text(0.5, 1.0, 'Processing Time vs No of Alarms')"
      ]
     },
     "execution_count": 19,
     "metadata": {},
     "output_type": "execute_result"
    },
    {
     "data": {
      "image/png": "[encoded data removed]",
      "text/plain": [
       "<Figure size 1152x432 with 1 Axes>"
      ]
     },
     "metadata": {
      "needs_background": "light"
     },
     "output_type": "display_data"
    }
   ],
   "source": [
    "# Plotting the total alarms against the processing time for Batch\n",
    "plt.plot(dfMicro.alarm[dfMicro.culture == \"Batch\"],dfMicro.time[dfMicro.culture == \"Batch\"], \"bo\", label=\"Batch\")\n",
    "plt.plot(dfMam.alarm[dfMam.culture == \"Batch\"],dfMam.time[dfMam.culture == \"Batch\"], \"bo\")\n",
    "plt.plot(dfHum.alarm[dfHum.culture == \"Batch\"],dfHum.time[dfHum.culture == \"Batch\"], \"bo\")\n",
    "\n",
    "# Plotting the total alarms against the processing time for Fed Batch\n",
    "plt.plot(dfMicro.alarm[dfMicro.culture == \"Fed Batch\"],dfMicro.time[dfMicro.culture == \"Fed Batch\"], \"m*\", label=\"Fed Batch\")\n",
    "plt.plot(dfMam.alarm[dfMam.culture == \"Fed Batch\"],dfMam.time[dfMam.culture == \"Fed Batch\"], \"m*\")\n",
    "plt.plot(dfHum.alarm[dfHum.culture == \"Fed Batch\"],dfHum.time[dfHum.culture == \"Fed Batch\"], \"m*\")\n",
    "\n",
    "# Plotting the total alarms against the processing time for Perfusion\n",
    "plt.plot(dfMicro.alarm[dfMicro.culture == \"Perfusion\"],dfMicro.time[dfMicro.culture == \"Perfusion\"], \"g^\", label=\"Perfusion\")\n",
    "plt.plot(dfMam.alarm[dfMam.culture == \"Perfusion\"],dfMam.time[dfMam.culture == \"Perfusion\"], \"g^\")\n",
    "plt.plot(dfHum.alarm[dfHum.culture == \"Perfusion\"],dfHum.time[dfHum.culture == \"Perfusion\"], \"g^\")\n",
    "\n",
    "# Adding the info to the plot\n",
    "plt.legend()\n",
    "plt.xlabel(\"No of Alarms\")\n",
    "plt.ylabel(\"Time (Days)\")\n",
    "plt.title(\"Processing Time vs No of Alarms\")"
   ]
  },
  {
   "cell_type": "markdown",
   "metadata": {},
   "source": [
    "### <a name=\"yield\"></a> 2.9 Yield  \n",
    "The reason the cells are grown in the bioreactor is to product the protein of choice e.g. an antibody, generally for therapeutic use. The yield is the amount of product produced [[15]](#15) and all variables simulated have either a direct or an indirect impact on the yield as follows:  \n",
    "\n",
    "* **Cell line** - Cell line has an impact on almost every parameter shown. For the purposes of simulation, each cell line will have its own parameters.  \n",
    "    - Microbial cells generally have a high yield and are more robust in processing.\n",
    "    - CHO cells have a much reduced yield and are less robust. Having said that, they are capable of producing much more complex proteins.  \n",
    "    - Humanised cells would be similar to the mammalian cells.\n",
    "* **Bioreactor Size**  - The size of the bioreactor has a great impact on the yield produced because in general, more volume means more cells which means more product. The bioreactor size however reflects the volume of the bioreactor itself. The entire vessel is never full and as a result we will factorise this by making an assumption that it is 60% full. \n",
    "* **Average Temperature / Dissolved Oxygen / No of Alarms** - The average temperature and dissolved oxygen readings have an indirect effect on yield in that their cumulative effect is represented in the number of alarms generated. It is reasonable to expect that in a well controlled process there would be fewer alarms which would in turn mean that the processing occurred nearer the optimal conditions and therefore have greater product yields.  \n",
    "* **Peak Viable Cell Density** - generally more cells mean more product.\n",
    "* **Processing Hours**  \n",
    "    - For Batch / Fed-Batch his relates more to the number of alarms generated, which affects yield.  \n",
    "    - For perfusion cultures this is directly related to yield\n",
    "* **Culture type** - depending on the culture type, how the other factors affect them  \n",
    "    - Batch / Fed-Batch - along with the cell density, the bioreactor size is the most important aspect to simulating the yield. The processing time is not as important.  \n",
    "    - Perfusion - next to cell density, the processing time is the most important attribute as the cells are constantly producing product for most of that time and the times are extended. The bioreactor size is still important however.  \n",
    "\n",
    "Yield calculation of Batch and Fed Batch cultures:  \n",
    "* We assume at the mean cell density we would have a normal distribution with a mean of 8 g/l for Mammalian cells, 7 g/l for Humanised and 10 g/l for microbial cells.   \n",
    "* Multiply the base by the actual cell density / mean expected cell density\n",
    "* Determine the number of alarms / day, if greater than 1.2 (our expected interval from the Poisson Distribution) divide the yield by the alarms per day value.  \n",
    "\n",
    "Yield calculation for Perfusion cultures:  \n",
    "* Add an additional multiplier for perfusion based on the time in bioreactor. As the cell density of a perfusion culture system is much greater than a batch / fed-batch system, the multiplier for time spent in the bioreactor will be and additional 0.1 per day.  \n",
    "\n",
    "The final yield added to the dataset will be in kg so will need to be divided by 1000. We will subsequently round the yield off to two decimal places."
   ]
  },
  {
   "cell_type": "code",
   "execution_count": 20,
   "metadata": {},
   "outputs": [
    {
     "data": {
      "text/plain": [
       "<matplotlib.legend.Legend at 0x2588a17eb70>"
      ]
     },
     "execution_count": 20,
     "metadata": {},
     "output_type": "execute_result"
    },
    {
     "data": {
      "image/png": "[encoded data removed]",
      "text/plain": [
       "<Figure size 1152x432 with 1 Axes>"
      ]
     },
     "metadata": {
      "needs_background": "light"
     },
     "output_type": "display_data"
    }
   ],
   "source": [
    "for dataset in datasets:\n",
    "    # Create an empty list for the values\n",
    "    brYield = []\n",
    "    \n",
    "    # This is our base cell density for each cell line\n",
    "    if dataset.cell_line[0] == \"Microbial\":\n",
    "        cl_multi = 10\n",
    "    elif dataset.cell_line[0] == \"CHO\":\n",
    "        cl_multi = 8\n",
    "    elif dataset.cell_line[0] == \"vCHO\":\n",
    "        cl_multi = 7\n",
    "    \n",
    "    # Create a normal distribution around the base\n",
    "    brYield = np.random.normal(cl_multi, 1, size= 100)\n",
    "\n",
    "    # As we are using a normal distribution - make sure none of our values are below zero. Zero is acceptable.\n",
    "    # Also converting to numpy array as needed for rounding below\n",
    "    brYield = np.asarray(setLimits(brYield, True, False, 0.0, 0.0), dtype=np.float32)\n",
    "\n",
    "    # Iterate over rows with iterrows()\n",
    "    for index, row in dataset.iterrows():\n",
    "        # Set the alarm factor - based on alarms per day\n",
    "        alm_day = row.alarm / row.time\n",
    "        # If there were less than 1.2 alarms per day - there should be no effect\n",
    "        if alm_day < 1.2: alm_day = 1\n",
    "            \n",
    "        # Set the multipliers for each culture type\n",
    "        if row.culture == \"Batch\":\n",
    "            # The actual cell density divided by the mean cell density\n",
    "            # The mean here is the one used to create the Normal Distribution of the cell density\n",
    "            cm_multi = row.cell_density / 4\n",
    "        elif row.culture == \"Fed Batch\":\n",
    "            # As per the batch with the Fed Batch cell density included\n",
    "            cm_multi = row.cell_density / 6\n",
    "        elif row.culture == \"Perfusion\":\n",
    "            # An additional multiplier here to reflect the length of time in the bioreactor\n",
    "            cm_multi = 0.1 * row.time * row.cell_density / 15\n",
    "            \n",
    "        # Change the brYield list to reflect the multipliers\n",
    "        brYield[index] = brYield[index] * row.br_size * 0.6 * cm_multi/ alm_day\n",
    "    \n",
    "    # Convert the g to kg and round the values to 2 decimal places\n",
    "    brYield = list(np.around(np.array(brYield/1000),2))\n",
    "    \n",
    "    # Add the simulated Bioreactor yield data to the dataframe\n",
    "    dataset[\"br_yield\"] =  brYield\n",
    "    \n",
    "    # Plot \n",
    "    plt.hist(brYield, bins = 10, alpha = 0.5)\n",
    "\n",
    "# Label the plot accordingly\n",
    "plt.xlabel(\"Yield (kg))\")\n",
    "plt.ylabel(\"Frequency\")\n",
    "plt.title(\"Product Yield for each Cell Line Type\")\n",
    "plt.legend(dsNames)"
   ]
  },
  {
   "cell_type": "code",
   "execution_count": 21,
   "metadata": {},
   "outputs": [
    {
     "name": "stdout",
     "output_type": "stream",
     "text": [
      "========================================\n",
      "The top 5 Microbial yield values are:\n",
      "\n",
      "    br_size    culture  cell_density  time  alarm    br_yield\n",
      "97     5700  Perfusion            60  38.0     41  526.599976\n",
      "89     9900  Perfusion            56  40.0     79  420.250000\n",
      "99     8400  Fed Batch            24  11.7      0  236.339996\n",
      "35     9400  Fed Batch            28  36.4     37  234.289993\n",
      "95     8600  Fed Batch            24  28.6     19  205.399994\n",
      "\n",
      "The bottom 5 Microbial yield values are:\n",
      "\n",
      "    br_size    culture  cell_density  time  alarm   br_yield\n",
      "1      1500  Fed Batch            20  11.7     52   7.140000\n",
      "79     1900  Perfusion            56   5.0     11   7.530000\n",
      "60     2400      Batch            16   5.0     16  16.290001\n",
      "63     3900  Fed Batch            16   7.8     34  16.740000\n",
      "86      700  Fed Batch            24  10.4      0  16.760000\n",
      "\n",
      "========================================\n",
      "The top 5 Mammalian yield values are:\n",
      "\n",
      "    br_size    culture  cell_density  time  alarm    br_yield\n",
      "35     7100  Perfusion            15  58.0     44  214.740005\n",
      "39     4500  Perfusion            16  77.0     58  189.509995\n",
      "26     5900  Perfusion            16  62.0     76  140.949997\n",
      "91     5400  Perfusion            17  58.0     85  114.129997\n",
      "13     4700  Perfusion            14  70.0    139  100.949997\n",
      "\n",
      "The bottom 5 Mammalian yield values are:\n",
      "\n",
      "    br_size    culture  cell_density  time  alarm  br_yield\n",
      "28     4000      Batch             0  18.0     28      0.00\n",
      "49     5900      Batch             0  45.0      0      0.00\n",
      "90     9800      Batch             0  42.0      0      0.00\n",
      "92      500  Perfusion            15  33.0    135      1.67\n",
      "67     4400      Batch             1  24.0     53      2.18\n",
      "\n",
      "========================================\n",
      "The top 5 Humanised yield values are:\n",
      "\n",
      "    br_size    culture  cell_density   time  alarm    br_yield\n",
      "94     9000  Perfusion            14  102.0      0  395.630005\n",
      "34     5700  Perfusion            15   80.0     84  215.160004\n",
      "36     5500  Perfusion            15   85.0    110  175.919998\n",
      "21     5700  Perfusion            12   85.0     93  142.690002\n",
      "23     4700  Perfusion            17   63.0      0  126.160004\n",
      "\n",
      "The bottom 5 Humanised yield values are:\n",
      "\n",
      "    br_size    culture  cell_density  time  alarm  br_yield\n",
      "26     8300      Batch             0  66.0      0      0.00\n",
      "91      700  Fed Batch             2  19.5     57      0.29\n",
      "65      600      Batch             1   5.0      0      0.53\n",
      "82     3400  Fed Batch             4  28.6    167      1.33\n",
      "63     1100      Batch             1  12.0      0      1.42\n",
      "\n"
     ]
    }
   ],
   "source": [
    "i = 0\n",
    "# Sanity Check\n",
    "for dataset in datasets:\n",
    "    print(\"=\"*40)\n",
    "    # For each dataset\n",
    "    print(\"The top 5 \" + dsNames[i] + \" yield values are:\")\n",
    "    print(\"\")\n",
    "    # Show the top 5 yields of each [18]\n",
    "    print(dataset[[\"br_size\", \"culture\", \"cell_density\", \"time\", \"alarm\", \"br_yield\"]].nlargest(5,\"br_yield\"))\n",
    "    print(\"\")\n",
    "    print(\"The bottom 5 \" + dsNames[i] + \" yield values are:\")\n",
    "    print(\"\")\n",
    "    # And the bottom 5 yields of each\n",
    "    print(dataset[[\"br_size\", \"culture\", \"cell_density\", \"time\", \"alarm\", \"br_yield\"]].nsmallest(5,\"br_yield\"))\n",
    "    print(\"\")\n",
    "    i+=1"
   ]
  },
  {
   "cell_type": "code",
   "execution_count": 22,
   "metadata": {},
   "outputs": [
    {
     "data": {
      "text/plain": [
       "Text(0.5, 1.0, 'Bioreactor Size vs Yield for Each Culture Type')"
      ]
     },
     "execution_count": 22,
     "metadata": {},
     "output_type": "execute_result"
    },
    {
     "data": {
      "image/png": "[encoded data removed]",
      "text/plain": [
       "<Figure size 1152x432 with 1 Axes>"
      ]
     },
     "metadata": {
      "needs_background": "light"
     },
     "output_type": "display_data"
    }
   ],
   "source": [
    "# Plotting the total yield against the processing time for Batch\n",
    "plt.plot(dfMicro.br_yield[dfMicro.culture == \"Batch\"],dfMicro.br_size[dfMicro.culture == \"Batch\"], \"bo\", label=\"Colour = Batch (Shape = Microbial)\")\n",
    "plt.plot(dfMam.br_yield[dfMam.culture == \"Batch\"],dfMam.br_size[dfMam.culture == \"Batch\"], \"b*\")\n",
    "plt.plot(dfHum.br_yield[dfHum.culture == \"Batch\"],dfHum.br_size[dfHum.culture == \"Batch\"], \"b^\")\n",
    "\n",
    "# Plotting the total alarms against the processing time for Fed Batch\n",
    "plt.plot(dfMicro.br_yield[dfMicro.culture == \"Fed Batch\"],dfMicro.br_size[dfMicro.culture == \"Fed Batch\"], \"mo\")\n",
    "plt.plot(dfMam.br_yield[dfMam.culture == \"Fed Batch\"],dfMam.br_size[dfMam.culture == \"Fed Batch\"], \"m*\", label=\"Colour = Fed Batch (Shape = Mammalian)\")\n",
    "plt.plot(dfHum.br_yield[dfHum.culture == \"Fed Batch\"],dfHum.br_size[dfHum.culture == \"Fed Batch\"], \"m^\")\n",
    "\n",
    "# Plotting the total alarms against the processing time for Perfusion\n",
    "plt.plot(dfMicro.br_yield[dfMicro.culture == \"Perfusion\"],dfMicro.br_size[dfMicro.culture == \"Perfusion\"], \"go\")\n",
    "plt.plot(dfMam.br_yield[dfMam.culture == \"Perfusion\"],dfMam.br_size[dfMam.culture == \"Perfusion\"], \"g*\")\n",
    "plt.plot(dfHum.br_yield[dfHum.culture == \"Perfusion\"],dfHum.br_size[dfHum.culture == \"Perfusion\"], \"g^\", label=\"Colour = Perfusion (Shape = Humanised)\")\n",
    "\n",
    "# Adding the info to the plot\n",
    "plt.legend()\n",
    "plt.xlabel(\"Yield\")\n",
    "plt.ylabel(\"Bioreactor Size\")\n",
    "plt.title(\"Bioreactor Size vs Yield for Each Culture Type\")"
   ]
  },
  {
   "cell_type": "markdown",
   "metadata": {},
   "source": [
    "### <a name=\"worth\"></a>2.10 Net Worth of Batch  \n",
    "Biopharmaceuticals are an expensive commodity [[16](#16)] used to treat many different diseases. According to the Australian Government [[19](#19)] the Dec 2019 average cost per gram of (a subset of 32) biopharmaceuticals was just over AU\\\\$60K.  \n",
    "\n",
    "This broke down to:  \n",
    "* Microbial: min AU\\\\$6.14; max AU\\\\$3207; mean AU\\\\$911\n",
    "* Mammalian: min AU\\\\$1833; max AU\\\\$607479; mean AU\\\\$44913\n",
    "* Humanised: min AU\\\\$1019; max AU\\\\$949500; mean: AU\\\\$127602\n",
    "\n",
    "The reason for the big spread of microbial prices is due to the nature of products produced from the lower value anitbiotics to the higher end mAb fragments.  \n",
    "\n",
    "The humanised average is skewed heavily to the right due to a single outlier, Lemtrada, used to treat CLL and MS which worked out at close to one million dollars per gram.  \n",
    "\n",
    "Similarly, the mammalian average is skewed to the right due to Lucentis, priced at over AU\\\\$600,000 per gram.\n",
    "\n",
    "For the purposes of this simulation, we will exclude the two outliers from the mammaial and humanised price lists and base all other pricing on a uniform distribution per cell line as follows:  \n",
    "* Microbial: \n",
    "    - Min AU\\\\$6.14  \n",
    "    - Max AU\\\\$3207\n",
    "* Mammalian:  \n",
    "    - Min AU\\\\$1833\n",
    "    - Max AU\\\\$37046\n",
    "* Humanised:\n",
    "    - Min AU\\\\$1019\n",
    "    - Max AU\\\\$110367  \n",
    "\n"
   ]
  },
  {
   "cell_type": "code",
   "execution_count": null,
   "metadata": {},
   "outputs": [],
   "source": []
  },
  {
   "cell_type": "markdown",
   "metadata": {},
   "source": [
    "## <a name=\"finish\"></a>3. Finishing Off the Dataset"
   ]
  },
  {
   "cell_type": "code",
   "execution_count": 23,
   "metadata": {},
   "outputs": [],
   "source": [
    "# Code to mix up the dataframe\n",
    "#df = df.sample(frac=1).reset_index(drop=True)"
   ]
  },
  {
   "cell_type": "markdown",
   "metadata": {},
   "source": [
    "## <a name=\"describe\"></a>4. Describe New Dataset  \n"
   ]
  },
  {
   "cell_type": "markdown",
   "metadata": {},
   "source": [
    "## <a name=\"conclusion\"></a>5. Conclusion"
   ]
  },
  {
   "cell_type": "markdown",
   "metadata": {},
   "source": [
    "###### <a name=\"refs\"></a>6. References ##\n",
    "1. [NumPy Site](http://www.numpy.org/)  <a name = \"1\"></a>  \n",
    "2. [Project Jupyter](http://jupyter.org/) <a name = \"2\"></a>  \n",
    "3. [I. Watanabe , S. Okada Effects of Temperature on Growth Rate of Cultured Mammalian Cells (L5178Y), J Cell Biol (1967) 32 (2): 309-323](http://jcb.rupress.org/content/jcb/32/2/309.full.pdf)<a name = \"3\"></a>  \n",
    "4. [Felipe Tapia, Daniel Vázquez-Ramírez, Yvonne Genzel, Udo Reichl  Bioreactors for high cell density and continuous multi-stage cultivations: options for process intensification in cell culture-based viral vaccine production, Appl Microbiol Biotechnol. 2016; 100: 2121–2132. Published online 2016 Jan 13. doi: 10.1007/s00253-015-7267-9](https://www.ncbi.nlm.nih.gov/pmc/articles/PMC4756030/) <a name = \"4\"></a>  \n",
    "5. [GE Life Sciences: 7 Factors that Affect Oxygen Transfer](https://www.gelifesciences.com/en/us/solutions/bioprocessing/knowledge-center/7-factors-that-affect-oxygen-transfer-to-cells-in-bioreactors) <a name = \"5\"></a>  \n",
    "6. [Python and R Tips: How To Loop Through Pandas Rows? or How To Iterate Over Pandas Rows?](https://cmdlinetips.com/2018/12/how-to-loop-through-pandas-rows-or-how-to-iterate-over-pandas-rows/) <a name = \"6\"></a>  \n",
    "7. [Brooks Instrument - Boosting Bioreactor Performance by Enhancing MFC accuracy](https://www.brooksinstrument.com/en/blog/boosting-bioreactor-performance-by-enhancing-mfc-accuracy)<a name = \"7\"></a>  \n",
    "8. [Wikipedia - Chinese Hamster Ovary Cell](https://en.wikipedia.org/wiki/Chinese_hamster_ovary_cell)<a name = \"8\"></a>   \n",
    "9. [Stack Overflow: How to Make Two Plots Side by Side](https://stackoverflow.com/questions/42818361/how-to-make-two-plots-side-by-side-using-python)<a name = \"9\"></a>  \n",
    "10. [Stack Overflow: Shuffle Dataframe Rows](https://stackoverflow.com/questions/29576430/shuffle-dataframe-rows) <a name = \"10\"></a>  \n",
    "11. [Scipy Docs: Z-Scores](https://docs.scipy.org/doc/scipy-0.14.0/reference/generated/scipy.stats.zscore.html)<a name = \"11\"></a>  \n",
    "12. [Geeks for Geeks: Python Converting all Strings in List to Integers](https://www.geeksforgeeks.org/python-converting-all-strings-in-list-to-integers/)<a name = \"12\"></a>  \n",
    "13. Trevor J. Marshall, Yvonne A. Brady, Chapter 30 - Process Control and Automation Solutions, Editor(s): Günter Jagschies, Eva Lindskog, Karol Łącki, Parrish Galliher, Biopharmaceutical Processing, Elsevier, 2018, Pages 579-621 <a name = \"13\"> </a>  \n",
    "14. [Spadiut O, Capone S, Krainer F, Glieder A, Herwig C. Microbials for the production of monoclonal antibodies and antibody fragments. Trends Biotechnol. 2014;32(1):54–60. doi:10.1016/j.tibtech.2013.10.002](https://www.ncbi.nlm.nih.gov/pmc/articles/PMC3906537/) <a name = \"14\"> </a>  \n",
    "15. [Kelley B. Industrialization of mAb production technology: the bioprocessing industry at a crossroads. MAbs. 2009;1(5):443–452. doi:10.4161/mabs.1.5.9448](https://www.ncbi.nlm.nih.gov/pmc/articles/PMC2759494/) <a name = \"15\"></a>  \n",
    "16. [Inmaculada Hernandez, PharmD, PhD; Samuel W. Bott, BS; Anish S. Patel, BS; Collin G. Wolf, BS; Alexa R. Hospodar, BS;\n",
    "Shivani Sampathkumar, BS; and William H. Shrank, MD, Pricing of Monoclonal Antibody Therapies: Higher If Used for Cancer? MSHSAm J Manag Care. 2018;24(2):109-112](https://ajmc.s3.amazonaws.com/_media/_pdf/AJMC_02_2018_Hernandez%20final.pdf) <a name =\"16\"></a>  \n",
    "17. [Ou J, Si Y, Goh K, Yasui N, Guo Y, Song J, et al. (2018) Bioprocess development of antibody-drug conjugate production for cancer treatment. PLoS ONE 13(10): e0206246](https://journals.plos.org/plosone/article?id=10.1371/journal.pone.0206246) <a name =\"17\"></a>  \n",
    "18. [Dario Radečić, Towards Data Science: Top 3 Pandas Functions You Don't Know About Probably](https://towardsdatascience.com/top-3-pandas-functions-you-dont-know-about-probably-5ae9e1c964c8) <a name =\"18\"></a>  \n",
    "19. [Pbs.gov.au. (2019). Pharmaceutical Benefits Scheme (PBS) | Ex-manufacturer price. [online] Available at: http://www.pbs.gov.au/info/industry/pricing/ex-manufacturer-price [Accessed 9 Dec. 2019].](http://www.pbs.gov.au/industry/pricing/ex-manufacturer-price/2019/ex-manufactrer-prices-non-efc-2019-12-02.XLSX) <a name =\"19\"></a>  \n",
    "20. []() <a name =\"20\"></a>  "
   ]
  },
  {
   "cell_type": "code",
   "execution_count": null,
   "metadata": {},
   "outputs": [],
   "source": []
  }
 ],
 "metadata": {
  "kernelspec": {
   "display_name": "Python 3",
   "language": "python",
   "name": "python3"
  },
  "language_info": {
   "codemirror_mode": {
    "name": "ipython",
    "version": 3
   },
   "file_extension": ".py",
   "mimetype": "text/x-python",
   "name": "python",
   "nbconvert_exporter": "python",
   "pygments_lexer": "ipython3",
   "version": "3.7.3"
  }
 },
 "nbformat": 4,
 "nbformat_minor": 2
}
